{
  "nbformat": 4,
  "nbformat_minor": 0,
  "metadata": {
    "colab": {
      "provenance": [],
      "authorship_tag": "ABX9TyNQPJL32KJJBiiQtHYX7nPJ",
      "include_colab_link": true
    },
    "kernelspec": {
      "name": "python3",
      "display_name": "Python 3"
    },
    "language_info": {
      "name": "python"
    }
  },
  "cells": [
    {
      "cell_type": "markdown",
      "metadata": {
        "id": "view-in-github",
        "colab_type": "text"
      },
      "source": [
        "<a href=\"https://colab.research.google.com/github/adi-bhatl-1998/fastai_practice/blob/main/3_and_7_chpter4.ipynb\" target=\"_parent\"><img src=\"https://colab.research.google.com/assets/colab-badge.svg\" alt=\"Open In Colab\"/></a>"
      ]
    },
    {
      "cell_type": "code",
      "execution_count": 1,
      "metadata": {
        "colab": {
          "base_uri": "https://localhost:8080/"
        },
        "id": "-CKP80FAuWRC",
        "outputId": "4a782ffa-5cf8-4d71-c74c-2e922cdcba53"
      },
      "outputs": [
        {
          "output_type": "stream",
          "name": "stdout",
          "text": [
            "\u001b[2K     \u001b[90m━━━━━━━━━━━━━━━━━━━━━━━━━━━━━━━━━━━━━━\u001b[0m \u001b[32m719.8/719.8 kB\u001b[0m \u001b[31m10.3 MB/s\u001b[0m eta \u001b[36m0:00:00\u001b[0m\n",
            "\u001b[2K     \u001b[90m━━━━━━━━━━━━━━━━━━━━━━━━━━━━━━━━━━━━━━━━\u001b[0m \u001b[32m7.1/7.1 MB\u001b[0m \u001b[31m63.6 MB/s\u001b[0m eta \u001b[36m0:00:00\u001b[0m\n",
            "\u001b[2K     \u001b[90m━━━━━━━━━━━━━━━━━━━━━━━━━━━━━━━━━━━━━━\u001b[0m \u001b[32m474.6/474.6 kB\u001b[0m \u001b[31m24.5 MB/s\u001b[0m eta \u001b[36m0:00:00\u001b[0m\n",
            "\u001b[2K     \u001b[90m━━━━━━━━━━━━━━━━━━━━━━━━━━━━━━━━━━━━━━━━\u001b[0m \u001b[32m1.3/1.3 MB\u001b[0m \u001b[31m40.5 MB/s\u001b[0m eta \u001b[36m0:00:00\u001b[0m\n",
            "\u001b[2K     \u001b[90m━━━━━━━━━━━━━━━━━━━━━━━━━━━━━━━━━━━━━━━\u001b[0m \u001b[32m110.5/110.5 kB\u001b[0m \u001b[31m5.9 MB/s\u001b[0m eta \u001b[36m0:00:00\u001b[0m\n",
            "\u001b[2K     \u001b[90m━━━━━━━━━━━━━━━━━━━━━━━━━━━━━━━━━━━━━━\u001b[0m \u001b[32m212.5/212.5 kB\u001b[0m \u001b[31m19.9 MB/s\u001b[0m eta \u001b[36m0:00:00\u001b[0m\n",
            "\u001b[2K     \u001b[90m━━━━━━━━━━━━━━━━━━━━━━━━━━━━━━━━━━━━━━\u001b[0m \u001b[32m134.3/134.3 kB\u001b[0m \u001b[31m14.6 MB/s\u001b[0m eta \u001b[36m0:00:00\u001b[0m\n",
            "\u001b[2K     \u001b[90m━━━━━━━━━━━━━━━━━━━━━━━━━━━━━━━━━━━━━━━━\u001b[0m \u001b[32m1.0/1.0 MB\u001b[0m \u001b[31m40.6 MB/s\u001b[0m eta \u001b[36m0:00:00\u001b[0m\n",
            "\u001b[2K     \u001b[90m━━━━━━━━━━━━━━━━━━━━━━━━━━━━━━━━━━━━━━\u001b[0m \u001b[32m224.5/224.5 kB\u001b[0m \u001b[31m20.9 MB/s\u001b[0m eta \u001b[36m0:00:00\u001b[0m\n",
            "\u001b[2K     \u001b[90m━━━━━━━━━━━━━━━━━━━━━━━━━━━━━━━━━━━━━━━━\u001b[0m \u001b[32m7.8/7.8 MB\u001b[0m \u001b[31m95.9 MB/s\u001b[0m eta \u001b[36m0:00:00\u001b[0m\n",
            "\u001b[2K     \u001b[90m━━━━━━━━━━━━━━━━━━━━━━━━━━━━━━━━━━━━━━\u001b[0m \u001b[32m114.5/114.5 kB\u001b[0m \u001b[31m10.5 MB/s\u001b[0m eta \u001b[36m0:00:00\u001b[0m\n",
            "\u001b[2K     \u001b[90m━━━━━━━━━━━━━━━━━━━━━━━━━━━━━━━━━━━━━━\u001b[0m \u001b[32m268.8/268.8 kB\u001b[0m \u001b[31m21.2 MB/s\u001b[0m eta \u001b[36m0:00:00\u001b[0m\n",
            "\u001b[2K     \u001b[90m━━━━━━━━━━━━━━━━━━━━━━━━━━━━━━━━━━━━━━\u001b[0m \u001b[32m149.6/149.6 kB\u001b[0m \u001b[31m13.9 MB/s\u001b[0m eta \u001b[36m0:00:00\u001b[0m\n",
            "\u001b[2K     \u001b[90m━━━━━━━━━━━━━━━━━━━━━━━━━━━━━━━━━━━━━━━━\u001b[0m \u001b[32m1.6/1.6 MB\u001b[0m \u001b[31m68.2 MB/s\u001b[0m eta \u001b[36m0:00:00\u001b[0m\n",
            "\u001b[?25hMounted at /content/gdrive\n"
          ]
        }
      ],
      "source": [
        "#hide\n",
        "! [ -e /content ] && pip install -Uqq fastbook\n",
        "import fastbook\n",
        "fastbook.setup_book()"
      ]
    },
    {
      "cell_type": "code",
      "source": [
        "#hide\n",
        "from fastai.vision.all import *\n",
        "from fastbook import *\n",
        "\n",
        "matplotlib.rc('image', cmap='Greys')"
      ],
      "metadata": {
        "id": "IgxbszNxubbj"
      },
      "execution_count": 2,
      "outputs": []
    },
    {
      "cell_type": "code",
      "source": [
        "path=untar_data(URLs.MNIST_SAMPLE)"
      ],
      "metadata": {
        "colab": {
          "base_uri": "https://localhost:8080/",
          "height": 37
        },
        "id": "IZlu7X5Sx2Zj",
        "outputId": "126aa0a3-6bd6-4256-8a42-8f084c172bf5"
      },
      "execution_count": 3,
      "outputs": [
        {
          "output_type": "display_data",
          "data": {
            "text/plain": [
              "<IPython.core.display.HTML object>"
            ],
            "text/html": [
              "\n",
              "<style>\n",
              "    /* Turns off some styling */\n",
              "    progress {\n",
              "        /* gets rid of default border in Firefox and Opera. */\n",
              "        border: none;\n",
              "        /* Needs to be in here for Safari polyfill so background images work as expected. */\n",
              "        background-size: auto;\n",
              "    }\n",
              "    progress:not([value]), progress:not([value])::-webkit-progress-bar {\n",
              "        background: repeating-linear-gradient(45deg, #7e7e7e, #7e7e7e 10px, #5c5c5c 10px, #5c5c5c 20px);\n",
              "    }\n",
              "    .progress-bar-interrupted, .progress-bar-interrupted::-webkit-progress-bar {\n",
              "        background: #F44336;\n",
              "    }\n",
              "</style>\n"
            ]
          },
          "metadata": {}
        },
        {
          "output_type": "display_data",
          "data": {
            "text/plain": [
              "<IPython.core.display.HTML object>"
            ],
            "text/html": [
              "\n",
              "    <div>\n",
              "      <progress value='3219456' class='' max='3214948' style='width:300px; height:20px; vertical-align: middle;'></progress>\n",
              "      100.14% [3219456/3214948 00:00&lt;00:00]\n",
              "    </div>\n",
              "    "
            ]
          },
          "metadata": {}
        }
      ]
    },
    {
      "cell_type": "code",
      "source": [
        "Path.BASE_PATH=path"
      ],
      "metadata": {
        "id": "nnnLOJ1Kx-J2"
      },
      "execution_count": 4,
      "outputs": []
    },
    {
      "cell_type": "code",
      "source": [
        "path.ls()"
      ],
      "metadata": {
        "colab": {
          "base_uri": "https://localhost:8080/"
        },
        "id": "jYfm-Q4zyLIz",
        "outputId": "12d8b0d6-ef3b-41cf-e9ce-d6814e7a7002"
      },
      "execution_count": 5,
      "outputs": [
        {
          "output_type": "execute_result",
          "data": {
            "text/plain": [
              "(#3) [Path('train'),Path('valid'),Path('labels.csv')]"
            ]
          },
          "metadata": {},
          "execution_count": 5
        }
      ]
    },
    {
      "cell_type": "code",
      "source": [
        "(path/'train').ls()"
      ],
      "metadata": {
        "colab": {
          "base_uri": "https://localhost:8080/"
        },
        "id": "Crj_kzSayOgM",
        "outputId": "5bb84f9f-ce45-4815-b905-41facedd0753"
      },
      "execution_count": 6,
      "outputs": [
        {
          "output_type": "execute_result",
          "data": {
            "text/plain": [
              "(#2) [Path('train/7'),Path('train/3')]"
            ]
          },
          "metadata": {},
          "execution_count": 6
        }
      ]
    },
    {
      "cell_type": "code",
      "source": [
        "threes = (path/'train/3').ls().sorted()\n",
        "sevens=(path/'train/7').ls().sorted()\n",
        "threes"
      ],
      "metadata": {
        "colab": {
          "base_uri": "https://localhost:8080/"
        },
        "id": "d0fFGDr60hUU",
        "outputId": "7206313b-9f77-4435-b018-4ccf6e162d24"
      },
      "execution_count": 7,
      "outputs": [
        {
          "output_type": "execute_result",
          "data": {
            "text/plain": [
              "(#6131) [Path('train/3/10.png'),Path('train/3/10000.png'),Path('train/3/10011.png'),Path('train/3/10031.png'),Path('train/3/10034.png'),Path('train/3/10042.png'),Path('train/3/10052.png'),Path('train/3/1007.png'),Path('train/3/10074.png'),Path('train/3/10091.png')...]"
            ]
          },
          "metadata": {},
          "execution_count": 7
        }
      ]
    },
    {
      "cell_type": "code",
      "source": [
        "img_3_path=threes[1]\n",
        "img=Image.open(img_3_path)\n",
        "img"
      ],
      "metadata": {
        "colab": {
          "base_uri": "https://localhost:8080/",
          "height": 45
        },
        "id": "yl87gtE-1QcV",
        "outputId": "b25582cc-90c1-4498-acd3-753431bcb937"
      },
      "execution_count": 8,
      "outputs": [
        {
          "output_type": "execute_result",
          "data": {
            "text/plain": [
              "<PIL.PngImagePlugin.PngImageFile image mode=L size=28x28>"
            ],
            "image/png": "[encoded data removed]"
          },
          "metadata": {},
          "execution_count": 8
        }
      ]
    },
    {
      "cell_type": "code",
      "source": [
        "array(img)[4:10,4:20]"
      ],
      "metadata": {
        "colab": {
          "base_uri": "https://localhost:8080/"
        },
        "id": "s6B3xRur1bx5",
        "outputId": "a7082703-51e5-4e68-e615-92ca39db0eb5"
      },
      "execution_count": 9,
      "outputs": [
        {
          "output_type": "execute_result",
          "data": {
            "text/plain": [
              "array([[  0,   0,   0,   0,   0,   0,   0,   0,   0,   0,   0,   0,   0,   0,   0,   0],\n",
              "       [  0,   0,   0,   0,   0,  29, 150, 195, 254, 255, 254, 176, 193, 150,  96,   0],\n",
              "       [  0,   0,   0,  48, 166, 224, 253, 253, 234, 196, 253, 253, 253, 253, 233,   0],\n",
              "       [  0,  93, 244, 249, 253, 187,  46,  10,   8,   4,  10, 194, 253, 253, 233,   0],\n",
              "       [  0, 107, 253, 253, 230,  48,   0,   0,   0,   0,   0, 192, 253, 253, 156,   0],\n",
              "       [  0,   3,  20,  20,  15,   0,   0,   0,   0,   0,  43, 224, 253, 245,  74,   0]], dtype=uint8)"
            ]
          },
          "metadata": {},
          "execution_count": 9
        }
      ]
    },
    {
      "cell_type": "code",
      "source": [
        "tensor(img)[4:10,4:20]\n",
        "tensor(img).shape"
      ],
      "metadata": {
        "colab": {
          "base_uri": "https://localhost:8080/"
        },
        "id": "yU8jssdE31xX",
        "outputId": "dd3a000e-4e93-4f92-dc69-947707653f05"
      },
      "execution_count": 10,
      "outputs": [
        {
          "output_type": "execute_result",
          "data": {
            "text/plain": [
              "torch.Size([28, 28])"
            ]
          },
          "metadata": {},
          "execution_count": 10
        }
      ]
    },
    {
      "cell_type": "code",
      "source": [
        "import pandas as pd \n",
        "im3_t=tensor(img)\n",
        "df = pd.DataFrame(im3_t[4:15,4:22])\n",
        "df1=pd.DataFrame(im3_t)\n",
        "print(df)\n",
        "df.style.set_properties(**{'font-size':'6pt'}).background_gradient('Blues')\n",
        "df1.style.set_properties(**{'font-size':'6pt'}).background_gradient('Blues')"
      ],
      "metadata": {
        "colab": {
          "base_uri": "https://localhost:8080/",
          "height": 1000
        },
        "id": "zx_OUuP14ItO",
        "outputId": "e9322f13-2e52-4941-9dc0-cfd8d83e1ad9"
      },
      "execution_count": 11,
      "outputs": [
        {
          "output_type": "stream",
          "name": "stdout",
          "text": [
            "    0    1    2    3    4    5    6    7    8    9    10   11   12   13   14  \\\n",
            "0    0    0    0    0    0    0    0    0    0    0    0    0    0    0    0   \n",
            "1    0    0    0    0    0   29  150  195  254  255  254  176  193  150   96   \n",
            "2    0    0    0   48  166  224  253  253  234  196  253  253  253  253  233   \n",
            "3    0   93  244  249  253  187   46   10    8    4   10  194  253  253  233   \n",
            "4    0  107  253  253  230   48    0    0    0    0    0  192  253  253  156   \n",
            "5    0    3   20   20   15    0    0    0    0    0   43  224  253  245   74   \n",
            "6    0    0    0    0    0    0    0    0    0    0  249  253  245  126    0   \n",
            "7    0    0    0    0    0    0    0   14  101  223  253  248  124    0    0   \n",
            "8    0    0    0    0    0   11  166  239  253  253  253  187   30    0    0   \n",
            "9    0    0    0    0    0   16  248  250  253  253  253  253  232  213  111   \n",
            "10   0    0    0    0    0    0    0   43   98   98  208  253  253  253  253   \n",
            "\n",
            "     15  16  17  \n",
            "0     0   0   0  \n",
            "1     0   0   0  \n",
            "2     0   0   0  \n",
            "3     0   0   0  \n",
            "4     0   0   0  \n",
            "5     0   0   0  \n",
            "6     0   0   0  \n",
            "7     0   0   0  \n",
            "8     0   0   0  \n",
            "9     2   0   0  \n",
            "10  187  22   0  \n"
          ]
        },
        {
          "output_type": "execute_result",
          "data": {
            "text/plain": [
              "<pandas.io.formats.style.Styler at 0x7f011a234e50>"
            ],
            "text/html": [
              "<style type=\"text/css\">\n",
              "#T_3e9ff_row0_col0, #T_3e9ff_row0_col1, #T_3e9ff_row0_col2, #T_3e9ff_row0_col3, #T_3e9ff_row0_col4, #T_3e9ff_row0_col5, #T_3e9ff_row0_col6, #T_3e9ff_row0_col7, #T_3e9ff_row0_col8, #T_3e9ff_row0_col9, #T_3e9ff_row0_col10, #T_3e9ff_row0_col11, #T_3e9ff_row0_col12, #T_3e9ff_row0_col13, #T_3e9ff_row0_col14, #T_3e9ff_row0_col15, #T_3e9ff_row0_col16, #T_3e9ff_row0_col17, #T_3e9ff_row0_col18, #T_3e9ff_row0_col19, #T_3e9ff_row0_col20, #T_3e9ff_row0_col21, #T_3e9ff_row0_col22, #T_3e9ff_row0_col23, #T_3e9ff_row0_col24, #T_3e9ff_row0_col25, #T_3e9ff_row0_col26, #T_3e9ff_row0_col27, #T_3e9ff_row1_col0, #T_3e9ff_row1_col1, #T_3e9ff_row1_col2, #T_3e9ff_row1_col3, #T_3e9ff_row1_col4, #T_3e9ff_row1_col5, #T_3e9ff_row1_col6, #T_3e9ff_row1_col7, #T_3e9ff_row1_col8, #T_3e9ff_row1_col9, #T_3e9ff_row1_col10, #T_3e9ff_row1_col11, #T_3e9ff_row1_col12, #T_3e9ff_row1_col13, #T_3e9ff_row1_col14, #T_3e9ff_row1_col15, #T_3e9ff_row1_col16, #T_3e9ff_row1_col17, #T_3e9ff_row1_col18, #T_3e9ff_row1_col19, #T_3e9ff_row1_col20, #T_3e9ff_row1_col21, #T_3e9ff_row1_col22, #T_3e9ff_row1_col23, #T_3e9ff_row1_col24, #T_3e9ff_row1_col25, #T_3e9ff_row1_col26, #T_3e9ff_row1_col27, #T_3e9ff_row2_col0, #T_3e9ff_row2_col1, #T_3e9ff_row2_col2, #T_3e9ff_row2_col3, #T_3e9ff_row2_col4, #T_3e9ff_row2_col5, #T_3e9ff_row2_col6, #T_3e9ff_row2_col7, #T_3e9ff_row2_col8, #T_3e9ff_row2_col9, #T_3e9ff_row2_col10, #T_3e9ff_row2_col11, #T_3e9ff_row2_col12, #T_3e9ff_row2_col13, #T_3e9ff_row2_col14, #T_3e9ff_row2_col15, #T_3e9ff_row2_col16, #T_3e9ff_row2_col17, #T_3e9ff_row2_col18, #T_3e9ff_row2_col19, #T_3e9ff_row2_col20, #T_3e9ff_row2_col21, #T_3e9ff_row2_col22, #T_3e9ff_row2_col23, #T_3e9ff_row2_col24, #T_3e9ff_row2_col25, #T_3e9ff_row2_col26, #T_3e9ff_row2_col27, #T_3e9ff_row3_col0, #T_3e9ff_row3_col1, #T_3e9ff_row3_col2, #T_3e9ff_row3_col3, #T_3e9ff_row3_col4, #T_3e9ff_row3_col5, #T_3e9ff_row3_col6, #T_3e9ff_row3_col7, #T_3e9ff_row3_col8, #T_3e9ff_row3_col9, #T_3e9ff_row3_col10, #T_3e9ff_row3_col11, #T_3e9ff_row3_col12, #T_3e9ff_row3_col13, #T_3e9ff_row3_col14, #T_3e9ff_row3_col15, #T_3e9ff_row3_col16, #T_3e9ff_row3_col17, #T_3e9ff_row3_col18, #T_3e9ff_row3_col19, #T_3e9ff_row3_col20, #T_3e9ff_row3_col21, #T_3e9ff_row3_col22, #T_3e9ff_row3_col23, #T_3e9ff_row3_col24, #T_3e9ff_row3_col25, #T_3e9ff_row3_col26, #T_3e9ff_row3_col27, #T_3e9ff_row4_col0, #T_3e9ff_row4_col1, #T_3e9ff_row4_col2, #T_3e9ff_row4_col3, #T_3e9ff_row4_col4, #T_3e9ff_row4_col5, #T_3e9ff_row4_col6, #T_3e9ff_row4_col7, #T_3e9ff_row4_col8, #T_3e9ff_row4_col9, #T_3e9ff_row4_col10, #T_3e9ff_row4_col11, #T_3e9ff_row4_col12, #T_3e9ff_row4_col13, #T_3e9ff_row4_col14, #T_3e9ff_row4_col15, #T_3e9ff_row4_col16, #T_3e9ff_row4_col17, #T_3e9ff_row4_col18, #T_3e9ff_row4_col19, #T_3e9ff_row4_col20, #T_3e9ff_row4_col21, #T_3e9ff_row4_col22, #T_3e9ff_row4_col23, #T_3e9ff_row4_col24, #T_3e9ff_row4_col25, #T_3e9ff_row4_col26, #T_3e9ff_row4_col27, #T_3e9ff_row5_col0, #T_3e9ff_row5_col1, #T_3e9ff_row5_col2, #T_3e9ff_row5_col3, #T_3e9ff_row5_col4, #T_3e9ff_row5_col5, #T_3e9ff_row5_col6, #T_3e9ff_row5_col7, #T_3e9ff_row5_col8, #T_3e9ff_row5_col19, #T_3e9ff_row5_col20, #T_3e9ff_row5_col21, #T_3e9ff_row5_col22, #T_3e9ff_row5_col23, #T_3e9ff_row5_col24, #T_3e9ff_row5_col25, #T_3e9ff_row5_col26, #T_3e9ff_row5_col27, #T_3e9ff_row6_col0, #T_3e9ff_row6_col1, #T_3e9ff_row6_col2, #T_3e9ff_row6_col3, #T_3e9ff_row6_col4, #T_3e9ff_row6_col5, #T_3e9ff_row6_col6, #T_3e9ff_row6_col19, #T_3e9ff_row6_col20, #T_3e9ff_row6_col21, #T_3e9ff_row6_col22, #T_3e9ff_row6_col23, #T_3e9ff_row6_col24, #T_3e9ff_row6_col25, #T_3e9ff_row6_col26, #T_3e9ff_row6_col27, #T_3e9ff_row7_col0, #T_3e9ff_row7_col1, #T_3e9ff_row7_col2, #T_3e9ff_row7_col3, #T_3e9ff_row7_col4, #T_3e9ff_row7_col19, #T_3e9ff_row7_col20, #T_3e9ff_row7_col21, #T_3e9ff_row7_col22, #T_3e9ff_row7_col23, #T_3e9ff_row7_col24, #T_3e9ff_row7_col25, #T_3e9ff_row7_col26, #T_3e9ff_row7_col27, #T_3e9ff_row8_col0, #T_3e9ff_row8_col1, #T_3e9ff_row8_col2, #T_3e9ff_row8_col3, #T_3e9ff_row8_col4, #T_3e9ff_row8_col10, #T_3e9ff_row8_col11, #T_3e9ff_row8_col12, #T_3e9ff_row8_col13, #T_3e9ff_row8_col14, #T_3e9ff_row8_col19, #T_3e9ff_row8_col20, #T_3e9ff_row8_col21, #T_3e9ff_row8_col22, #T_3e9ff_row8_col23, #T_3e9ff_row8_col24, #T_3e9ff_row8_col25, #T_3e9ff_row8_col26, #T_3e9ff_row8_col27, #T_3e9ff_row9_col0, #T_3e9ff_row9_col1, #T_3e9ff_row9_col2, #T_3e9ff_row9_col3, #T_3e9ff_row9_col4, #T_3e9ff_row9_col9, #T_3e9ff_row9_col10, #T_3e9ff_row9_col11, #T_3e9ff_row9_col12, #T_3e9ff_row9_col13, #T_3e9ff_row9_col19, #T_3e9ff_row9_col20, #T_3e9ff_row9_col21, #T_3e9ff_row9_col22, #T_3e9ff_row9_col23, #T_3e9ff_row9_col24, #T_3e9ff_row9_col25, #T_3e9ff_row9_col26, #T_3e9ff_row9_col27, #T_3e9ff_row10_col0, #T_3e9ff_row10_col1, #T_3e9ff_row10_col2, #T_3e9ff_row10_col3, #T_3e9ff_row10_col4, #T_3e9ff_row10_col5, #T_3e9ff_row10_col6, #T_3e9ff_row10_col7, #T_3e9ff_row10_col8, #T_3e9ff_row10_col9, #T_3e9ff_row10_col10, #T_3e9ff_row10_col11, #T_3e9ff_row10_col12, #T_3e9ff_row10_col13, #T_3e9ff_row10_col18, #T_3e9ff_row10_col19, #T_3e9ff_row10_col20, #T_3e9ff_row10_col21, #T_3e9ff_row10_col22, #T_3e9ff_row10_col23, #T_3e9ff_row10_col24, #T_3e9ff_row10_col25, #T_3e9ff_row10_col26, #T_3e9ff_row10_col27, #T_3e9ff_row11_col0, #T_3e9ff_row11_col1, #T_3e9ff_row11_col2, #T_3e9ff_row11_col3, #T_3e9ff_row11_col4, #T_3e9ff_row11_col5, #T_3e9ff_row11_col6, #T_3e9ff_row11_col7, #T_3e9ff_row11_col8, #T_3e9ff_row11_col9, #T_3e9ff_row11_col10, #T_3e9ff_row11_col17, #T_3e9ff_row11_col18, #T_3e9ff_row11_col19, #T_3e9ff_row11_col20, #T_3e9ff_row11_col21, #T_3e9ff_row11_col22, #T_3e9ff_row11_col23, #T_3e9ff_row11_col24, #T_3e9ff_row11_col25, #T_3e9ff_row11_col26, #T_3e9ff_row11_col27, #T_3e9ff_row12_col0, #T_3e9ff_row12_col1, #T_3e9ff_row12_col2, #T_3e9ff_row12_col3, #T_3e9ff_row12_col4, #T_3e9ff_row12_col5, #T_3e9ff_row12_col6, #T_3e9ff_row12_col7, #T_3e9ff_row12_col8, #T_3e9ff_row12_col17, #T_3e9ff_row12_col18, #T_3e9ff_row12_col19, #T_3e9ff_row12_col20, #T_3e9ff_row12_col21, #T_3e9ff_row12_col22, #T_3e9ff_row12_col23, #T_3e9ff_row12_col24, #T_3e9ff_row12_col25, #T_3e9ff_row12_col26, #T_3e9ff_row12_col27, #T_3e9ff_row13_col0, #T_3e9ff_row13_col1, #T_3e9ff_row13_col2, #T_3e9ff_row13_col3, #T_3e9ff_row13_col4, #T_3e9ff_row13_col5, #T_3e9ff_row13_col6, #T_3e9ff_row13_col7, #T_3e9ff_row13_col8, #T_3e9ff_row13_col20, #T_3e9ff_row13_col21, #T_3e9ff_row13_col22, #T_3e9ff_row13_col23, #T_3e9ff_row13_col24, #T_3e9ff_row13_col25, #T_3e9ff_row13_col26, #T_3e9ff_row13_col27, #T_3e9ff_row14_col0, #T_3e9ff_row14_col1, #T_3e9ff_row14_col2, #T_3e9ff_row14_col3, #T_3e9ff_row14_col4, #T_3e9ff_row14_col5, #T_3e9ff_row14_col6, #T_3e9ff_row14_col7, #T_3e9ff_row14_col8, #T_3e9ff_row14_col9, #T_3e9ff_row14_col10, #T_3e9ff_row14_col21, #T_3e9ff_row14_col22, #T_3e9ff_row14_col23, #T_3e9ff_row14_col24, #T_3e9ff_row14_col25, #T_3e9ff_row14_col26, #T_3e9ff_row14_col27, #T_3e9ff_row15_col0, #T_3e9ff_row15_col1, #T_3e9ff_row15_col2, #T_3e9ff_row15_col3, #T_3e9ff_row15_col4, #T_3e9ff_row15_col5, #T_3e9ff_row15_col6, #T_3e9ff_row15_col7, #T_3e9ff_row15_col8, #T_3e9ff_row15_col9, #T_3e9ff_row15_col10, #T_3e9ff_row15_col11, #T_3e9ff_row15_col12, #T_3e9ff_row15_col13, #T_3e9ff_row15_col21, #T_3e9ff_row15_col22, #T_3e9ff_row15_col23, #T_3e9ff_row15_col24, #T_3e9ff_row15_col25, #T_3e9ff_row15_col26, #T_3e9ff_row15_col27, #T_3e9ff_row16_col0, #T_3e9ff_row16_col1, #T_3e9ff_row16_col2, #T_3e9ff_row16_col3, #T_3e9ff_row16_col4, #T_3e9ff_row16_col5, #T_3e9ff_row16_col6, #T_3e9ff_row16_col7, #T_3e9ff_row16_col8, #T_3e9ff_row16_col9, #T_3e9ff_row16_col10, #T_3e9ff_row16_col11, #T_3e9ff_row16_col12, #T_3e9ff_row16_col13, #T_3e9ff_row16_col14, #T_3e9ff_row16_col15, #T_3e9ff_row16_col21, #T_3e9ff_row16_col22, #T_3e9ff_row16_col23, #T_3e9ff_row16_col24, #T_3e9ff_row16_col25, #T_3e9ff_row16_col26, #T_3e9ff_row16_col27, #T_3e9ff_row17_col0, #T_3e9ff_row17_col1, #T_3e9ff_row17_col2, #T_3e9ff_row17_col3, #T_3e9ff_row17_col4, #T_3e9ff_row17_col5, #T_3e9ff_row17_col6, #T_3e9ff_row17_col7, #T_3e9ff_row17_col8, #T_3e9ff_row17_col9, #T_3e9ff_row17_col10, #T_3e9ff_row17_col11, #T_3e9ff_row17_col12, #T_3e9ff_row17_col13, #T_3e9ff_row17_col14, #T_3e9ff_row17_col15, #T_3e9ff_row17_col16, #T_3e9ff_row17_col21, #T_3e9ff_row17_col22, #T_3e9ff_row17_col23, #T_3e9ff_row17_col24, #T_3e9ff_row17_col25, #T_3e9ff_row17_col26, #T_3e9ff_row17_col27, #T_3e9ff_row18_col0, #T_3e9ff_row18_col1, #T_3e9ff_row18_col2, #T_3e9ff_row18_col3, #T_3e9ff_row18_col4, #T_3e9ff_row18_col5, #T_3e9ff_row18_col6, #T_3e9ff_row18_col7, #T_3e9ff_row18_col8, #T_3e9ff_row18_col9, #T_3e9ff_row18_col10, #T_3e9ff_row18_col11, #T_3e9ff_row18_col12, #T_3e9ff_row18_col13, #T_3e9ff_row18_col14, #T_3e9ff_row18_col15, #T_3e9ff_row18_col21, #T_3e9ff_row18_col22, #T_3e9ff_row18_col23, #T_3e9ff_row18_col24, #T_3e9ff_row18_col25, #T_3e9ff_row18_col26, #T_3e9ff_row18_col27, #T_3e9ff_row19_col0, #T_3e9ff_row19_col1, #T_3e9ff_row19_col2, #T_3e9ff_row19_col3, #T_3e9ff_row19_col4, #T_3e9ff_row19_col5, #T_3e9ff_row19_col6, #T_3e9ff_row19_col7, #T_3e9ff_row19_col8, #T_3e9ff_row19_col9, #T_3e9ff_row19_col10, #T_3e9ff_row19_col11, #T_3e9ff_row19_col12, #T_3e9ff_row19_col13, #T_3e9ff_row19_col14, #T_3e9ff_row19_col21, #T_3e9ff_row19_col22, #T_3e9ff_row19_col23, #T_3e9ff_row19_col24, #T_3e9ff_row19_col25, #T_3e9ff_row19_col26, #T_3e9ff_row19_col27, #T_3e9ff_row20_col0, #T_3e9ff_row20_col1, #T_3e9ff_row20_col2, #T_3e9ff_row20_col3, #T_3e9ff_row20_col4, #T_3e9ff_row20_col5, #T_3e9ff_row20_col6, #T_3e9ff_row20_col7, #T_3e9ff_row20_col8, #T_3e9ff_row20_col9, #T_3e9ff_row20_col10, #T_3e9ff_row20_col11, #T_3e9ff_row20_col12, #T_3e9ff_row20_col13, #T_3e9ff_row20_col20, #T_3e9ff_row20_col21, #T_3e9ff_row20_col22, #T_3e9ff_row20_col23, #T_3e9ff_row20_col24, #T_3e9ff_row20_col25, #T_3e9ff_row20_col26, #T_3e9ff_row20_col27, #T_3e9ff_row21_col0, #T_3e9ff_row21_col1, #T_3e9ff_row21_col2, #T_3e9ff_row21_col3, #T_3e9ff_row21_col4, #T_3e9ff_row21_col5, #T_3e9ff_row21_col6, #T_3e9ff_row21_col7, #T_3e9ff_row21_col8, #T_3e9ff_row21_col9, #T_3e9ff_row21_col10, #T_3e9ff_row21_col11, #T_3e9ff_row21_col19, #T_3e9ff_row21_col20, #T_3e9ff_row21_col21, #T_3e9ff_row21_col22, #T_3e9ff_row21_col23, #T_3e9ff_row21_col24, #T_3e9ff_row21_col25, #T_3e9ff_row21_col26, #T_3e9ff_row21_col27, #T_3e9ff_row22_col0, #T_3e9ff_row22_col1, #T_3e9ff_row22_col2, #T_3e9ff_row22_col3, #T_3e9ff_row22_col4, #T_3e9ff_row22_col5, #T_3e9ff_row22_col18, #T_3e9ff_row22_col19, #T_3e9ff_row22_col20, #T_3e9ff_row22_col21, #T_3e9ff_row22_col22, #T_3e9ff_row22_col23, #T_3e9ff_row22_col24, #T_3e9ff_row22_col25, #T_3e9ff_row22_col26, #T_3e9ff_row22_col27, #T_3e9ff_row23_col0, #T_3e9ff_row23_col1, #T_3e9ff_row23_col2, #T_3e9ff_row23_col3, #T_3e9ff_row23_col4, #T_3e9ff_row23_col5, #T_3e9ff_row23_col16, #T_3e9ff_row23_col17, #T_3e9ff_row23_col18, #T_3e9ff_row23_col19, #T_3e9ff_row23_col20, #T_3e9ff_row23_col21, #T_3e9ff_row23_col22, #T_3e9ff_row23_col23, #T_3e9ff_row23_col24, #T_3e9ff_row23_col25, #T_3e9ff_row23_col26, #T_3e9ff_row23_col27, #T_3e9ff_row24_col0, #T_3e9ff_row24_col1, #T_3e9ff_row24_col2, #T_3e9ff_row24_col3, #T_3e9ff_row24_col4, #T_3e9ff_row24_col5, #T_3e9ff_row24_col15, #T_3e9ff_row24_col16, #T_3e9ff_row24_col17, #T_3e9ff_row24_col18, #T_3e9ff_row24_col19, #T_3e9ff_row24_col20, #T_3e9ff_row24_col21, #T_3e9ff_row24_col22, #T_3e9ff_row24_col23, #T_3e9ff_row24_col24, #T_3e9ff_row24_col25, #T_3e9ff_row24_col26, #T_3e9ff_row24_col27, #T_3e9ff_row25_col0, #T_3e9ff_row25_col1, #T_3e9ff_row25_col2, #T_3e9ff_row25_col3, #T_3e9ff_row25_col4, #T_3e9ff_row25_col5, #T_3e9ff_row25_col6, #T_3e9ff_row25_col7, #T_3e9ff_row25_col8, #T_3e9ff_row25_col9, #T_3e9ff_row25_col10, #T_3e9ff_row25_col11, #T_3e9ff_row25_col12, #T_3e9ff_row25_col13, #T_3e9ff_row25_col14, #T_3e9ff_row25_col15, #T_3e9ff_row25_col16, #T_3e9ff_row25_col17, #T_3e9ff_row25_col18, #T_3e9ff_row25_col19, #T_3e9ff_row25_col20, #T_3e9ff_row25_col21, #T_3e9ff_row25_col22, #T_3e9ff_row25_col23, #T_3e9ff_row25_col24, #T_3e9ff_row25_col25, #T_3e9ff_row25_col26, #T_3e9ff_row25_col27, #T_3e9ff_row26_col0, #T_3e9ff_row26_col1, #T_3e9ff_row26_col2, #T_3e9ff_row26_col3, #T_3e9ff_row26_col4, #T_3e9ff_row26_col5, #T_3e9ff_row26_col6, #T_3e9ff_row26_col7, #T_3e9ff_row26_col8, #T_3e9ff_row26_col9, #T_3e9ff_row26_col10, #T_3e9ff_row26_col11, #T_3e9ff_row26_col12, #T_3e9ff_row26_col13, #T_3e9ff_row26_col14, #T_3e9ff_row26_col15, #T_3e9ff_row26_col16, #T_3e9ff_row26_col17, #T_3e9ff_row26_col18, #T_3e9ff_row26_col19, #T_3e9ff_row26_col20, #T_3e9ff_row26_col21, #T_3e9ff_row26_col22, #T_3e9ff_row26_col23, #T_3e9ff_row26_col24, #T_3e9ff_row26_col25, #T_3e9ff_row26_col26, #T_3e9ff_row26_col27, #T_3e9ff_row27_col0, #T_3e9ff_row27_col1, #T_3e9ff_row27_col2, #T_3e9ff_row27_col3, #T_3e9ff_row27_col4, #T_3e9ff_row27_col5, #T_3e9ff_row27_col6, #T_3e9ff_row27_col7, #T_3e9ff_row27_col8, #T_3e9ff_row27_col9, #T_3e9ff_row27_col10, #T_3e9ff_row27_col11, #T_3e9ff_row27_col12, #T_3e9ff_row27_col13, #T_3e9ff_row27_col14, #T_3e9ff_row27_col15, #T_3e9ff_row27_col16, #T_3e9ff_row27_col17, #T_3e9ff_row27_col18, #T_3e9ff_row27_col19, #T_3e9ff_row27_col20, #T_3e9ff_row27_col21, #T_3e9ff_row27_col22, #T_3e9ff_row27_col23, #T_3e9ff_row27_col24, #T_3e9ff_row27_col25, #T_3e9ff_row27_col26, #T_3e9ff_row27_col27 {\n",
              "  font-size: 6pt;\n",
              "  background-color: #f7fbff;\n",
              "  color: #000000;\n",
              "}\n",
              "#T_3e9ff_row5_col9 {\n",
              "  font-size: 6pt;\n",
              "  background-color: #e0ecf8;\n",
              "  color: #000000;\n",
              "}\n",
              "#T_3e9ff_row5_col10, #T_3e9ff_row5_col17 {\n",
              "  font-size: 6pt;\n",
              "  background-color: #4d99ca;\n",
              "  color: #f1f1f1;\n",
              "}\n",
              "#T_3e9ff_row5_col11 {\n",
              "  font-size: 6pt;\n",
              "  background-color: #1c6bb0;\n",
              "  color: #f1f1f1;\n",
              "}\n",
              "#T_3e9ff_row5_col12, #T_3e9ff_row5_col13, #T_3e9ff_row5_col14, #T_3e9ff_row6_col10, #T_3e9ff_row6_col11, #T_3e9ff_row6_col15, #T_3e9ff_row6_col16, #T_3e9ff_row6_col17, #T_3e9ff_row7_col8, #T_3e9ff_row7_col16, #T_3e9ff_row7_col17, #T_3e9ff_row8_col5, #T_3e9ff_row8_col6, #T_3e9ff_row8_col7, #T_3e9ff_row8_col16, #T_3e9ff_row8_col17, #T_3e9ff_row9_col16, #T_3e9ff_row10_col15, #T_3e9ff_row13_col15, #T_3e9ff_row14_col15, #T_3e9ff_row14_col16, #T_3e9ff_row14_col17, #T_3e9ff_row14_col18, #T_3e9ff_row15_col17, #T_3e9ff_row15_col18, #T_3e9ff_row15_col19, #T_3e9ff_row16_col18, #T_3e9ff_row16_col19, #T_3e9ff_row16_col20, #T_3e9ff_row17_col18, #T_3e9ff_row17_col19, #T_3e9ff_row18_col18, #T_3e9ff_row18_col19, #T_3e9ff_row19_col17, #T_3e9ff_row19_col18, #T_3e9ff_row20_col16, #T_3e9ff_row20_col17, #T_3e9ff_row21_col15, #T_3e9ff_row21_col16, #T_3e9ff_row23_col7, #T_3e9ff_row23_col8, #T_3e9ff_row23_col9, #T_3e9ff_row23_col10, #T_3e9ff_row23_col11, #T_3e9ff_row24_col7, #T_3e9ff_row24_col8, #T_3e9ff_row24_col9, #T_3e9ff_row24_col10, #T_3e9ff_row24_col11 {\n",
              "  font-size: 6pt;\n",
              "  background-color: #08306b;\n",
              "  color: #f1f1f1;\n",
              "}\n",
              "#T_3e9ff_row5_col15 {\n",
              "  font-size: 6pt;\n",
              "  background-color: #2f7fbc;\n",
              "  color: #f1f1f1;\n",
              "}\n",
              "#T_3e9ff_row5_col16 {\n",
              "  font-size: 6pt;\n",
              "  background-color: #1e6db2;\n",
              "  color: #f1f1f1;\n",
              "}\n",
              "#T_3e9ff_row5_col18 {\n",
              "  font-size: 6pt;\n",
              "  background-color: #9cc9e1;\n",
              "  color: #000000;\n",
              "}\n",
              "#T_3e9ff_row6_col7, #T_3e9ff_row8_col9 {\n",
              "  font-size: 6pt;\n",
              "  background-color: #d2e3f3;\n",
              "  color: #000000;\n",
              "}\n",
              "#T_3e9ff_row6_col8, #T_3e9ff_row12_col10 {\n",
              "  font-size: 6pt;\n",
              "  background-color: #3a8ac2;\n",
              "  color: #f1f1f1;\n",
              "}\n",
              "#T_3e9ff_row6_col9, #T_3e9ff_row9_col15 {\n",
              "  font-size: 6pt;\n",
              "  background-color: #084e98;\n",
              "  color: #f1f1f1;\n",
              "}\n",
              "#T_3e9ff_row6_col12, #T_3e9ff_row6_col18, #T_3e9ff_row7_col18, #T_3e9ff_row21_col17 {\n",
              "  font-size: 6pt;\n",
              "  background-color: #08458a;\n",
              "  color: #f1f1f1;\n",
              "}\n",
              "#T_3e9ff_row6_col13, #T_3e9ff_row7_col15 {\n",
              "  font-size: 6pt;\n",
              "  background-color: #1d6cb1;\n",
              "  color: #f1f1f1;\n",
              "}\n",
              "#T_3e9ff_row6_col14, #T_3e9ff_row11_col14, #T_3e9ff_row12_col12, #T_3e9ff_row12_col14, #T_3e9ff_row13_col12, #T_3e9ff_row13_col14, #T_3e9ff_row22_col14, #T_3e9ff_row23_col12 {\n",
              "  font-size: 6pt;\n",
              "  background-color: #08316d;\n",
              "  color: #f1f1f1;\n",
              "}\n",
              "#T_3e9ff_row7_col5 {\n",
              "  font-size: 6pt;\n",
              "  background-color: #09529d;\n",
              "  color: #f1f1f1;\n",
              "}\n",
              "#T_3e9ff_row7_col6 {\n",
              "  font-size: 6pt;\n",
              "  background-color: #083979;\n",
              "  color: #f1f1f1;\n",
              "}\n",
              "#T_3e9ff_row7_col7, #T_3e9ff_row18_col17 {\n",
              "  font-size: 6pt;\n",
              "  background-color: #083471;\n",
              "  color: #f1f1f1;\n",
              "}\n",
              "#T_3e9ff_row7_col9, #T_3e9ff_row12_col15, #T_3e9ff_row14_col19, #T_3e9ff_row23_col6 {\n",
              "  font-size: 6pt;\n",
              "  background-color: #2373b6;\n",
              "  color: #f1f1f1;\n",
              "}\n",
              "#T_3e9ff_row7_col10 {\n",
              "  font-size: 6pt;\n",
              "  background-color: #d3e4f3;\n",
              "  color: #000000;\n",
              "}\n",
              "#T_3e9ff_row7_col11, #T_3e9ff_row7_col14 {\n",
              "  font-size: 6pt;\n",
              "  background-color: #eff6fc;\n",
              "  color: #000000;\n",
              "}\n",
              "#T_3e9ff_row7_col12 {\n",
              "  font-size: 6pt;\n",
              "  background-color: #f1f7fd;\n",
              "  color: #000000;\n",
              "}\n",
              "#T_3e9ff_row7_col13 {\n",
              "  font-size: 6pt;\n",
              "  background-color: #f4f9fe;\n",
              "  color: #000000;\n",
              "}\n",
              "#T_3e9ff_row8_col8 {\n",
              "  font-size: 6pt;\n",
              "  background-color: #08488e;\n",
              "  color: #f1f1f1;\n",
              "}\n",
              "#T_3e9ff_row8_col15 {\n",
              "  font-size: 6pt;\n",
              "  background-color: #1f6eb3;\n",
              "  color: #f1f1f1;\n",
              "}\n",
              "#T_3e9ff_row8_col18 {\n",
              "  font-size: 6pt;\n",
              "  background-color: #4594c7;\n",
              "  color: #f1f1f1;\n",
              "}\n",
              "#T_3e9ff_row9_col5 {\n",
              "  font-size: 6pt;\n",
              "  background-color: #f2f7fd;\n",
              "  color: #000000;\n",
              "}\n",
              "#T_3e9ff_row9_col6, #T_3e9ff_row9_col7, #T_3e9ff_row19_col20 {\n",
              "  font-size: 6pt;\n",
              "  background-color: #e7f1fa;\n",
              "  color: #000000;\n",
              "}\n",
              "#T_3e9ff_row9_col8 {\n",
              "  font-size: 6pt;\n",
              "  background-color: #ebf3fb;\n",
              "  color: #000000;\n",
              "}\n",
              "#T_3e9ff_row9_col14, #T_3e9ff_row14_col11 {\n",
              "  font-size: 6pt;\n",
              "  background-color: #d6e5f4;\n",
              "  color: #000000;\n",
              "}\n",
              "#T_3e9ff_row9_col17, #T_3e9ff_row10_col16 {\n",
              "  font-size: 6pt;\n",
              "  background-color: #083877;\n",
              "  color: #f1f1f1;\n",
              "}\n",
              "#T_3e9ff_row9_col18 {\n",
              "  font-size: 6pt;\n",
              "  background-color: #b9d6ea;\n",
              "  color: #000000;\n",
              "}\n",
              "#T_3e9ff_row10_col14, #T_3e9ff_row11_col15, #T_3e9ff_row13_col10 {\n",
              "  font-size: 6pt;\n",
              "  background-color: #083573;\n",
              "  color: #f1f1f1;\n",
              "}\n",
              "#T_3e9ff_row10_col17 {\n",
              "  font-size: 6pt;\n",
              "  background-color: #6caed6;\n",
              "  color: #f1f1f1;\n",
              "}\n",
              "#T_3e9ff_row11_col11 {\n",
              "  font-size: 6pt;\n",
              "  background-color: #ecf4fb;\n",
              "  color: #000000;\n",
              "}\n",
              "#T_3e9ff_row11_col12 {\n",
              "  font-size: 6pt;\n",
              "  background-color: #95c5df;\n",
              "  color: #000000;\n",
              "}\n",
              "#T_3e9ff_row11_col13 {\n",
              "  font-size: 6pt;\n",
              "  background-color: #08519c;\n",
              "  color: #f1f1f1;\n",
              "}\n",
              "#T_3e9ff_row11_col16 {\n",
              "  font-size: 6pt;\n",
              "  background-color: #6fb0d7;\n",
              "  color: #f1f1f1;\n",
              "}\n",
              "#T_3e9ff_row12_col9 {\n",
              "  font-size: 6pt;\n",
              "  background-color: #eef5fc;\n",
              "  color: #000000;\n",
              "}\n",
              "#T_3e9ff_row12_col11, #T_3e9ff_row22_col12 {\n",
              "  font-size: 6pt;\n",
              "  background-color: #083e81;\n",
              "  color: #f1f1f1;\n",
              "}\n",
              "#T_3e9ff_row12_col13, #T_3e9ff_row13_col13, #T_3e9ff_row21_col14, #T_3e9ff_row22_col13, #T_3e9ff_row23_col13 {\n",
              "  font-size: 6pt;\n",
              "  background-color: #08326e;\n",
              "  color: #f1f1f1;\n",
              "}\n",
              "#T_3e9ff_row12_col16 {\n",
              "  font-size: 6pt;\n",
              "  background-color: #dfecf7;\n",
              "  color: #000000;\n",
              "}\n",
              "#T_3e9ff_row13_col9 {\n",
              "  font-size: 6pt;\n",
              "  background-color: #eaf3fb;\n",
              "  color: #000000;\n",
              "}\n",
              "#T_3e9ff_row13_col11, #T_3e9ff_row22_col15 {\n",
              "  font-size: 6pt;\n",
              "  background-color: #083370;\n",
              "  color: #f1f1f1;\n",
              "}\n",
              "#T_3e9ff_row13_col16 {\n",
              "  font-size: 6pt;\n",
              "  background-color: #08468b;\n",
              "  color: #f1f1f1;\n",
              "}\n",
              "#T_3e9ff_row13_col17 {\n",
              "  font-size: 6pt;\n",
              "  background-color: #0e59a2;\n",
              "  color: #f1f1f1;\n",
              "}\n",
              "#T_3e9ff_row13_col18 {\n",
              "  font-size: 6pt;\n",
              "  background-color: #84bcdb;\n",
              "  color: #000000;\n",
              "}\n",
              "#T_3e9ff_row13_col19 {\n",
              "  font-size: 6pt;\n",
              "  background-color: #f5fafe;\n",
              "  color: #000000;\n",
              "}\n",
              "#T_3e9ff_row14_col12, #T_3e9ff_row14_col13, #T_3e9ff_row20_col14 {\n",
              "  font-size: 6pt;\n",
              "  background-color: #9ac8e0;\n",
              "  color: #000000;\n",
              "}\n",
              "#T_3e9ff_row14_col14 {\n",
              "  font-size: 6pt;\n",
              "  background-color: #135fa7;\n",
              "  color: #f1f1f1;\n",
              "}\n",
              "#T_3e9ff_row14_col20 {\n",
              "  font-size: 6pt;\n",
              "  background-color: #d8e7f5;\n",
              "  color: #000000;\n",
              "}\n",
              "#T_3e9ff_row15_col14, #T_3e9ff_row20_col19 {\n",
              "  font-size: 6pt;\n",
              "  background-color: #f0f6fd;\n",
              "  color: #000000;\n",
              "}\n",
              "#T_3e9ff_row15_col15 {\n",
              "  font-size: 6pt;\n",
              "  background-color: #d0e1f2;\n",
              "  color: #000000;\n",
              "}\n",
              "#T_3e9ff_row15_col16 {\n",
              "  font-size: 6pt;\n",
              "  background-color: #77b5d9;\n",
              "  color: #000000;\n",
              "}\n",
              "#T_3e9ff_row15_col20 {\n",
              "  font-size: 6pt;\n",
              "  background-color: #5ca4d0;\n",
              "  color: #f1f1f1;\n",
              "}\n",
              "#T_3e9ff_row16_col16, #T_3e9ff_row24_col14 {\n",
              "  font-size: 6pt;\n",
              "  background-color: #f6faff;\n",
              "  color: #000000;\n",
              "}\n",
              "#T_3e9ff_row16_col17 {\n",
              "  font-size: 6pt;\n",
              "  background-color: #2777b8;\n",
              "  color: #f1f1f1;\n",
              "}\n",
              "#T_3e9ff_row17_col17 {\n",
              "  font-size: 6pt;\n",
              "  background-color: #2979b9;\n",
              "  color: #f1f1f1;\n",
              "}\n",
              "#T_3e9ff_row17_col20 {\n",
              "  font-size: 6pt;\n",
              "  background-color: #2171b5;\n",
              "  color: #f1f1f1;\n",
              "}\n",
              "#T_3e9ff_row18_col16 {\n",
              "  font-size: 6pt;\n",
              "  background-color: #aacfe5;\n",
              "  color: #000000;\n",
              "}\n",
              "#T_3e9ff_row18_col20 {\n",
              "  font-size: 6pt;\n",
              "  background-color: #c3daee;\n",
              "  color: #000000;\n",
              "}\n",
              "#T_3e9ff_row19_col15, #T_3e9ff_row22_col9 {\n",
              "  font-size: 6pt;\n",
              "  background-color: #c9ddf0;\n",
              "  color: #000000;\n",
              "}\n",
              "#T_3e9ff_row19_col16 {\n",
              "  font-size: 6pt;\n",
              "  background-color: #0e58a2;\n",
              "  color: #f1f1f1;\n",
              "}\n",
              "#T_3e9ff_row19_col19 {\n",
              "  font-size: 6pt;\n",
              "  background-color: #3282be;\n",
              "  color: #f1f1f1;\n",
              "}\n",
              "#T_3e9ff_row20_col15 {\n",
              "  font-size: 6pt;\n",
              "  background-color: #083674;\n",
              "  color: #f1f1f1;\n",
              "}\n",
              "#T_3e9ff_row20_col18 {\n",
              "  font-size: 6pt;\n",
              "  background-color: #084c95;\n",
              "  color: #f1f1f1;\n",
              "}\n",
              "#T_3e9ff_row21_col12, #T_3e9ff_row22_col6, #T_3e9ff_row22_col8 {\n",
              "  font-size: 6pt;\n",
              "  background-color: #d6e6f4;\n",
              "  color: #000000;\n",
              "}\n",
              "#T_3e9ff_row21_col13 {\n",
              "  font-size: 6pt;\n",
              "  background-color: #4e9acb;\n",
              "  color: #f1f1f1;\n",
              "}\n",
              "#T_3e9ff_row21_col18 {\n",
              "  font-size: 6pt;\n",
              "  background-color: #cee0f2;\n",
              "  color: #000000;\n",
              "}\n",
              "#T_3e9ff_row22_col7, #T_3e9ff_row22_col10 {\n",
              "  font-size: 6pt;\n",
              "  background-color: #7db8da;\n",
              "  color: #000000;\n",
              "}\n",
              "#T_3e9ff_row22_col11 {\n",
              "  font-size: 6pt;\n",
              "  background-color: #4191c6;\n",
              "  color: #f1f1f1;\n",
              "}\n",
              "#T_3e9ff_row22_col16 {\n",
              "  font-size: 6pt;\n",
              "  background-color: #3080bd;\n",
              "  color: #f1f1f1;\n",
              "}\n",
              "#T_3e9ff_row22_col17 {\n",
              "  font-size: 6pt;\n",
              "  background-color: #e3eef9;\n",
              "  color: #000000;\n",
              "}\n",
              "#T_3e9ff_row23_col14 {\n",
              "  font-size: 6pt;\n",
              "  background-color: #1c6ab0;\n",
              "  color: #f1f1f1;\n",
              "}\n",
              "#T_3e9ff_row23_col15 {\n",
              "  font-size: 6pt;\n",
              "  background-color: #a9cfe5;\n",
              "  color: #000000;\n",
              "}\n",
              "#T_3e9ff_row24_col6 {\n",
              "  font-size: 6pt;\n",
              "  background-color: #91c3de;\n",
              "  color: #000000;\n",
              "}\n",
              "#T_3e9ff_row24_col12 {\n",
              "  font-size: 6pt;\n",
              "  background-color: #08478d;\n",
              "  color: #f1f1f1;\n",
              "}\n",
              "#T_3e9ff_row24_col13 {\n",
              "  font-size: 6pt;\n",
              "  background-color: #c2d9ee;\n",
              "  color: #000000;\n",
              "}\n",
              "</style>\n",
              "<table id=\"T_3e9ff\" class=\"dataframe\">\n",
              "  <thead>\n",
              "    <tr>\n",
              "      <th class=\"blank level0\" >&nbsp;</th>\n",
              "      <th id=\"T_3e9ff_level0_col0\" class=\"col_heading level0 col0\" >0</th>\n",
              "      <th id=\"T_3e9ff_level0_col1\" class=\"col_heading level0 col1\" >1</th>\n",
              "      <th id=\"T_3e9ff_level0_col2\" class=\"col_heading level0 col2\" >2</th>\n",
              "      <th id=\"T_3e9ff_level0_col3\" class=\"col_heading level0 col3\" >3</th>\n",
              "      <th id=\"T_3e9ff_level0_col4\" class=\"col_heading level0 col4\" >4</th>\n",
              "      <th id=\"T_3e9ff_level0_col5\" class=\"col_heading level0 col5\" >5</th>\n",
              "      <th id=\"T_3e9ff_level0_col6\" class=\"col_heading level0 col6\" >6</th>\n",
              "      <th id=\"T_3e9ff_level0_col7\" class=\"col_heading level0 col7\" >7</th>\n",
              "      <th id=\"T_3e9ff_level0_col8\" class=\"col_heading level0 col8\" >8</th>\n",
              "      <th id=\"T_3e9ff_level0_col9\" class=\"col_heading level0 col9\" >9</th>\n",
              "      <th id=\"T_3e9ff_level0_col10\" class=\"col_heading level0 col10\" >10</th>\n",
              "      <th id=\"T_3e9ff_level0_col11\" class=\"col_heading level0 col11\" >11</th>\n",
              "      <th id=\"T_3e9ff_level0_col12\" class=\"col_heading level0 col12\" >12</th>\n",
              "      <th id=\"T_3e9ff_level0_col13\" class=\"col_heading level0 col13\" >13</th>\n",
              "      <th id=\"T_3e9ff_level0_col14\" class=\"col_heading level0 col14\" >14</th>\n",
              "      <th id=\"T_3e9ff_level0_col15\" class=\"col_heading level0 col15\" >15</th>\n",
              "      <th id=\"T_3e9ff_level0_col16\" class=\"col_heading level0 col16\" >16</th>\n",
              "      <th id=\"T_3e9ff_level0_col17\" class=\"col_heading level0 col17\" >17</th>\n",
              "      <th id=\"T_3e9ff_level0_col18\" class=\"col_heading level0 col18\" >18</th>\n",
              "      <th id=\"T_3e9ff_level0_col19\" class=\"col_heading level0 col19\" >19</th>\n",
              "      <th id=\"T_3e9ff_level0_col20\" class=\"col_heading level0 col20\" >20</th>\n",
              "      <th id=\"T_3e9ff_level0_col21\" class=\"col_heading level0 col21\" >21</th>\n",
              "      <th id=\"T_3e9ff_level0_col22\" class=\"col_heading level0 col22\" >22</th>\n",
              "      <th id=\"T_3e9ff_level0_col23\" class=\"col_heading level0 col23\" >23</th>\n",
              "      <th id=\"T_3e9ff_level0_col24\" class=\"col_heading level0 col24\" >24</th>\n",
              "      <th id=\"T_3e9ff_level0_col25\" class=\"col_heading level0 col25\" >25</th>\n",
              "      <th id=\"T_3e9ff_level0_col26\" class=\"col_heading level0 col26\" >26</th>\n",
              "      <th id=\"T_3e9ff_level0_col27\" class=\"col_heading level0 col27\" >27</th>\n",
              "    </tr>\n",
              "  </thead>\n",
              "  <tbody>\n",
              "    <tr>\n",
              "      <th id=\"T_3e9ff_level0_row0\" class=\"row_heading level0 row0\" >0</th>\n",
              "      <td id=\"T_3e9ff_row0_col0\" class=\"data row0 col0\" >0</td>\n",
              "      <td id=\"T_3e9ff_row0_col1\" class=\"data row0 col1\" >0</td>\n",
              "      <td id=\"T_3e9ff_row0_col2\" class=\"data row0 col2\" >0</td>\n",
              "      <td id=\"T_3e9ff_row0_col3\" class=\"data row0 col3\" >0</td>\n",
              "      <td id=\"T_3e9ff_row0_col4\" class=\"data row0 col4\" >0</td>\n",
              "      <td id=\"T_3e9ff_row0_col5\" class=\"data row0 col5\" >0</td>\n",
              "      <td id=\"T_3e9ff_row0_col6\" class=\"data row0 col6\" >0</td>\n",
              "      <td id=\"T_3e9ff_row0_col7\" class=\"data row0 col7\" >0</td>\n",
              "      <td id=\"T_3e9ff_row0_col8\" class=\"data row0 col8\" >0</td>\n",
              "      <td id=\"T_3e9ff_row0_col9\" class=\"data row0 col9\" >0</td>\n",
              "      <td id=\"T_3e9ff_row0_col10\" class=\"data row0 col10\" >0</td>\n",
              "      <td id=\"T_3e9ff_row0_col11\" class=\"data row0 col11\" >0</td>\n",
              "      <td id=\"T_3e9ff_row0_col12\" class=\"data row0 col12\" >0</td>\n",
              "      <td id=\"T_3e9ff_row0_col13\" class=\"data row0 col13\" >0</td>\n",
              "      <td id=\"T_3e9ff_row0_col14\" class=\"data row0 col14\" >0</td>\n",
              "      <td id=\"T_3e9ff_row0_col15\" class=\"data row0 col15\" >0</td>\n",
              "      <td id=\"T_3e9ff_row0_col16\" class=\"data row0 col16\" >0</td>\n",
              "      <td id=\"T_3e9ff_row0_col17\" class=\"data row0 col17\" >0</td>\n",
              "      <td id=\"T_3e9ff_row0_col18\" class=\"data row0 col18\" >0</td>\n",
              "      <td id=\"T_3e9ff_row0_col19\" class=\"data row0 col19\" >0</td>\n",
              "      <td id=\"T_3e9ff_row0_col20\" class=\"data row0 col20\" >0</td>\n",
              "      <td id=\"T_3e9ff_row0_col21\" class=\"data row0 col21\" >0</td>\n",
              "      <td id=\"T_3e9ff_row0_col22\" class=\"data row0 col22\" >0</td>\n",
              "      <td id=\"T_3e9ff_row0_col23\" class=\"data row0 col23\" >0</td>\n",
              "      <td id=\"T_3e9ff_row0_col24\" class=\"data row0 col24\" >0</td>\n",
              "      <td id=\"T_3e9ff_row0_col25\" class=\"data row0 col25\" >0</td>\n",
              "      <td id=\"T_3e9ff_row0_col26\" class=\"data row0 col26\" >0</td>\n",
              "      <td id=\"T_3e9ff_row0_col27\" class=\"data row0 col27\" >0</td>\n",
              "    </tr>\n",
              "    <tr>\n",
              "      <th id=\"T_3e9ff_level0_row1\" class=\"row_heading level0 row1\" >1</th>\n",
              "      <td id=\"T_3e9ff_row1_col0\" class=\"data row1 col0\" >0</td>\n",
              "      <td id=\"T_3e9ff_row1_col1\" class=\"data row1 col1\" >0</td>\n",
              "      <td id=\"T_3e9ff_row1_col2\" class=\"data row1 col2\" >0</td>\n",
              "      <td id=\"T_3e9ff_row1_col3\" class=\"data row1 col3\" >0</td>\n",
              "      <td id=\"T_3e9ff_row1_col4\" class=\"data row1 col4\" >0</td>\n",
              "      <td id=\"T_3e9ff_row1_col5\" class=\"data row1 col5\" >0</td>\n",
              "      <td id=\"T_3e9ff_row1_col6\" class=\"data row1 col6\" >0</td>\n",
              "      <td id=\"T_3e9ff_row1_col7\" class=\"data row1 col7\" >0</td>\n",
              "      <td id=\"T_3e9ff_row1_col8\" class=\"data row1 col8\" >0</td>\n",
              "      <td id=\"T_3e9ff_row1_col9\" class=\"data row1 col9\" >0</td>\n",
              "      <td id=\"T_3e9ff_row1_col10\" class=\"data row1 col10\" >0</td>\n",
              "      <td id=\"T_3e9ff_row1_col11\" class=\"data row1 col11\" >0</td>\n",
              "      <td id=\"T_3e9ff_row1_col12\" class=\"data row1 col12\" >0</td>\n",
              "      <td id=\"T_3e9ff_row1_col13\" class=\"data row1 col13\" >0</td>\n",
              "      <td id=\"T_3e9ff_row1_col14\" class=\"data row1 col14\" >0</td>\n",
              "      <td id=\"T_3e9ff_row1_col15\" class=\"data row1 col15\" >0</td>\n",
              "      <td id=\"T_3e9ff_row1_col16\" class=\"data row1 col16\" >0</td>\n",
              "      <td id=\"T_3e9ff_row1_col17\" class=\"data row1 col17\" >0</td>\n",
              "      <td id=\"T_3e9ff_row1_col18\" class=\"data row1 col18\" >0</td>\n",
              "      <td id=\"T_3e9ff_row1_col19\" class=\"data row1 col19\" >0</td>\n",
              "      <td id=\"T_3e9ff_row1_col20\" class=\"data row1 col20\" >0</td>\n",
              "      <td id=\"T_3e9ff_row1_col21\" class=\"data row1 col21\" >0</td>\n",
              "      <td id=\"T_3e9ff_row1_col22\" class=\"data row1 col22\" >0</td>\n",
              "      <td id=\"T_3e9ff_row1_col23\" class=\"data row1 col23\" >0</td>\n",
              "      <td id=\"T_3e9ff_row1_col24\" class=\"data row1 col24\" >0</td>\n",
              "      <td id=\"T_3e9ff_row1_col25\" class=\"data row1 col25\" >0</td>\n",
              "      <td id=\"T_3e9ff_row1_col26\" class=\"data row1 col26\" >0</td>\n",
              "      <td id=\"T_3e9ff_row1_col27\" class=\"data row1 col27\" >0</td>\n",
              "    </tr>\n",
              "    <tr>\n",
              "      <th id=\"T_3e9ff_level0_row2\" class=\"row_heading level0 row2\" >2</th>\n",
              "      <td id=\"T_3e9ff_row2_col0\" class=\"data row2 col0\" >0</td>\n",
              "      <td id=\"T_3e9ff_row2_col1\" class=\"data row2 col1\" >0</td>\n",
              "      <td id=\"T_3e9ff_row2_col2\" class=\"data row2 col2\" >0</td>\n",
              "      <td id=\"T_3e9ff_row2_col3\" class=\"data row2 col3\" >0</td>\n",
              "      <td id=\"T_3e9ff_row2_col4\" class=\"data row2 col4\" >0</td>\n",
              "      <td id=\"T_3e9ff_row2_col5\" class=\"data row2 col5\" >0</td>\n",
              "      <td id=\"T_3e9ff_row2_col6\" class=\"data row2 col6\" >0</td>\n",
              "      <td id=\"T_3e9ff_row2_col7\" class=\"data row2 col7\" >0</td>\n",
              "      <td id=\"T_3e9ff_row2_col8\" class=\"data row2 col8\" >0</td>\n",
              "      <td id=\"T_3e9ff_row2_col9\" class=\"data row2 col9\" >0</td>\n",
              "      <td id=\"T_3e9ff_row2_col10\" class=\"data row2 col10\" >0</td>\n",
              "      <td id=\"T_3e9ff_row2_col11\" class=\"data row2 col11\" >0</td>\n",
              "      <td id=\"T_3e9ff_row2_col12\" class=\"data row2 col12\" >0</td>\n",
              "      <td id=\"T_3e9ff_row2_col13\" class=\"data row2 col13\" >0</td>\n",
              "      <td id=\"T_3e9ff_row2_col14\" class=\"data row2 col14\" >0</td>\n",
              "      <td id=\"T_3e9ff_row2_col15\" class=\"data row2 col15\" >0</td>\n",
              "      <td id=\"T_3e9ff_row2_col16\" class=\"data row2 col16\" >0</td>\n",
              "      <td id=\"T_3e9ff_row2_col17\" class=\"data row2 col17\" >0</td>\n",
              "      <td id=\"T_3e9ff_row2_col18\" class=\"data row2 col18\" >0</td>\n",
              "      <td id=\"T_3e9ff_row2_col19\" class=\"data row2 col19\" >0</td>\n",
              "      <td id=\"T_3e9ff_row2_col20\" class=\"data row2 col20\" >0</td>\n",
              "      <td id=\"T_3e9ff_row2_col21\" class=\"data row2 col21\" >0</td>\n",
              "      <td id=\"T_3e9ff_row2_col22\" class=\"data row2 col22\" >0</td>\n",
              "      <td id=\"T_3e9ff_row2_col23\" class=\"data row2 col23\" >0</td>\n",
              "      <td id=\"T_3e9ff_row2_col24\" class=\"data row2 col24\" >0</td>\n",
              "      <td id=\"T_3e9ff_row2_col25\" class=\"data row2 col25\" >0</td>\n",
              "      <td id=\"T_3e9ff_row2_col26\" class=\"data row2 col26\" >0</td>\n",
              "      <td id=\"T_3e9ff_row2_col27\" class=\"data row2 col27\" >0</td>\n",
              "    </tr>\n",
              "    <tr>\n",
              "      <th id=\"T_3e9ff_level0_row3\" class=\"row_heading level0 row3\" >3</th>\n",
              "      <td id=\"T_3e9ff_row3_col0\" class=\"data row3 col0\" >0</td>\n",
              "      <td id=\"T_3e9ff_row3_col1\" class=\"data row3 col1\" >0</td>\n",
              "      <td id=\"T_3e9ff_row3_col2\" class=\"data row3 col2\" >0</td>\n",
              "      <td id=\"T_3e9ff_row3_col3\" class=\"data row3 col3\" >0</td>\n",
              "      <td id=\"T_3e9ff_row3_col4\" class=\"data row3 col4\" >0</td>\n",
              "      <td id=\"T_3e9ff_row3_col5\" class=\"data row3 col5\" >0</td>\n",
              "      <td id=\"T_3e9ff_row3_col6\" class=\"data row3 col6\" >0</td>\n",
              "      <td id=\"T_3e9ff_row3_col7\" class=\"data row3 col7\" >0</td>\n",
              "      <td id=\"T_3e9ff_row3_col8\" class=\"data row3 col8\" >0</td>\n",
              "      <td id=\"T_3e9ff_row3_col9\" class=\"data row3 col9\" >0</td>\n",
              "      <td id=\"T_3e9ff_row3_col10\" class=\"data row3 col10\" >0</td>\n",
              "      <td id=\"T_3e9ff_row3_col11\" class=\"data row3 col11\" >0</td>\n",
              "      <td id=\"T_3e9ff_row3_col12\" class=\"data row3 col12\" >0</td>\n",
              "      <td id=\"T_3e9ff_row3_col13\" class=\"data row3 col13\" >0</td>\n",
              "      <td id=\"T_3e9ff_row3_col14\" class=\"data row3 col14\" >0</td>\n",
              "      <td id=\"T_3e9ff_row3_col15\" class=\"data row3 col15\" >0</td>\n",
              "      <td id=\"T_3e9ff_row3_col16\" class=\"data row3 col16\" >0</td>\n",
              "      <td id=\"T_3e9ff_row3_col17\" class=\"data row3 col17\" >0</td>\n",
              "      <td id=\"T_3e9ff_row3_col18\" class=\"data row3 col18\" >0</td>\n",
              "      <td id=\"T_3e9ff_row3_col19\" class=\"data row3 col19\" >0</td>\n",
              "      <td id=\"T_3e9ff_row3_col20\" class=\"data row3 col20\" >0</td>\n",
              "      <td id=\"T_3e9ff_row3_col21\" class=\"data row3 col21\" >0</td>\n",
              "      <td id=\"T_3e9ff_row3_col22\" class=\"data row3 col22\" >0</td>\n",
              "      <td id=\"T_3e9ff_row3_col23\" class=\"data row3 col23\" >0</td>\n",
              "      <td id=\"T_3e9ff_row3_col24\" class=\"data row3 col24\" >0</td>\n",
              "      <td id=\"T_3e9ff_row3_col25\" class=\"data row3 col25\" >0</td>\n",
              "      <td id=\"T_3e9ff_row3_col26\" class=\"data row3 col26\" >0</td>\n",
              "      <td id=\"T_3e9ff_row3_col27\" class=\"data row3 col27\" >0</td>\n",
              "    </tr>\n",
              "    <tr>\n",
              "      <th id=\"T_3e9ff_level0_row4\" class=\"row_heading level0 row4\" >4</th>\n",
              "      <td id=\"T_3e9ff_row4_col0\" class=\"data row4 col0\" >0</td>\n",
              "      <td id=\"T_3e9ff_row4_col1\" class=\"data row4 col1\" >0</td>\n",
              "      <td id=\"T_3e9ff_row4_col2\" class=\"data row4 col2\" >0</td>\n",
              "      <td id=\"T_3e9ff_row4_col3\" class=\"data row4 col3\" >0</td>\n",
              "      <td id=\"T_3e9ff_row4_col4\" class=\"data row4 col4\" >0</td>\n",
              "      <td id=\"T_3e9ff_row4_col5\" class=\"data row4 col5\" >0</td>\n",
              "      <td id=\"T_3e9ff_row4_col6\" class=\"data row4 col6\" >0</td>\n",
              "      <td id=\"T_3e9ff_row4_col7\" class=\"data row4 col7\" >0</td>\n",
              "      <td id=\"T_3e9ff_row4_col8\" class=\"data row4 col8\" >0</td>\n",
              "      <td id=\"T_3e9ff_row4_col9\" class=\"data row4 col9\" >0</td>\n",
              "      <td id=\"T_3e9ff_row4_col10\" class=\"data row4 col10\" >0</td>\n",
              "      <td id=\"T_3e9ff_row4_col11\" class=\"data row4 col11\" >0</td>\n",
              "      <td id=\"T_3e9ff_row4_col12\" class=\"data row4 col12\" >0</td>\n",
              "      <td id=\"T_3e9ff_row4_col13\" class=\"data row4 col13\" >0</td>\n",
              "      <td id=\"T_3e9ff_row4_col14\" class=\"data row4 col14\" >0</td>\n",
              "      <td id=\"T_3e9ff_row4_col15\" class=\"data row4 col15\" >0</td>\n",
              "      <td id=\"T_3e9ff_row4_col16\" class=\"data row4 col16\" >0</td>\n",
              "      <td id=\"T_3e9ff_row4_col17\" class=\"data row4 col17\" >0</td>\n",
              "      <td id=\"T_3e9ff_row4_col18\" class=\"data row4 col18\" >0</td>\n",
              "      <td id=\"T_3e9ff_row4_col19\" class=\"data row4 col19\" >0</td>\n",
              "      <td id=\"T_3e9ff_row4_col20\" class=\"data row4 col20\" >0</td>\n",
              "      <td id=\"T_3e9ff_row4_col21\" class=\"data row4 col21\" >0</td>\n",
              "      <td id=\"T_3e9ff_row4_col22\" class=\"data row4 col22\" >0</td>\n",
              "      <td id=\"T_3e9ff_row4_col23\" class=\"data row4 col23\" >0</td>\n",
              "      <td id=\"T_3e9ff_row4_col24\" class=\"data row4 col24\" >0</td>\n",
              "      <td id=\"T_3e9ff_row4_col25\" class=\"data row4 col25\" >0</td>\n",
              "      <td id=\"T_3e9ff_row4_col26\" class=\"data row4 col26\" >0</td>\n",
              "      <td id=\"T_3e9ff_row4_col27\" class=\"data row4 col27\" >0</td>\n",
              "    </tr>\n",
              "    <tr>\n",
              "      <th id=\"T_3e9ff_level0_row5\" class=\"row_heading level0 row5\" >5</th>\n",
              "      <td id=\"T_3e9ff_row5_col0\" class=\"data row5 col0\" >0</td>\n",
              "      <td id=\"T_3e9ff_row5_col1\" class=\"data row5 col1\" >0</td>\n",
              "      <td id=\"T_3e9ff_row5_col2\" class=\"data row5 col2\" >0</td>\n",
              "      <td id=\"T_3e9ff_row5_col3\" class=\"data row5 col3\" >0</td>\n",
              "      <td id=\"T_3e9ff_row5_col4\" class=\"data row5 col4\" >0</td>\n",
              "      <td id=\"T_3e9ff_row5_col5\" class=\"data row5 col5\" >0</td>\n",
              "      <td id=\"T_3e9ff_row5_col6\" class=\"data row5 col6\" >0</td>\n",
              "      <td id=\"T_3e9ff_row5_col7\" class=\"data row5 col7\" >0</td>\n",
              "      <td id=\"T_3e9ff_row5_col8\" class=\"data row5 col8\" >0</td>\n",
              "      <td id=\"T_3e9ff_row5_col9\" class=\"data row5 col9\" >29</td>\n",
              "      <td id=\"T_3e9ff_row5_col10\" class=\"data row5 col10\" >150</td>\n",
              "      <td id=\"T_3e9ff_row5_col11\" class=\"data row5 col11\" >195</td>\n",
              "      <td id=\"T_3e9ff_row5_col12\" class=\"data row5 col12\" >254</td>\n",
              "      <td id=\"T_3e9ff_row5_col13\" class=\"data row5 col13\" >255</td>\n",
              "      <td id=\"T_3e9ff_row5_col14\" class=\"data row5 col14\" >254</td>\n",
              "      <td id=\"T_3e9ff_row5_col15\" class=\"data row5 col15\" >176</td>\n",
              "      <td id=\"T_3e9ff_row5_col16\" class=\"data row5 col16\" >193</td>\n",
              "      <td id=\"T_3e9ff_row5_col17\" class=\"data row5 col17\" >150</td>\n",
              "      <td id=\"T_3e9ff_row5_col18\" class=\"data row5 col18\" >96</td>\n",
              "      <td id=\"T_3e9ff_row5_col19\" class=\"data row5 col19\" >0</td>\n",
              "      <td id=\"T_3e9ff_row5_col20\" class=\"data row5 col20\" >0</td>\n",
              "      <td id=\"T_3e9ff_row5_col21\" class=\"data row5 col21\" >0</td>\n",
              "      <td id=\"T_3e9ff_row5_col22\" class=\"data row5 col22\" >0</td>\n",
              "      <td id=\"T_3e9ff_row5_col23\" class=\"data row5 col23\" >0</td>\n",
              "      <td id=\"T_3e9ff_row5_col24\" class=\"data row5 col24\" >0</td>\n",
              "      <td id=\"T_3e9ff_row5_col25\" class=\"data row5 col25\" >0</td>\n",
              "      <td id=\"T_3e9ff_row5_col26\" class=\"data row5 col26\" >0</td>\n",
              "      <td id=\"T_3e9ff_row5_col27\" class=\"data row5 col27\" >0</td>\n",
              "    </tr>\n",
              "    <tr>\n",
              "      <th id=\"T_3e9ff_level0_row6\" class=\"row_heading level0 row6\" >6</th>\n",
              "      <td id=\"T_3e9ff_row6_col0\" class=\"data row6 col0\" >0</td>\n",
              "      <td id=\"T_3e9ff_row6_col1\" class=\"data row6 col1\" >0</td>\n",
              "      <td id=\"T_3e9ff_row6_col2\" class=\"data row6 col2\" >0</td>\n",
              "      <td id=\"T_3e9ff_row6_col3\" class=\"data row6 col3\" >0</td>\n",
              "      <td id=\"T_3e9ff_row6_col4\" class=\"data row6 col4\" >0</td>\n",
              "      <td id=\"T_3e9ff_row6_col5\" class=\"data row6 col5\" >0</td>\n",
              "      <td id=\"T_3e9ff_row6_col6\" class=\"data row6 col6\" >0</td>\n",
              "      <td id=\"T_3e9ff_row6_col7\" class=\"data row6 col7\" >48</td>\n",
              "      <td id=\"T_3e9ff_row6_col8\" class=\"data row6 col8\" >166</td>\n",
              "      <td id=\"T_3e9ff_row6_col9\" class=\"data row6 col9\" >224</td>\n",
              "      <td id=\"T_3e9ff_row6_col10\" class=\"data row6 col10\" >253</td>\n",
              "      <td id=\"T_3e9ff_row6_col11\" class=\"data row6 col11\" >253</td>\n",
              "      <td id=\"T_3e9ff_row6_col12\" class=\"data row6 col12\" >234</td>\n",
              "      <td id=\"T_3e9ff_row6_col13\" class=\"data row6 col13\" >196</td>\n",
              "      <td id=\"T_3e9ff_row6_col14\" class=\"data row6 col14\" >253</td>\n",
              "      <td id=\"T_3e9ff_row6_col15\" class=\"data row6 col15\" >253</td>\n",
              "      <td id=\"T_3e9ff_row6_col16\" class=\"data row6 col16\" >253</td>\n",
              "      <td id=\"T_3e9ff_row6_col17\" class=\"data row6 col17\" >253</td>\n",
              "      <td id=\"T_3e9ff_row6_col18\" class=\"data row6 col18\" >233</td>\n",
              "      <td id=\"T_3e9ff_row6_col19\" class=\"data row6 col19\" >0</td>\n",
              "      <td id=\"T_3e9ff_row6_col20\" class=\"data row6 col20\" >0</td>\n",
              "      <td id=\"T_3e9ff_row6_col21\" class=\"data row6 col21\" >0</td>\n",
              "      <td id=\"T_3e9ff_row6_col22\" class=\"data row6 col22\" >0</td>\n",
              "      <td id=\"T_3e9ff_row6_col23\" class=\"data row6 col23\" >0</td>\n",
              "      <td id=\"T_3e9ff_row6_col24\" class=\"data row6 col24\" >0</td>\n",
              "      <td id=\"T_3e9ff_row6_col25\" class=\"data row6 col25\" >0</td>\n",
              "      <td id=\"T_3e9ff_row6_col26\" class=\"data row6 col26\" >0</td>\n",
              "      <td id=\"T_3e9ff_row6_col27\" class=\"data row6 col27\" >0</td>\n",
              "    </tr>\n",
              "    <tr>\n",
              "      <th id=\"T_3e9ff_level0_row7\" class=\"row_heading level0 row7\" >7</th>\n",
              "      <td id=\"T_3e9ff_row7_col0\" class=\"data row7 col0\" >0</td>\n",
              "      <td id=\"T_3e9ff_row7_col1\" class=\"data row7 col1\" >0</td>\n",
              "      <td id=\"T_3e9ff_row7_col2\" class=\"data row7 col2\" >0</td>\n",
              "      <td id=\"T_3e9ff_row7_col3\" class=\"data row7 col3\" >0</td>\n",
              "      <td id=\"T_3e9ff_row7_col4\" class=\"data row7 col4\" >0</td>\n",
              "      <td id=\"T_3e9ff_row7_col5\" class=\"data row7 col5\" >93</td>\n",
              "      <td id=\"T_3e9ff_row7_col6\" class=\"data row7 col6\" >244</td>\n",
              "      <td id=\"T_3e9ff_row7_col7\" class=\"data row7 col7\" >249</td>\n",
              "      <td id=\"T_3e9ff_row7_col8\" class=\"data row7 col8\" >253</td>\n",
              "      <td id=\"T_3e9ff_row7_col9\" class=\"data row7 col9\" >187</td>\n",
              "      <td id=\"T_3e9ff_row7_col10\" class=\"data row7 col10\" >46</td>\n",
              "      <td id=\"T_3e9ff_row7_col11\" class=\"data row7 col11\" >10</td>\n",
              "      <td id=\"T_3e9ff_row7_col12\" class=\"data row7 col12\" >8</td>\n",
              "      <td id=\"T_3e9ff_row7_col13\" class=\"data row7 col13\" >4</td>\n",
              "      <td id=\"T_3e9ff_row7_col14\" class=\"data row7 col14\" >10</td>\n",
              "      <td id=\"T_3e9ff_row7_col15\" class=\"data row7 col15\" >194</td>\n",
              "      <td id=\"T_3e9ff_row7_col16\" class=\"data row7 col16\" >253</td>\n",
              "      <td id=\"T_3e9ff_row7_col17\" class=\"data row7 col17\" >253</td>\n",
              "      <td id=\"T_3e9ff_row7_col18\" class=\"data row7 col18\" >233</td>\n",
              "      <td id=\"T_3e9ff_row7_col19\" class=\"data row7 col19\" >0</td>\n",
              "      <td id=\"T_3e9ff_row7_col20\" class=\"data row7 col20\" >0</td>\n",
              "      <td id=\"T_3e9ff_row7_col21\" class=\"data row7 col21\" >0</td>\n",
              "      <td id=\"T_3e9ff_row7_col22\" class=\"data row7 col22\" >0</td>\n",
              "      <td id=\"T_3e9ff_row7_col23\" class=\"data row7 col23\" >0</td>\n",
              "      <td id=\"T_3e9ff_row7_col24\" class=\"data row7 col24\" >0</td>\n",
              "      <td id=\"T_3e9ff_row7_col25\" class=\"data row7 col25\" >0</td>\n",
              "      <td id=\"T_3e9ff_row7_col26\" class=\"data row7 col26\" >0</td>\n",
              "      <td id=\"T_3e9ff_row7_col27\" class=\"data row7 col27\" >0</td>\n",
              "    </tr>\n",
              "    <tr>\n",
              "      <th id=\"T_3e9ff_level0_row8\" class=\"row_heading level0 row8\" >8</th>\n",
              "      <td id=\"T_3e9ff_row8_col0\" class=\"data row8 col0\" >0</td>\n",
              "      <td id=\"T_3e9ff_row8_col1\" class=\"data row8 col1\" >0</td>\n",
              "      <td id=\"T_3e9ff_row8_col2\" class=\"data row8 col2\" >0</td>\n",
              "      <td id=\"T_3e9ff_row8_col3\" class=\"data row8 col3\" >0</td>\n",
              "      <td id=\"T_3e9ff_row8_col4\" class=\"data row8 col4\" >0</td>\n",
              "      <td id=\"T_3e9ff_row8_col5\" class=\"data row8 col5\" >107</td>\n",
              "      <td id=\"T_3e9ff_row8_col6\" class=\"data row8 col6\" >253</td>\n",
              "      <td id=\"T_3e9ff_row8_col7\" class=\"data row8 col7\" >253</td>\n",
              "      <td id=\"T_3e9ff_row8_col8\" class=\"data row8 col8\" >230</td>\n",
              "      <td id=\"T_3e9ff_row8_col9\" class=\"data row8 col9\" >48</td>\n",
              "      <td id=\"T_3e9ff_row8_col10\" class=\"data row8 col10\" >0</td>\n",
              "      <td id=\"T_3e9ff_row8_col11\" class=\"data row8 col11\" >0</td>\n",
              "      <td id=\"T_3e9ff_row8_col12\" class=\"data row8 col12\" >0</td>\n",
              "      <td id=\"T_3e9ff_row8_col13\" class=\"data row8 col13\" >0</td>\n",
              "      <td id=\"T_3e9ff_row8_col14\" class=\"data row8 col14\" >0</td>\n",
              "      <td id=\"T_3e9ff_row8_col15\" class=\"data row8 col15\" >192</td>\n",
              "      <td id=\"T_3e9ff_row8_col16\" class=\"data row8 col16\" >253</td>\n",
              "      <td id=\"T_3e9ff_row8_col17\" class=\"data row8 col17\" >253</td>\n",
              "      <td id=\"T_3e9ff_row8_col18\" class=\"data row8 col18\" >156</td>\n",
              "      <td id=\"T_3e9ff_row8_col19\" class=\"data row8 col19\" >0</td>\n",
              "      <td id=\"T_3e9ff_row8_col20\" class=\"data row8 col20\" >0</td>\n",
              "      <td id=\"T_3e9ff_row8_col21\" class=\"data row8 col21\" >0</td>\n",
              "      <td id=\"T_3e9ff_row8_col22\" class=\"data row8 col22\" >0</td>\n",
              "      <td id=\"T_3e9ff_row8_col23\" class=\"data row8 col23\" >0</td>\n",
              "      <td id=\"T_3e9ff_row8_col24\" class=\"data row8 col24\" >0</td>\n",
              "      <td id=\"T_3e9ff_row8_col25\" class=\"data row8 col25\" >0</td>\n",
              "      <td id=\"T_3e9ff_row8_col26\" class=\"data row8 col26\" >0</td>\n",
              "      <td id=\"T_3e9ff_row8_col27\" class=\"data row8 col27\" >0</td>\n",
              "    </tr>\n",
              "    <tr>\n",
              "      <th id=\"T_3e9ff_level0_row9\" class=\"row_heading level0 row9\" >9</th>\n",
              "      <td id=\"T_3e9ff_row9_col0\" class=\"data row9 col0\" >0</td>\n",
              "      <td id=\"T_3e9ff_row9_col1\" class=\"data row9 col1\" >0</td>\n",
              "      <td id=\"T_3e9ff_row9_col2\" class=\"data row9 col2\" >0</td>\n",
              "      <td id=\"T_3e9ff_row9_col3\" class=\"data row9 col3\" >0</td>\n",
              "      <td id=\"T_3e9ff_row9_col4\" class=\"data row9 col4\" >0</td>\n",
              "      <td id=\"T_3e9ff_row9_col5\" class=\"data row9 col5\" >3</td>\n",
              "      <td id=\"T_3e9ff_row9_col6\" class=\"data row9 col6\" >20</td>\n",
              "      <td id=\"T_3e9ff_row9_col7\" class=\"data row9 col7\" >20</td>\n",
              "      <td id=\"T_3e9ff_row9_col8\" class=\"data row9 col8\" >15</td>\n",
              "      <td id=\"T_3e9ff_row9_col9\" class=\"data row9 col9\" >0</td>\n",
              "      <td id=\"T_3e9ff_row9_col10\" class=\"data row9 col10\" >0</td>\n",
              "      <td id=\"T_3e9ff_row9_col11\" class=\"data row9 col11\" >0</td>\n",
              "      <td id=\"T_3e9ff_row9_col12\" class=\"data row9 col12\" >0</td>\n",
              "      <td id=\"T_3e9ff_row9_col13\" class=\"data row9 col13\" >0</td>\n",
              "      <td id=\"T_3e9ff_row9_col14\" class=\"data row9 col14\" >43</td>\n",
              "      <td id=\"T_3e9ff_row9_col15\" class=\"data row9 col15\" >224</td>\n",
              "      <td id=\"T_3e9ff_row9_col16\" class=\"data row9 col16\" >253</td>\n",
              "      <td id=\"T_3e9ff_row9_col17\" class=\"data row9 col17\" >245</td>\n",
              "      <td id=\"T_3e9ff_row9_col18\" class=\"data row9 col18\" >74</td>\n",
              "      <td id=\"T_3e9ff_row9_col19\" class=\"data row9 col19\" >0</td>\n",
              "      <td id=\"T_3e9ff_row9_col20\" class=\"data row9 col20\" >0</td>\n",
              "      <td id=\"T_3e9ff_row9_col21\" class=\"data row9 col21\" >0</td>\n",
              "      <td id=\"T_3e9ff_row9_col22\" class=\"data row9 col22\" >0</td>\n",
              "      <td id=\"T_3e9ff_row9_col23\" class=\"data row9 col23\" >0</td>\n",
              "      <td id=\"T_3e9ff_row9_col24\" class=\"data row9 col24\" >0</td>\n",
              "      <td id=\"T_3e9ff_row9_col25\" class=\"data row9 col25\" >0</td>\n",
              "      <td id=\"T_3e9ff_row9_col26\" class=\"data row9 col26\" >0</td>\n",
              "      <td id=\"T_3e9ff_row9_col27\" class=\"data row9 col27\" >0</td>\n",
              "    </tr>\n",
              "    <tr>\n",
              "      <th id=\"T_3e9ff_level0_row10\" class=\"row_heading level0 row10\" >10</th>\n",
              "      <td id=\"T_3e9ff_row10_col0\" class=\"data row10 col0\" >0</td>\n",
              "      <td id=\"T_3e9ff_row10_col1\" class=\"data row10 col1\" >0</td>\n",
              "      <td id=\"T_3e9ff_row10_col2\" class=\"data row10 col2\" >0</td>\n",
              "      <td id=\"T_3e9ff_row10_col3\" class=\"data row10 col3\" >0</td>\n",
              "      <td id=\"T_3e9ff_row10_col4\" class=\"data row10 col4\" >0</td>\n",
              "      <td id=\"T_3e9ff_row10_col5\" class=\"data row10 col5\" >0</td>\n",
              "      <td id=\"T_3e9ff_row10_col6\" class=\"data row10 col6\" >0</td>\n",
              "      <td id=\"T_3e9ff_row10_col7\" class=\"data row10 col7\" >0</td>\n",
              "      <td id=\"T_3e9ff_row10_col8\" class=\"data row10 col8\" >0</td>\n",
              "      <td id=\"T_3e9ff_row10_col9\" class=\"data row10 col9\" >0</td>\n",
              "      <td id=\"T_3e9ff_row10_col10\" class=\"data row10 col10\" >0</td>\n",
              "      <td id=\"T_3e9ff_row10_col11\" class=\"data row10 col11\" >0</td>\n",
              "      <td id=\"T_3e9ff_row10_col12\" class=\"data row10 col12\" >0</td>\n",
              "      <td id=\"T_3e9ff_row10_col13\" class=\"data row10 col13\" >0</td>\n",
              "      <td id=\"T_3e9ff_row10_col14\" class=\"data row10 col14\" >249</td>\n",
              "      <td id=\"T_3e9ff_row10_col15\" class=\"data row10 col15\" >253</td>\n",
              "      <td id=\"T_3e9ff_row10_col16\" class=\"data row10 col16\" >245</td>\n",
              "      <td id=\"T_3e9ff_row10_col17\" class=\"data row10 col17\" >126</td>\n",
              "      <td id=\"T_3e9ff_row10_col18\" class=\"data row10 col18\" >0</td>\n",
              "      <td id=\"T_3e9ff_row10_col19\" class=\"data row10 col19\" >0</td>\n",
              "      <td id=\"T_3e9ff_row10_col20\" class=\"data row10 col20\" >0</td>\n",
              "      <td id=\"T_3e9ff_row10_col21\" class=\"data row10 col21\" >0</td>\n",
              "      <td id=\"T_3e9ff_row10_col22\" class=\"data row10 col22\" >0</td>\n",
              "      <td id=\"T_3e9ff_row10_col23\" class=\"data row10 col23\" >0</td>\n",
              "      <td id=\"T_3e9ff_row10_col24\" class=\"data row10 col24\" >0</td>\n",
              "      <td id=\"T_3e9ff_row10_col25\" class=\"data row10 col25\" >0</td>\n",
              "      <td id=\"T_3e9ff_row10_col26\" class=\"data row10 col26\" >0</td>\n",
              "      <td id=\"T_3e9ff_row10_col27\" class=\"data row10 col27\" >0</td>\n",
              "    </tr>\n",
              "    <tr>\n",
              "      <th id=\"T_3e9ff_level0_row11\" class=\"row_heading level0 row11\" >11</th>\n",
              "      <td id=\"T_3e9ff_row11_col0\" class=\"data row11 col0\" >0</td>\n",
              "      <td id=\"T_3e9ff_row11_col1\" class=\"data row11 col1\" >0</td>\n",
              "      <td id=\"T_3e9ff_row11_col2\" class=\"data row11 col2\" >0</td>\n",
              "      <td id=\"T_3e9ff_row11_col3\" class=\"data row11 col3\" >0</td>\n",
              "      <td id=\"T_3e9ff_row11_col4\" class=\"data row11 col4\" >0</td>\n",
              "      <td id=\"T_3e9ff_row11_col5\" class=\"data row11 col5\" >0</td>\n",
              "      <td id=\"T_3e9ff_row11_col6\" class=\"data row11 col6\" >0</td>\n",
              "      <td id=\"T_3e9ff_row11_col7\" class=\"data row11 col7\" >0</td>\n",
              "      <td id=\"T_3e9ff_row11_col8\" class=\"data row11 col8\" >0</td>\n",
              "      <td id=\"T_3e9ff_row11_col9\" class=\"data row11 col9\" >0</td>\n",
              "      <td id=\"T_3e9ff_row11_col10\" class=\"data row11 col10\" >0</td>\n",
              "      <td id=\"T_3e9ff_row11_col11\" class=\"data row11 col11\" >14</td>\n",
              "      <td id=\"T_3e9ff_row11_col12\" class=\"data row11 col12\" >101</td>\n",
              "      <td id=\"T_3e9ff_row11_col13\" class=\"data row11 col13\" >223</td>\n",
              "      <td id=\"T_3e9ff_row11_col14\" class=\"data row11 col14\" >253</td>\n",
              "      <td id=\"T_3e9ff_row11_col15\" class=\"data row11 col15\" >248</td>\n",
              "      <td id=\"T_3e9ff_row11_col16\" class=\"data row11 col16\" >124</td>\n",
              "      <td id=\"T_3e9ff_row11_col17\" class=\"data row11 col17\" >0</td>\n",
              "      <td id=\"T_3e9ff_row11_col18\" class=\"data row11 col18\" >0</td>\n",
              "      <td id=\"T_3e9ff_row11_col19\" class=\"data row11 col19\" >0</td>\n",
              "      <td id=\"T_3e9ff_row11_col20\" class=\"data row11 col20\" >0</td>\n",
              "      <td id=\"T_3e9ff_row11_col21\" class=\"data row11 col21\" >0</td>\n",
              "      <td id=\"T_3e9ff_row11_col22\" class=\"data row11 col22\" >0</td>\n",
              "      <td id=\"T_3e9ff_row11_col23\" class=\"data row11 col23\" >0</td>\n",
              "      <td id=\"T_3e9ff_row11_col24\" class=\"data row11 col24\" >0</td>\n",
              "      <td id=\"T_3e9ff_row11_col25\" class=\"data row11 col25\" >0</td>\n",
              "      <td id=\"T_3e9ff_row11_col26\" class=\"data row11 col26\" >0</td>\n",
              "      <td id=\"T_3e9ff_row11_col27\" class=\"data row11 col27\" >0</td>\n",
              "    </tr>\n",
              "    <tr>\n",
              "      <th id=\"T_3e9ff_level0_row12\" class=\"row_heading level0 row12\" >12</th>\n",
              "      <td id=\"T_3e9ff_row12_col0\" class=\"data row12 col0\" >0</td>\n",
              "      <td id=\"T_3e9ff_row12_col1\" class=\"data row12 col1\" >0</td>\n",
              "      <td id=\"T_3e9ff_row12_col2\" class=\"data row12 col2\" >0</td>\n",
              "      <td id=\"T_3e9ff_row12_col3\" class=\"data row12 col3\" >0</td>\n",
              "      <td id=\"T_3e9ff_row12_col4\" class=\"data row12 col4\" >0</td>\n",
              "      <td id=\"T_3e9ff_row12_col5\" class=\"data row12 col5\" >0</td>\n",
              "      <td id=\"T_3e9ff_row12_col6\" class=\"data row12 col6\" >0</td>\n",
              "      <td id=\"T_3e9ff_row12_col7\" class=\"data row12 col7\" >0</td>\n",
              "      <td id=\"T_3e9ff_row12_col8\" class=\"data row12 col8\" >0</td>\n",
              "      <td id=\"T_3e9ff_row12_col9\" class=\"data row12 col9\" >11</td>\n",
              "      <td id=\"T_3e9ff_row12_col10\" class=\"data row12 col10\" >166</td>\n",
              "      <td id=\"T_3e9ff_row12_col11\" class=\"data row12 col11\" >239</td>\n",
              "      <td id=\"T_3e9ff_row12_col12\" class=\"data row12 col12\" >253</td>\n",
              "      <td id=\"T_3e9ff_row12_col13\" class=\"data row12 col13\" >253</td>\n",
              "      <td id=\"T_3e9ff_row12_col14\" class=\"data row12 col14\" >253</td>\n",
              "      <td id=\"T_3e9ff_row12_col15\" class=\"data row12 col15\" >187</td>\n",
              "      <td id=\"T_3e9ff_row12_col16\" class=\"data row12 col16\" >30</td>\n",
              "      <td id=\"T_3e9ff_row12_col17\" class=\"data row12 col17\" >0</td>\n",
              "      <td id=\"T_3e9ff_row12_col18\" class=\"data row12 col18\" >0</td>\n",
              "      <td id=\"T_3e9ff_row12_col19\" class=\"data row12 col19\" >0</td>\n",
              "      <td id=\"T_3e9ff_row12_col20\" class=\"data row12 col20\" >0</td>\n",
              "      <td id=\"T_3e9ff_row12_col21\" class=\"data row12 col21\" >0</td>\n",
              "      <td id=\"T_3e9ff_row12_col22\" class=\"data row12 col22\" >0</td>\n",
              "      <td id=\"T_3e9ff_row12_col23\" class=\"data row12 col23\" >0</td>\n",
              "      <td id=\"T_3e9ff_row12_col24\" class=\"data row12 col24\" >0</td>\n",
              "      <td id=\"T_3e9ff_row12_col25\" class=\"data row12 col25\" >0</td>\n",
              "      <td id=\"T_3e9ff_row12_col26\" class=\"data row12 col26\" >0</td>\n",
              "      <td id=\"T_3e9ff_row12_col27\" class=\"data row12 col27\" >0</td>\n",
              "    </tr>\n",
              "    <tr>\n",
              "      <th id=\"T_3e9ff_level0_row13\" class=\"row_heading level0 row13\" >13</th>\n",
              "      <td id=\"T_3e9ff_row13_col0\" class=\"data row13 col0\" >0</td>\n",
              "      <td id=\"T_3e9ff_row13_col1\" class=\"data row13 col1\" >0</td>\n",
              "      <td id=\"T_3e9ff_row13_col2\" class=\"data row13 col2\" >0</td>\n",
              "      <td id=\"T_3e9ff_row13_col3\" class=\"data row13 col3\" >0</td>\n",
              "      <td id=\"T_3e9ff_row13_col4\" class=\"data row13 col4\" >0</td>\n",
              "      <td id=\"T_3e9ff_row13_col5\" class=\"data row13 col5\" >0</td>\n",
              "      <td id=\"T_3e9ff_row13_col6\" class=\"data row13 col6\" >0</td>\n",
              "      <td id=\"T_3e9ff_row13_col7\" class=\"data row13 col7\" >0</td>\n",
              "      <td id=\"T_3e9ff_row13_col8\" class=\"data row13 col8\" >0</td>\n",
              "      <td id=\"T_3e9ff_row13_col9\" class=\"data row13 col9\" >16</td>\n",
              "      <td id=\"T_3e9ff_row13_col10\" class=\"data row13 col10\" >248</td>\n",
              "      <td id=\"T_3e9ff_row13_col11\" class=\"data row13 col11\" >250</td>\n",
              "      <td id=\"T_3e9ff_row13_col12\" class=\"data row13 col12\" >253</td>\n",
              "      <td id=\"T_3e9ff_row13_col13\" class=\"data row13 col13\" >253</td>\n",
              "      <td id=\"T_3e9ff_row13_col14\" class=\"data row13 col14\" >253</td>\n",
              "      <td id=\"T_3e9ff_row13_col15\" class=\"data row13 col15\" >253</td>\n",
              "      <td id=\"T_3e9ff_row13_col16\" class=\"data row13 col16\" >232</td>\n",
              "      <td id=\"T_3e9ff_row13_col17\" class=\"data row13 col17\" >213</td>\n",
              "      <td id=\"T_3e9ff_row13_col18\" class=\"data row13 col18\" >111</td>\n",
              "      <td id=\"T_3e9ff_row13_col19\" class=\"data row13 col19\" >2</td>\n",
              "      <td id=\"T_3e9ff_row13_col20\" class=\"data row13 col20\" >0</td>\n",
              "      <td id=\"T_3e9ff_row13_col21\" class=\"data row13 col21\" >0</td>\n",
              "      <td id=\"T_3e9ff_row13_col22\" class=\"data row13 col22\" >0</td>\n",
              "      <td id=\"T_3e9ff_row13_col23\" class=\"data row13 col23\" >0</td>\n",
              "      <td id=\"T_3e9ff_row13_col24\" class=\"data row13 col24\" >0</td>\n",
              "      <td id=\"T_3e9ff_row13_col25\" class=\"data row13 col25\" >0</td>\n",
              "      <td id=\"T_3e9ff_row13_col26\" class=\"data row13 col26\" >0</td>\n",
              "      <td id=\"T_3e9ff_row13_col27\" class=\"data row13 col27\" >0</td>\n",
              "    </tr>\n",
              "    <tr>\n",
              "      <th id=\"T_3e9ff_level0_row14\" class=\"row_heading level0 row14\" >14</th>\n",
              "      <td id=\"T_3e9ff_row14_col0\" class=\"data row14 col0\" >0</td>\n",
              "      <td id=\"T_3e9ff_row14_col1\" class=\"data row14 col1\" >0</td>\n",
              "      <td id=\"T_3e9ff_row14_col2\" class=\"data row14 col2\" >0</td>\n",
              "      <td id=\"T_3e9ff_row14_col3\" class=\"data row14 col3\" >0</td>\n",
              "      <td id=\"T_3e9ff_row14_col4\" class=\"data row14 col4\" >0</td>\n",
              "      <td id=\"T_3e9ff_row14_col5\" class=\"data row14 col5\" >0</td>\n",
              "      <td id=\"T_3e9ff_row14_col6\" class=\"data row14 col6\" >0</td>\n",
              "      <td id=\"T_3e9ff_row14_col7\" class=\"data row14 col7\" >0</td>\n",
              "      <td id=\"T_3e9ff_row14_col8\" class=\"data row14 col8\" >0</td>\n",
              "      <td id=\"T_3e9ff_row14_col9\" class=\"data row14 col9\" >0</td>\n",
              "      <td id=\"T_3e9ff_row14_col10\" class=\"data row14 col10\" >0</td>\n",
              "      <td id=\"T_3e9ff_row14_col11\" class=\"data row14 col11\" >43</td>\n",
              "      <td id=\"T_3e9ff_row14_col12\" class=\"data row14 col12\" >98</td>\n",
              "      <td id=\"T_3e9ff_row14_col13\" class=\"data row14 col13\" >98</td>\n",
              "      <td id=\"T_3e9ff_row14_col14\" class=\"data row14 col14\" >208</td>\n",
              "      <td id=\"T_3e9ff_row14_col15\" class=\"data row14 col15\" >253</td>\n",
              "      <td id=\"T_3e9ff_row14_col16\" class=\"data row14 col16\" >253</td>\n",
              "      <td id=\"T_3e9ff_row14_col17\" class=\"data row14 col17\" >253</td>\n",
              "      <td id=\"T_3e9ff_row14_col18\" class=\"data row14 col18\" >253</td>\n",
              "      <td id=\"T_3e9ff_row14_col19\" class=\"data row14 col19\" >187</td>\n",
              "      <td id=\"T_3e9ff_row14_col20\" class=\"data row14 col20\" >22</td>\n",
              "      <td id=\"T_3e9ff_row14_col21\" class=\"data row14 col21\" >0</td>\n",
              "      <td id=\"T_3e9ff_row14_col22\" class=\"data row14 col22\" >0</td>\n",
              "      <td id=\"T_3e9ff_row14_col23\" class=\"data row14 col23\" >0</td>\n",
              "      <td id=\"T_3e9ff_row14_col24\" class=\"data row14 col24\" >0</td>\n",
              "      <td id=\"T_3e9ff_row14_col25\" class=\"data row14 col25\" >0</td>\n",
              "      <td id=\"T_3e9ff_row14_col26\" class=\"data row14 col26\" >0</td>\n",
              "      <td id=\"T_3e9ff_row14_col27\" class=\"data row14 col27\" >0</td>\n",
              "    </tr>\n",
              "    <tr>\n",
              "      <th id=\"T_3e9ff_level0_row15\" class=\"row_heading level0 row15\" >15</th>\n",
              "      <td id=\"T_3e9ff_row15_col0\" class=\"data row15 col0\" >0</td>\n",
              "      <td id=\"T_3e9ff_row15_col1\" class=\"data row15 col1\" >0</td>\n",
              "      <td id=\"T_3e9ff_row15_col2\" class=\"data row15 col2\" >0</td>\n",
              "      <td id=\"T_3e9ff_row15_col3\" class=\"data row15 col3\" >0</td>\n",
              "      <td id=\"T_3e9ff_row15_col4\" class=\"data row15 col4\" >0</td>\n",
              "      <td id=\"T_3e9ff_row15_col5\" class=\"data row15 col5\" >0</td>\n",
              "      <td id=\"T_3e9ff_row15_col6\" class=\"data row15 col6\" >0</td>\n",
              "      <td id=\"T_3e9ff_row15_col7\" class=\"data row15 col7\" >0</td>\n",
              "      <td id=\"T_3e9ff_row15_col8\" class=\"data row15 col8\" >0</td>\n",
              "      <td id=\"T_3e9ff_row15_col9\" class=\"data row15 col9\" >0</td>\n",
              "      <td id=\"T_3e9ff_row15_col10\" class=\"data row15 col10\" >0</td>\n",
              "      <td id=\"T_3e9ff_row15_col11\" class=\"data row15 col11\" >0</td>\n",
              "      <td id=\"T_3e9ff_row15_col12\" class=\"data row15 col12\" >0</td>\n",
              "      <td id=\"T_3e9ff_row15_col13\" class=\"data row15 col13\" >0</td>\n",
              "      <td id=\"T_3e9ff_row15_col14\" class=\"data row15 col14\" >9</td>\n",
              "      <td id=\"T_3e9ff_row15_col15\" class=\"data row15 col15\" >51</td>\n",
              "      <td id=\"T_3e9ff_row15_col16\" class=\"data row15 col16\" >119</td>\n",
              "      <td id=\"T_3e9ff_row15_col17\" class=\"data row15 col17\" >253</td>\n",
              "      <td id=\"T_3e9ff_row15_col18\" class=\"data row15 col18\" >253</td>\n",
              "      <td id=\"T_3e9ff_row15_col19\" class=\"data row15 col19\" >253</td>\n",
              "      <td id=\"T_3e9ff_row15_col20\" class=\"data row15 col20\" >76</td>\n",
              "      <td id=\"T_3e9ff_row15_col21\" class=\"data row15 col21\" >0</td>\n",
              "      <td id=\"T_3e9ff_row15_col22\" class=\"data row15 col22\" >0</td>\n",
              "      <td id=\"T_3e9ff_row15_col23\" class=\"data row15 col23\" >0</td>\n",
              "      <td id=\"T_3e9ff_row15_col24\" class=\"data row15 col24\" >0</td>\n",
              "      <td id=\"T_3e9ff_row15_col25\" class=\"data row15 col25\" >0</td>\n",
              "      <td id=\"T_3e9ff_row15_col26\" class=\"data row15 col26\" >0</td>\n",
              "      <td id=\"T_3e9ff_row15_col27\" class=\"data row15 col27\" >0</td>\n",
              "    </tr>\n",
              "    <tr>\n",
              "      <th id=\"T_3e9ff_level0_row16\" class=\"row_heading level0 row16\" >16</th>\n",
              "      <td id=\"T_3e9ff_row16_col0\" class=\"data row16 col0\" >0</td>\n",
              "      <td id=\"T_3e9ff_row16_col1\" class=\"data row16 col1\" >0</td>\n",
              "      <td id=\"T_3e9ff_row16_col2\" class=\"data row16 col2\" >0</td>\n",
              "      <td id=\"T_3e9ff_row16_col3\" class=\"data row16 col3\" >0</td>\n",
              "      <td id=\"T_3e9ff_row16_col4\" class=\"data row16 col4\" >0</td>\n",
              "      <td id=\"T_3e9ff_row16_col5\" class=\"data row16 col5\" >0</td>\n",
              "      <td id=\"T_3e9ff_row16_col6\" class=\"data row16 col6\" >0</td>\n",
              "      <td id=\"T_3e9ff_row16_col7\" class=\"data row16 col7\" >0</td>\n",
              "      <td id=\"T_3e9ff_row16_col8\" class=\"data row16 col8\" >0</td>\n",
              "      <td id=\"T_3e9ff_row16_col9\" class=\"data row16 col9\" >0</td>\n",
              "      <td id=\"T_3e9ff_row16_col10\" class=\"data row16 col10\" >0</td>\n",
              "      <td id=\"T_3e9ff_row16_col11\" class=\"data row16 col11\" >0</td>\n",
              "      <td id=\"T_3e9ff_row16_col12\" class=\"data row16 col12\" >0</td>\n",
              "      <td id=\"T_3e9ff_row16_col13\" class=\"data row16 col13\" >0</td>\n",
              "      <td id=\"T_3e9ff_row16_col14\" class=\"data row16 col14\" >0</td>\n",
              "      <td id=\"T_3e9ff_row16_col15\" class=\"data row16 col15\" >0</td>\n",
              "      <td id=\"T_3e9ff_row16_col16\" class=\"data row16 col16\" >1</td>\n",
              "      <td id=\"T_3e9ff_row16_col17\" class=\"data row16 col17\" >183</td>\n",
              "      <td id=\"T_3e9ff_row16_col18\" class=\"data row16 col18\" >253</td>\n",
              "      <td id=\"T_3e9ff_row16_col19\" class=\"data row16 col19\" >253</td>\n",
              "      <td id=\"T_3e9ff_row16_col20\" class=\"data row16 col20\" >139</td>\n",
              "      <td id=\"T_3e9ff_row16_col21\" class=\"data row16 col21\" >0</td>\n",
              "      <td id=\"T_3e9ff_row16_col22\" class=\"data row16 col22\" >0</td>\n",
              "      <td id=\"T_3e9ff_row16_col23\" class=\"data row16 col23\" >0</td>\n",
              "      <td id=\"T_3e9ff_row16_col24\" class=\"data row16 col24\" >0</td>\n",
              "      <td id=\"T_3e9ff_row16_col25\" class=\"data row16 col25\" >0</td>\n",
              "      <td id=\"T_3e9ff_row16_col26\" class=\"data row16 col26\" >0</td>\n",
              "      <td id=\"T_3e9ff_row16_col27\" class=\"data row16 col27\" >0</td>\n",
              "    </tr>\n",
              "    <tr>\n",
              "      <th id=\"T_3e9ff_level0_row17\" class=\"row_heading level0 row17\" >17</th>\n",
              "      <td id=\"T_3e9ff_row17_col0\" class=\"data row17 col0\" >0</td>\n",
              "      <td id=\"T_3e9ff_row17_col1\" class=\"data row17 col1\" >0</td>\n",
              "      <td id=\"T_3e9ff_row17_col2\" class=\"data row17 col2\" >0</td>\n",
              "      <td id=\"T_3e9ff_row17_col3\" class=\"data row17 col3\" >0</td>\n",
              "      <td id=\"T_3e9ff_row17_col4\" class=\"data row17 col4\" >0</td>\n",
              "      <td id=\"T_3e9ff_row17_col5\" class=\"data row17 col5\" >0</td>\n",
              "      <td id=\"T_3e9ff_row17_col6\" class=\"data row17 col6\" >0</td>\n",
              "      <td id=\"T_3e9ff_row17_col7\" class=\"data row17 col7\" >0</td>\n",
              "      <td id=\"T_3e9ff_row17_col8\" class=\"data row17 col8\" >0</td>\n",
              "      <td id=\"T_3e9ff_row17_col9\" class=\"data row17 col9\" >0</td>\n",
              "      <td id=\"T_3e9ff_row17_col10\" class=\"data row17 col10\" >0</td>\n",
              "      <td id=\"T_3e9ff_row17_col11\" class=\"data row17 col11\" >0</td>\n",
              "      <td id=\"T_3e9ff_row17_col12\" class=\"data row17 col12\" >0</td>\n",
              "      <td id=\"T_3e9ff_row17_col13\" class=\"data row17 col13\" >0</td>\n",
              "      <td id=\"T_3e9ff_row17_col14\" class=\"data row17 col14\" >0</td>\n",
              "      <td id=\"T_3e9ff_row17_col15\" class=\"data row17 col15\" >0</td>\n",
              "      <td id=\"T_3e9ff_row17_col16\" class=\"data row17 col16\" >0</td>\n",
              "      <td id=\"T_3e9ff_row17_col17\" class=\"data row17 col17\" >182</td>\n",
              "      <td id=\"T_3e9ff_row17_col18\" class=\"data row17 col18\" >253</td>\n",
              "      <td id=\"T_3e9ff_row17_col19\" class=\"data row17 col19\" >253</td>\n",
              "      <td id=\"T_3e9ff_row17_col20\" class=\"data row17 col20\" >104</td>\n",
              "      <td id=\"T_3e9ff_row17_col21\" class=\"data row17 col21\" >0</td>\n",
              "      <td id=\"T_3e9ff_row17_col22\" class=\"data row17 col22\" >0</td>\n",
              "      <td id=\"T_3e9ff_row17_col23\" class=\"data row17 col23\" >0</td>\n",
              "      <td id=\"T_3e9ff_row17_col24\" class=\"data row17 col24\" >0</td>\n",
              "      <td id=\"T_3e9ff_row17_col25\" class=\"data row17 col25\" >0</td>\n",
              "      <td id=\"T_3e9ff_row17_col26\" class=\"data row17 col26\" >0</td>\n",
              "      <td id=\"T_3e9ff_row17_col27\" class=\"data row17 col27\" >0</td>\n",
              "    </tr>\n",
              "    <tr>\n",
              "      <th id=\"T_3e9ff_level0_row18\" class=\"row_heading level0 row18\" >18</th>\n",
              "      <td id=\"T_3e9ff_row18_col0\" class=\"data row18 col0\" >0</td>\n",
              "      <td id=\"T_3e9ff_row18_col1\" class=\"data row18 col1\" >0</td>\n",
              "      <td id=\"T_3e9ff_row18_col2\" class=\"data row18 col2\" >0</td>\n",
              "      <td id=\"T_3e9ff_row18_col3\" class=\"data row18 col3\" >0</td>\n",
              "      <td id=\"T_3e9ff_row18_col4\" class=\"data row18 col4\" >0</td>\n",
              "      <td id=\"T_3e9ff_row18_col5\" class=\"data row18 col5\" >0</td>\n",
              "      <td id=\"T_3e9ff_row18_col6\" class=\"data row18 col6\" >0</td>\n",
              "      <td id=\"T_3e9ff_row18_col7\" class=\"data row18 col7\" >0</td>\n",
              "      <td id=\"T_3e9ff_row18_col8\" class=\"data row18 col8\" >0</td>\n",
              "      <td id=\"T_3e9ff_row18_col9\" class=\"data row18 col9\" >0</td>\n",
              "      <td id=\"T_3e9ff_row18_col10\" class=\"data row18 col10\" >0</td>\n",
              "      <td id=\"T_3e9ff_row18_col11\" class=\"data row18 col11\" >0</td>\n",
              "      <td id=\"T_3e9ff_row18_col12\" class=\"data row18 col12\" >0</td>\n",
              "      <td id=\"T_3e9ff_row18_col13\" class=\"data row18 col13\" >0</td>\n",
              "      <td id=\"T_3e9ff_row18_col14\" class=\"data row18 col14\" >0</td>\n",
              "      <td id=\"T_3e9ff_row18_col15\" class=\"data row18 col15\" >0</td>\n",
              "      <td id=\"T_3e9ff_row18_col16\" class=\"data row18 col16\" >85</td>\n",
              "      <td id=\"T_3e9ff_row18_col17\" class=\"data row18 col17\" >249</td>\n",
              "      <td id=\"T_3e9ff_row18_col18\" class=\"data row18 col18\" >253</td>\n",
              "      <td id=\"T_3e9ff_row18_col19\" class=\"data row18 col19\" >253</td>\n",
              "      <td id=\"T_3e9ff_row18_col20\" class=\"data row18 col20\" >36</td>\n",
              "      <td id=\"T_3e9ff_row18_col21\" class=\"data row18 col21\" >0</td>\n",
              "      <td id=\"T_3e9ff_row18_col22\" class=\"data row18 col22\" >0</td>\n",
              "      <td id=\"T_3e9ff_row18_col23\" class=\"data row18 col23\" >0</td>\n",
              "      <td id=\"T_3e9ff_row18_col24\" class=\"data row18 col24\" >0</td>\n",
              "      <td id=\"T_3e9ff_row18_col25\" class=\"data row18 col25\" >0</td>\n",
              "      <td id=\"T_3e9ff_row18_col26\" class=\"data row18 col26\" >0</td>\n",
              "      <td id=\"T_3e9ff_row18_col27\" class=\"data row18 col27\" >0</td>\n",
              "    </tr>\n",
              "    <tr>\n",
              "      <th id=\"T_3e9ff_level0_row19\" class=\"row_heading level0 row19\" >19</th>\n",
              "      <td id=\"T_3e9ff_row19_col0\" class=\"data row19 col0\" >0</td>\n",
              "      <td id=\"T_3e9ff_row19_col1\" class=\"data row19 col1\" >0</td>\n",
              "      <td id=\"T_3e9ff_row19_col2\" class=\"data row19 col2\" >0</td>\n",
              "      <td id=\"T_3e9ff_row19_col3\" class=\"data row19 col3\" >0</td>\n",
              "      <td id=\"T_3e9ff_row19_col4\" class=\"data row19 col4\" >0</td>\n",
              "      <td id=\"T_3e9ff_row19_col5\" class=\"data row19 col5\" >0</td>\n",
              "      <td id=\"T_3e9ff_row19_col6\" class=\"data row19 col6\" >0</td>\n",
              "      <td id=\"T_3e9ff_row19_col7\" class=\"data row19 col7\" >0</td>\n",
              "      <td id=\"T_3e9ff_row19_col8\" class=\"data row19 col8\" >0</td>\n",
              "      <td id=\"T_3e9ff_row19_col9\" class=\"data row19 col9\" >0</td>\n",
              "      <td id=\"T_3e9ff_row19_col10\" class=\"data row19 col10\" >0</td>\n",
              "      <td id=\"T_3e9ff_row19_col11\" class=\"data row19 col11\" >0</td>\n",
              "      <td id=\"T_3e9ff_row19_col12\" class=\"data row19 col12\" >0</td>\n",
              "      <td id=\"T_3e9ff_row19_col13\" class=\"data row19 col13\" >0</td>\n",
              "      <td id=\"T_3e9ff_row19_col14\" class=\"data row19 col14\" >0</td>\n",
              "      <td id=\"T_3e9ff_row19_col15\" class=\"data row19 col15\" >60</td>\n",
              "      <td id=\"T_3e9ff_row19_col16\" class=\"data row19 col16\" >214</td>\n",
              "      <td id=\"T_3e9ff_row19_col17\" class=\"data row19 col17\" >253</td>\n",
              "      <td id=\"T_3e9ff_row19_col18\" class=\"data row19 col18\" >253</td>\n",
              "      <td id=\"T_3e9ff_row19_col19\" class=\"data row19 col19\" >173</td>\n",
              "      <td id=\"T_3e9ff_row19_col20\" class=\"data row19 col20\" >11</td>\n",
              "      <td id=\"T_3e9ff_row19_col21\" class=\"data row19 col21\" >0</td>\n",
              "      <td id=\"T_3e9ff_row19_col22\" class=\"data row19 col22\" >0</td>\n",
              "      <td id=\"T_3e9ff_row19_col23\" class=\"data row19 col23\" >0</td>\n",
              "      <td id=\"T_3e9ff_row19_col24\" class=\"data row19 col24\" >0</td>\n",
              "      <td id=\"T_3e9ff_row19_col25\" class=\"data row19 col25\" >0</td>\n",
              "      <td id=\"T_3e9ff_row19_col26\" class=\"data row19 col26\" >0</td>\n",
              "      <td id=\"T_3e9ff_row19_col27\" class=\"data row19 col27\" >0</td>\n",
              "    </tr>\n",
              "    <tr>\n",
              "      <th id=\"T_3e9ff_level0_row20\" class=\"row_heading level0 row20\" >20</th>\n",
              "      <td id=\"T_3e9ff_row20_col0\" class=\"data row20 col0\" >0</td>\n",
              "      <td id=\"T_3e9ff_row20_col1\" class=\"data row20 col1\" >0</td>\n",
              "      <td id=\"T_3e9ff_row20_col2\" class=\"data row20 col2\" >0</td>\n",
              "      <td id=\"T_3e9ff_row20_col3\" class=\"data row20 col3\" >0</td>\n",
              "      <td id=\"T_3e9ff_row20_col4\" class=\"data row20 col4\" >0</td>\n",
              "      <td id=\"T_3e9ff_row20_col5\" class=\"data row20 col5\" >0</td>\n",
              "      <td id=\"T_3e9ff_row20_col6\" class=\"data row20 col6\" >0</td>\n",
              "      <td id=\"T_3e9ff_row20_col7\" class=\"data row20 col7\" >0</td>\n",
              "      <td id=\"T_3e9ff_row20_col8\" class=\"data row20 col8\" >0</td>\n",
              "      <td id=\"T_3e9ff_row20_col9\" class=\"data row20 col9\" >0</td>\n",
              "      <td id=\"T_3e9ff_row20_col10\" class=\"data row20 col10\" >0</td>\n",
              "      <td id=\"T_3e9ff_row20_col11\" class=\"data row20 col11\" >0</td>\n",
              "      <td id=\"T_3e9ff_row20_col12\" class=\"data row20 col12\" >0</td>\n",
              "      <td id=\"T_3e9ff_row20_col13\" class=\"data row20 col13\" >0</td>\n",
              "      <td id=\"T_3e9ff_row20_col14\" class=\"data row20 col14\" >98</td>\n",
              "      <td id=\"T_3e9ff_row20_col15\" class=\"data row20 col15\" >247</td>\n",
              "      <td id=\"T_3e9ff_row20_col16\" class=\"data row20 col16\" >253</td>\n",
              "      <td id=\"T_3e9ff_row20_col17\" class=\"data row20 col17\" >253</td>\n",
              "      <td id=\"T_3e9ff_row20_col18\" class=\"data row20 col18\" >226</td>\n",
              "      <td id=\"T_3e9ff_row20_col19\" class=\"data row20 col19\" >9</td>\n",
              "      <td id=\"T_3e9ff_row20_col20\" class=\"data row20 col20\" >0</td>\n",
              "      <td id=\"T_3e9ff_row20_col21\" class=\"data row20 col21\" >0</td>\n",
              "      <td id=\"T_3e9ff_row20_col22\" class=\"data row20 col22\" >0</td>\n",
              "      <td id=\"T_3e9ff_row20_col23\" class=\"data row20 col23\" >0</td>\n",
              "      <td id=\"T_3e9ff_row20_col24\" class=\"data row20 col24\" >0</td>\n",
              "      <td id=\"T_3e9ff_row20_col25\" class=\"data row20 col25\" >0</td>\n",
              "      <td id=\"T_3e9ff_row20_col26\" class=\"data row20 col26\" >0</td>\n",
              "      <td id=\"T_3e9ff_row20_col27\" class=\"data row20 col27\" >0</td>\n",
              "    </tr>\n",
              "    <tr>\n",
              "      <th id=\"T_3e9ff_level0_row21\" class=\"row_heading level0 row21\" >21</th>\n",
              "      <td id=\"T_3e9ff_row21_col0\" class=\"data row21 col0\" >0</td>\n",
              "      <td id=\"T_3e9ff_row21_col1\" class=\"data row21 col1\" >0</td>\n",
              "      <td id=\"T_3e9ff_row21_col2\" class=\"data row21 col2\" >0</td>\n",
              "      <td id=\"T_3e9ff_row21_col3\" class=\"data row21 col3\" >0</td>\n",
              "      <td id=\"T_3e9ff_row21_col4\" class=\"data row21 col4\" >0</td>\n",
              "      <td id=\"T_3e9ff_row21_col5\" class=\"data row21 col5\" >0</td>\n",
              "      <td id=\"T_3e9ff_row21_col6\" class=\"data row21 col6\" >0</td>\n",
              "      <td id=\"T_3e9ff_row21_col7\" class=\"data row21 col7\" >0</td>\n",
              "      <td id=\"T_3e9ff_row21_col8\" class=\"data row21 col8\" >0</td>\n",
              "      <td id=\"T_3e9ff_row21_col9\" class=\"data row21 col9\" >0</td>\n",
              "      <td id=\"T_3e9ff_row21_col10\" class=\"data row21 col10\" >0</td>\n",
              "      <td id=\"T_3e9ff_row21_col11\" class=\"data row21 col11\" >0</td>\n",
              "      <td id=\"T_3e9ff_row21_col12\" class=\"data row21 col12\" >42</td>\n",
              "      <td id=\"T_3e9ff_row21_col13\" class=\"data row21 col13\" >150</td>\n",
              "      <td id=\"T_3e9ff_row21_col14\" class=\"data row21 col14\" >252</td>\n",
              "      <td id=\"T_3e9ff_row21_col15\" class=\"data row21 col15\" >253</td>\n",
              "      <td id=\"T_3e9ff_row21_col16\" class=\"data row21 col16\" >253</td>\n",
              "      <td id=\"T_3e9ff_row21_col17\" class=\"data row21 col17\" >233</td>\n",
              "      <td id=\"T_3e9ff_row21_col18\" class=\"data row21 col18\" >53</td>\n",
              "      <td id=\"T_3e9ff_row21_col19\" class=\"data row21 col19\" >0</td>\n",
              "      <td id=\"T_3e9ff_row21_col20\" class=\"data row21 col20\" >0</td>\n",
              "      <td id=\"T_3e9ff_row21_col21\" class=\"data row21 col21\" >0</td>\n",
              "      <td id=\"T_3e9ff_row21_col22\" class=\"data row21 col22\" >0</td>\n",
              "      <td id=\"T_3e9ff_row21_col23\" class=\"data row21 col23\" >0</td>\n",
              "      <td id=\"T_3e9ff_row21_col24\" class=\"data row21 col24\" >0</td>\n",
              "      <td id=\"T_3e9ff_row21_col25\" class=\"data row21 col25\" >0</td>\n",
              "      <td id=\"T_3e9ff_row21_col26\" class=\"data row21 col26\" >0</td>\n",
              "      <td id=\"T_3e9ff_row21_col27\" class=\"data row21 col27\" >0</td>\n",
              "    </tr>\n",
              "    <tr>\n",
              "      <th id=\"T_3e9ff_level0_row22\" class=\"row_heading level0 row22\" >22</th>\n",
              "      <td id=\"T_3e9ff_row22_col0\" class=\"data row22 col0\" >0</td>\n",
              "      <td id=\"T_3e9ff_row22_col1\" class=\"data row22 col1\" >0</td>\n",
              "      <td id=\"T_3e9ff_row22_col2\" class=\"data row22 col2\" >0</td>\n",
              "      <td id=\"T_3e9ff_row22_col3\" class=\"data row22 col3\" >0</td>\n",
              "      <td id=\"T_3e9ff_row22_col4\" class=\"data row22 col4\" >0</td>\n",
              "      <td id=\"T_3e9ff_row22_col5\" class=\"data row22 col5\" >0</td>\n",
              "      <td id=\"T_3e9ff_row22_col6\" class=\"data row22 col6\" >42</td>\n",
              "      <td id=\"T_3e9ff_row22_col7\" class=\"data row22 col7\" >115</td>\n",
              "      <td id=\"T_3e9ff_row22_col8\" class=\"data row22 col8\" >42</td>\n",
              "      <td id=\"T_3e9ff_row22_col9\" class=\"data row22 col9\" >60</td>\n",
              "      <td id=\"T_3e9ff_row22_col10\" class=\"data row22 col10\" >115</td>\n",
              "      <td id=\"T_3e9ff_row22_col11\" class=\"data row22 col11\" >159</td>\n",
              "      <td id=\"T_3e9ff_row22_col12\" class=\"data row22 col12\" >240</td>\n",
              "      <td id=\"T_3e9ff_row22_col13\" class=\"data row22 col13\" >253</td>\n",
              "      <td id=\"T_3e9ff_row22_col14\" class=\"data row22 col14\" >253</td>\n",
              "      <td id=\"T_3e9ff_row22_col15\" class=\"data row22 col15\" >250</td>\n",
              "      <td id=\"T_3e9ff_row22_col16\" class=\"data row22 col16\" >175</td>\n",
              "      <td id=\"T_3e9ff_row22_col17\" class=\"data row22 col17\" >25</td>\n",
              "      <td id=\"T_3e9ff_row22_col18\" class=\"data row22 col18\" >0</td>\n",
              "      <td id=\"T_3e9ff_row22_col19\" class=\"data row22 col19\" >0</td>\n",
              "      <td id=\"T_3e9ff_row22_col20\" class=\"data row22 col20\" >0</td>\n",
              "      <td id=\"T_3e9ff_row22_col21\" class=\"data row22 col21\" >0</td>\n",
              "      <td id=\"T_3e9ff_row22_col22\" class=\"data row22 col22\" >0</td>\n",
              "      <td id=\"T_3e9ff_row22_col23\" class=\"data row22 col23\" >0</td>\n",
              "      <td id=\"T_3e9ff_row22_col24\" class=\"data row22 col24\" >0</td>\n",
              "      <td id=\"T_3e9ff_row22_col25\" class=\"data row22 col25\" >0</td>\n",
              "      <td id=\"T_3e9ff_row22_col26\" class=\"data row22 col26\" >0</td>\n",
              "      <td id=\"T_3e9ff_row22_col27\" class=\"data row22 col27\" >0</td>\n",
              "    </tr>\n",
              "    <tr>\n",
              "      <th id=\"T_3e9ff_level0_row23\" class=\"row_heading level0 row23\" >23</th>\n",
              "      <td id=\"T_3e9ff_row23_col0\" class=\"data row23 col0\" >0</td>\n",
              "      <td id=\"T_3e9ff_row23_col1\" class=\"data row23 col1\" >0</td>\n",
              "      <td id=\"T_3e9ff_row23_col2\" class=\"data row23 col2\" >0</td>\n",
              "      <td id=\"T_3e9ff_row23_col3\" class=\"data row23 col3\" >0</td>\n",
              "      <td id=\"T_3e9ff_row23_col4\" class=\"data row23 col4\" >0</td>\n",
              "      <td id=\"T_3e9ff_row23_col5\" class=\"data row23 col5\" >0</td>\n",
              "      <td id=\"T_3e9ff_row23_col6\" class=\"data row23 col6\" >187</td>\n",
              "      <td id=\"T_3e9ff_row23_col7\" class=\"data row23 col7\" >253</td>\n",
              "      <td id=\"T_3e9ff_row23_col8\" class=\"data row23 col8\" >253</td>\n",
              "      <td id=\"T_3e9ff_row23_col9\" class=\"data row23 col9\" >253</td>\n",
              "      <td id=\"T_3e9ff_row23_col10\" class=\"data row23 col10\" >253</td>\n",
              "      <td id=\"T_3e9ff_row23_col11\" class=\"data row23 col11\" >253</td>\n",
              "      <td id=\"T_3e9ff_row23_col12\" class=\"data row23 col12\" >253</td>\n",
              "      <td id=\"T_3e9ff_row23_col13\" class=\"data row23 col13\" >253</td>\n",
              "      <td id=\"T_3e9ff_row23_col14\" class=\"data row23 col14\" >197</td>\n",
              "      <td id=\"T_3e9ff_row23_col15\" class=\"data row23 col15\" >86</td>\n",
              "      <td id=\"T_3e9ff_row23_col16\" class=\"data row23 col16\" >0</td>\n",
              "      <td id=\"T_3e9ff_row23_col17\" class=\"data row23 col17\" >0</td>\n",
              "      <td id=\"T_3e9ff_row23_col18\" class=\"data row23 col18\" >0</td>\n",
              "      <td id=\"T_3e9ff_row23_col19\" class=\"data row23 col19\" >0</td>\n",
              "      <td id=\"T_3e9ff_row23_col20\" class=\"data row23 col20\" >0</td>\n",
              "      <td id=\"T_3e9ff_row23_col21\" class=\"data row23 col21\" >0</td>\n",
              "      <td id=\"T_3e9ff_row23_col22\" class=\"data row23 col22\" >0</td>\n",
              "      <td id=\"T_3e9ff_row23_col23\" class=\"data row23 col23\" >0</td>\n",
              "      <td id=\"T_3e9ff_row23_col24\" class=\"data row23 col24\" >0</td>\n",
              "      <td id=\"T_3e9ff_row23_col25\" class=\"data row23 col25\" >0</td>\n",
              "      <td id=\"T_3e9ff_row23_col26\" class=\"data row23 col26\" >0</td>\n",
              "      <td id=\"T_3e9ff_row23_col27\" class=\"data row23 col27\" >0</td>\n",
              "    </tr>\n",
              "    <tr>\n",
              "      <th id=\"T_3e9ff_level0_row24\" class=\"row_heading level0 row24\" >24</th>\n",
              "      <td id=\"T_3e9ff_row24_col0\" class=\"data row24 col0\" >0</td>\n",
              "      <td id=\"T_3e9ff_row24_col1\" class=\"data row24 col1\" >0</td>\n",
              "      <td id=\"T_3e9ff_row24_col2\" class=\"data row24 col2\" >0</td>\n",
              "      <td id=\"T_3e9ff_row24_col3\" class=\"data row24 col3\" >0</td>\n",
              "      <td id=\"T_3e9ff_row24_col4\" class=\"data row24 col4\" >0</td>\n",
              "      <td id=\"T_3e9ff_row24_col5\" class=\"data row24 col5\" >0</td>\n",
              "      <td id=\"T_3e9ff_row24_col6\" class=\"data row24 col6\" >103</td>\n",
              "      <td id=\"T_3e9ff_row24_col7\" class=\"data row24 col7\" >253</td>\n",
              "      <td id=\"T_3e9ff_row24_col8\" class=\"data row24 col8\" >253</td>\n",
              "      <td id=\"T_3e9ff_row24_col9\" class=\"data row24 col9\" >253</td>\n",
              "      <td id=\"T_3e9ff_row24_col10\" class=\"data row24 col10\" >253</td>\n",
              "      <td id=\"T_3e9ff_row24_col11\" class=\"data row24 col11\" >253</td>\n",
              "      <td id=\"T_3e9ff_row24_col12\" class=\"data row24 col12\" >232</td>\n",
              "      <td id=\"T_3e9ff_row24_col13\" class=\"data row24 col13\" >67</td>\n",
              "      <td id=\"T_3e9ff_row24_col14\" class=\"data row24 col14\" >1</td>\n",
              "      <td id=\"T_3e9ff_row24_col15\" class=\"data row24 col15\" >0</td>\n",
              "      <td id=\"T_3e9ff_row24_col16\" class=\"data row24 col16\" >0</td>\n",
              "      <td id=\"T_3e9ff_row24_col17\" class=\"data row24 col17\" >0</td>\n",
              "      <td id=\"T_3e9ff_row24_col18\" class=\"data row24 col18\" >0</td>\n",
              "      <td id=\"T_3e9ff_row24_col19\" class=\"data row24 col19\" >0</td>\n",
              "      <td id=\"T_3e9ff_row24_col20\" class=\"data row24 col20\" >0</td>\n",
              "      <td id=\"T_3e9ff_row24_col21\" class=\"data row24 col21\" >0</td>\n",
              "      <td id=\"T_3e9ff_row24_col22\" class=\"data row24 col22\" >0</td>\n",
              "      <td id=\"T_3e9ff_row24_col23\" class=\"data row24 col23\" >0</td>\n",
              "      <td id=\"T_3e9ff_row24_col24\" class=\"data row24 col24\" >0</td>\n",
              "      <td id=\"T_3e9ff_row24_col25\" class=\"data row24 col25\" >0</td>\n",
              "      <td id=\"T_3e9ff_row24_col26\" class=\"data row24 col26\" >0</td>\n",
              "      <td id=\"T_3e9ff_row24_col27\" class=\"data row24 col27\" >0</td>\n",
              "    </tr>\n",
              "    <tr>\n",
              "      <th id=\"T_3e9ff_level0_row25\" class=\"row_heading level0 row25\" >25</th>\n",
              "      <td id=\"T_3e9ff_row25_col0\" class=\"data row25 col0\" >0</td>\n",
              "      <td id=\"T_3e9ff_row25_col1\" class=\"data row25 col1\" >0</td>\n",
              "      <td id=\"T_3e9ff_row25_col2\" class=\"data row25 col2\" >0</td>\n",
              "      <td id=\"T_3e9ff_row25_col3\" class=\"data row25 col3\" >0</td>\n",
              "      <td id=\"T_3e9ff_row25_col4\" class=\"data row25 col4\" >0</td>\n",
              "      <td id=\"T_3e9ff_row25_col5\" class=\"data row25 col5\" >0</td>\n",
              "      <td id=\"T_3e9ff_row25_col6\" class=\"data row25 col6\" >0</td>\n",
              "      <td id=\"T_3e9ff_row25_col7\" class=\"data row25 col7\" >0</td>\n",
              "      <td id=\"T_3e9ff_row25_col8\" class=\"data row25 col8\" >0</td>\n",
              "      <td id=\"T_3e9ff_row25_col9\" class=\"data row25 col9\" >0</td>\n",
              "      <td id=\"T_3e9ff_row25_col10\" class=\"data row25 col10\" >0</td>\n",
              "      <td id=\"T_3e9ff_row25_col11\" class=\"data row25 col11\" >0</td>\n",
              "      <td id=\"T_3e9ff_row25_col12\" class=\"data row25 col12\" >0</td>\n",
              "      <td id=\"T_3e9ff_row25_col13\" class=\"data row25 col13\" >0</td>\n",
              "      <td id=\"T_3e9ff_row25_col14\" class=\"data row25 col14\" >0</td>\n",
              "      <td id=\"T_3e9ff_row25_col15\" class=\"data row25 col15\" >0</td>\n",
              "      <td id=\"T_3e9ff_row25_col16\" class=\"data row25 col16\" >0</td>\n",
              "      <td id=\"T_3e9ff_row25_col17\" class=\"data row25 col17\" >0</td>\n",
              "      <td id=\"T_3e9ff_row25_col18\" class=\"data row25 col18\" >0</td>\n",
              "      <td id=\"T_3e9ff_row25_col19\" class=\"data row25 col19\" >0</td>\n",
              "      <td id=\"T_3e9ff_row25_col20\" class=\"data row25 col20\" >0</td>\n",
              "      <td id=\"T_3e9ff_row25_col21\" class=\"data row25 col21\" >0</td>\n",
              "      <td id=\"T_3e9ff_row25_col22\" class=\"data row25 col22\" >0</td>\n",
              "      <td id=\"T_3e9ff_row25_col23\" class=\"data row25 col23\" >0</td>\n",
              "      <td id=\"T_3e9ff_row25_col24\" class=\"data row25 col24\" >0</td>\n",
              "      <td id=\"T_3e9ff_row25_col25\" class=\"data row25 col25\" >0</td>\n",
              "      <td id=\"T_3e9ff_row25_col26\" class=\"data row25 col26\" >0</td>\n",
              "      <td id=\"T_3e9ff_row25_col27\" class=\"data row25 col27\" >0</td>\n",
              "    </tr>\n",
              "    <tr>\n",
              "      <th id=\"T_3e9ff_level0_row26\" class=\"row_heading level0 row26\" >26</th>\n",
              "      <td id=\"T_3e9ff_row26_col0\" class=\"data row26 col0\" >0</td>\n",
              "      <td id=\"T_3e9ff_row26_col1\" class=\"data row26 col1\" >0</td>\n",
              "      <td id=\"T_3e9ff_row26_col2\" class=\"data row26 col2\" >0</td>\n",
              "      <td id=\"T_3e9ff_row26_col3\" class=\"data row26 col3\" >0</td>\n",
              "      <td id=\"T_3e9ff_row26_col4\" class=\"data row26 col4\" >0</td>\n",
              "      <td id=\"T_3e9ff_row26_col5\" class=\"data row26 col5\" >0</td>\n",
              "      <td id=\"T_3e9ff_row26_col6\" class=\"data row26 col6\" >0</td>\n",
              "      <td id=\"T_3e9ff_row26_col7\" class=\"data row26 col7\" >0</td>\n",
              "      <td id=\"T_3e9ff_row26_col8\" class=\"data row26 col8\" >0</td>\n",
              "      <td id=\"T_3e9ff_row26_col9\" class=\"data row26 col9\" >0</td>\n",
              "      <td id=\"T_3e9ff_row26_col10\" class=\"data row26 col10\" >0</td>\n",
              "      <td id=\"T_3e9ff_row26_col11\" class=\"data row26 col11\" >0</td>\n",
              "      <td id=\"T_3e9ff_row26_col12\" class=\"data row26 col12\" >0</td>\n",
              "      <td id=\"T_3e9ff_row26_col13\" class=\"data row26 col13\" >0</td>\n",
              "      <td id=\"T_3e9ff_row26_col14\" class=\"data row26 col14\" >0</td>\n",
              "      <td id=\"T_3e9ff_row26_col15\" class=\"data row26 col15\" >0</td>\n",
              "      <td id=\"T_3e9ff_row26_col16\" class=\"data row26 col16\" >0</td>\n",
              "      <td id=\"T_3e9ff_row26_col17\" class=\"data row26 col17\" >0</td>\n",
              "      <td id=\"T_3e9ff_row26_col18\" class=\"data row26 col18\" >0</td>\n",
              "      <td id=\"T_3e9ff_row26_col19\" class=\"data row26 col19\" >0</td>\n",
              "      <td id=\"T_3e9ff_row26_col20\" class=\"data row26 col20\" >0</td>\n",
              "      <td id=\"T_3e9ff_row26_col21\" class=\"data row26 col21\" >0</td>\n",
              "      <td id=\"T_3e9ff_row26_col22\" class=\"data row26 col22\" >0</td>\n",
              "      <td id=\"T_3e9ff_row26_col23\" class=\"data row26 col23\" >0</td>\n",
              "      <td id=\"T_3e9ff_row26_col24\" class=\"data row26 col24\" >0</td>\n",
              "      <td id=\"T_3e9ff_row26_col25\" class=\"data row26 col25\" >0</td>\n",
              "      <td id=\"T_3e9ff_row26_col26\" class=\"data row26 col26\" >0</td>\n",
              "      <td id=\"T_3e9ff_row26_col27\" class=\"data row26 col27\" >0</td>\n",
              "    </tr>\n",
              "    <tr>\n",
              "      <th id=\"T_3e9ff_level0_row27\" class=\"row_heading level0 row27\" >27</th>\n",
              "      <td id=\"T_3e9ff_row27_col0\" class=\"data row27 col0\" >0</td>\n",
              "      <td id=\"T_3e9ff_row27_col1\" class=\"data row27 col1\" >0</td>\n",
              "      <td id=\"T_3e9ff_row27_col2\" class=\"data row27 col2\" >0</td>\n",
              "      <td id=\"T_3e9ff_row27_col3\" class=\"data row27 col3\" >0</td>\n",
              "      <td id=\"T_3e9ff_row27_col4\" class=\"data row27 col4\" >0</td>\n",
              "      <td id=\"T_3e9ff_row27_col5\" class=\"data row27 col5\" >0</td>\n",
              "      <td id=\"T_3e9ff_row27_col6\" class=\"data row27 col6\" >0</td>\n",
              "      <td id=\"T_3e9ff_row27_col7\" class=\"data row27 col7\" >0</td>\n",
              "      <td id=\"T_3e9ff_row27_col8\" class=\"data row27 col8\" >0</td>\n",
              "      <td id=\"T_3e9ff_row27_col9\" class=\"data row27 col9\" >0</td>\n",
              "      <td id=\"T_3e9ff_row27_col10\" class=\"data row27 col10\" >0</td>\n",
              "      <td id=\"T_3e9ff_row27_col11\" class=\"data row27 col11\" >0</td>\n",
              "      <td id=\"T_3e9ff_row27_col12\" class=\"data row27 col12\" >0</td>\n",
              "      <td id=\"T_3e9ff_row27_col13\" class=\"data row27 col13\" >0</td>\n",
              "      <td id=\"T_3e9ff_row27_col14\" class=\"data row27 col14\" >0</td>\n",
              "      <td id=\"T_3e9ff_row27_col15\" class=\"data row27 col15\" >0</td>\n",
              "      <td id=\"T_3e9ff_row27_col16\" class=\"data row27 col16\" >0</td>\n",
              "      <td id=\"T_3e9ff_row27_col17\" class=\"data row27 col17\" >0</td>\n",
              "      <td id=\"T_3e9ff_row27_col18\" class=\"data row27 col18\" >0</td>\n",
              "      <td id=\"T_3e9ff_row27_col19\" class=\"data row27 col19\" >0</td>\n",
              "      <td id=\"T_3e9ff_row27_col20\" class=\"data row27 col20\" >0</td>\n",
              "      <td id=\"T_3e9ff_row27_col21\" class=\"data row27 col21\" >0</td>\n",
              "      <td id=\"T_3e9ff_row27_col22\" class=\"data row27 col22\" >0</td>\n",
              "      <td id=\"T_3e9ff_row27_col23\" class=\"data row27 col23\" >0</td>\n",
              "      <td id=\"T_3e9ff_row27_col24\" class=\"data row27 col24\" >0</td>\n",
              "      <td id=\"T_3e9ff_row27_col25\" class=\"data row27 col25\" >0</td>\n",
              "      <td id=\"T_3e9ff_row27_col26\" class=\"data row27 col26\" >0</td>\n",
              "      <td id=\"T_3e9ff_row27_col27\" class=\"data row27 col27\" >0</td>\n",
              "    </tr>\n",
              "  </tbody>\n",
              "</table>\n"
            ]
          },
          "metadata": {},
          "execution_count": 11
        }
      ]
    },
    {
      "cell_type": "code",
      "source": [
        "seven_tensors=[tensor(Image.open(o)) for o in sevens ]\n",
        "three_tensors=[tensor(Image.open(o)) for o in threes ]\n",
        "len(seven_tensors),len(three_tensors)"
      ],
      "metadata": {
        "colab": {
          "base_uri": "https://localhost:8080/"
        },
        "id": "KLxbjvjy4fEf",
        "outputId": "c7b7f5df-5b0d-49b2-eb0c-aaf002555689"
      },
      "execution_count": 12,
      "outputs": [
        {
          "output_type": "execute_result",
          "data": {
            "text/plain": [
              "(6265, 6131)"
            ]
          },
          "metadata": {},
          "execution_count": 12
        }
      ]
    },
    {
      "cell_type": "code",
      "source": [
        "stacked_sevens=torch.stack(seven_tensors).float()/255\n",
        "stacked_threes=torch.stack(three_tensors).float()/255\n",
        "stacked_threes.shape,stacked_sevens.shape"
      ],
      "metadata": {
        "colab": {
          "base_uri": "https://localhost:8080/"
        },
        "id": "oFRFz9I17Uxq",
        "outputId": "2d11fc3b-7458-42d5-a799-8b7ca645d25c"
      },
      "execution_count": 13,
      "outputs": [
        {
          "output_type": "execute_result",
          "data": {
            "text/plain": [
              "(torch.Size([6131, 28, 28]), torch.Size([6265, 28, 28]))"
            ]
          },
          "metadata": {},
          "execution_count": 13
        }
      ]
    },
    {
      "cell_type": "code",
      "source": [
        "stacked_sevens.ndim , stacked_threes.shape"
      ],
      "metadata": {
        "colab": {
          "base_uri": "https://localhost:8080/"
        },
        "id": "_pUzBu8m7pnG",
        "outputId": "a2812a6f-c8f9-4fd8-ca76-b3b9dee19d23"
      },
      "execution_count": 14,
      "outputs": [
        {
          "output_type": "execute_result",
          "data": {
            "text/plain": [
              "(3, torch.Size([6131, 28, 28]))"
            ]
          },
          "metadata": {},
          "execution_count": 14
        }
      ]
    },
    {
      "cell_type": "code",
      "source": [
        "mean3=stacked_threes.mean(0)\n",
        "show_image(mean3)"
      ],
      "metadata": {
        "colab": {
          "base_uri": "https://localhost:8080/",
          "height": 132
        },
        "id": "FAOMq4rDMm64",
        "outputId": "2a1430b5-7e93-46ce-b82c-3d9a3ea6327c"
      },
      "execution_count": 15,
      "outputs": [
        {
          "output_type": "execute_result",
          "data": {
            "text/plain": [
              "<Axes: >"
            ]
          },
          "metadata": {},
          "execution_count": 15
        },
        {
          "output_type": "display_data",
          "data": {
            "text/plain": [
              "<Figure size 100x100 with 1 Axes>"
            ],
            "image/png": "[encoded data removed]"
          },
          "metadata": {}
        }
      ]
    },
    {
      "cell_type": "code",
      "source": [
        "a_3 = stacked_threes[1]\n",
        "show_image(a_3)\n",
        "a_7=stacked_sevens[1]"
      ],
      "metadata": {
        "colab": {
          "base_uri": "https://localhost:8080/",
          "height": 114
        },
        "id": "6HMEv5fVM7gf",
        "outputId": "7c54a837-19fc-4111-9160-5e2dd5b58f4a"
      },
      "execution_count": 16,
      "outputs": [
        {
          "output_type": "display_data",
          "data": {
            "text/plain": [
              "<Figure size 100x100 with 1 Axes>"
            ],
            "image/png": "[encoded data removed]"
          },
          "metadata": {}
        }
      ]
    },
    {
      "cell_type": "code",
      "source": [
        "mean7=stacked_sevens.mean(0)\n",
        "show_image(mean7)\n",
        "show_image(seven_tensors[3])"
      ],
      "metadata": {
        "colab": {
          "base_uri": "https://localhost:8080/",
          "height": 229
        },
        "id": "Wwe6Om5tNCdv",
        "outputId": "3fa14f86-04d2-46fc-cb89-f31c60561694"
      },
      "execution_count": 17,
      "outputs": [
        {
          "output_type": "execute_result",
          "data": {
            "text/plain": [
              "<Axes: >"
            ]
          },
          "metadata": {},
          "execution_count": 17
        },
        {
          "output_type": "display_data",
          "data": {
            "text/plain": [
              "<Figure size 100x100 with 1 Axes>"
            ],
            "image/png": "[encoded data removed]"
          },
          "metadata": {}
        },
        {
          "output_type": "display_data",
          "data": {
            "text/plain": [
              "<Figure size 100x100 with 1 Axes>"
            ],
            "image/png": "[encoded data removed]"
          },
          "metadata": {}
        }
      ]
    },
    {
      "cell_type": "code",
      "source": [
        "dist_3_abs=(mean3-a_3).abs().mean()\n",
        "dist_3_sqr=((mean3-a_3)**2).mean().sqrt()\n",
        "dist_3_abs,dist_3_sqr"
      ],
      "metadata": {
        "colab": {
          "base_uri": "https://localhost:8080/"
        },
        "id": "_x8dz-r5OZus",
        "outputId": "04f295bb-9c6d-4f04-c4ea-be27af5f1c77"
      },
      "execution_count": 18,
      "outputs": [
        {
          "output_type": "execute_result",
          "data": {
            "text/plain": [
              "(tensor(0.1114), tensor(0.2021))"
            ]
          },
          "metadata": {},
          "execution_count": 18
        }
      ]
    },
    {
      "cell_type": "code",
      "source": [
        "dist_7_abs_t3=(mean7-a_3).abs().mean()\n",
        "dist_7_sqr_t3=((mean7-a_3)**2).mean().sqrt()\n",
        "dist_7_abs_t3,dist_7_sqr_t3\n",
        "\n",
        "\n",
        "\n",
        "     \n"
      ],
      "metadata": {
        "colab": {
          "base_uri": "https://localhost:8080/"
        },
        "id": "jMsCZSS0P7Kz",
        "outputId": "299cd6dd-9c93-48d1-b93b-23554f65bc2f"
      },
      "execution_count": 19,
      "outputs": [
        {
          "output_type": "execute_result",
          "data": {
            "text/plain": [
              "(tensor(0.1586), tensor(0.3021))"
            ]
          },
          "metadata": {},
          "execution_count": 19
        }
      ]
    },
    {
      "cell_type": "code",
      "source": [
        "F.l1_loss(a_3.float(),mean7), F.mse_loss(a_3,mean7).sqrt()"
      ],
      "metadata": {
        "colab": {
          "base_uri": "https://localhost:8080/"
        },
        "id": "3rZhrT8jVugb",
        "outputId": "46325d1b-4ca3-47e6-9333-25ff103f2afb"
      },
      "execution_count": 20,
      "outputs": [
        {
          "output_type": "execute_result",
          "data": {
            "text/plain": [
              "(tensor(0.1586), tensor(0.3021))"
            ]
          },
          "metadata": {},
          "execution_count": 20
        }
      ]
    },
    {
      "cell_type": "code",
      "source": [
        "dist_7_abs_t=(mean7-a_7).abs().mean()\n",
        "dist_7_sqr_t=((mean7-a_7)**2).mean().sqrt()\n",
        "dist_7_abs_t,dist_7_sqr_t"
      ],
      "metadata": {
        "colab": {
          "base_uri": "https://localhost:8080/"
        },
        "id": "FiQWX1fkRal6",
        "outputId": "12404462-c1a7-4623-c201-46fdc91024da"
      },
      "execution_count": 21,
      "outputs": [
        {
          "output_type": "execute_result",
          "data": {
            "text/plain": [
              "(tensor(0.1304), tensor(0.2585))"
            ]
          },
          "metadata": {},
          "execution_count": 21
        }
      ]
    },
    {
      "cell_type": "code",
      "source": [
        "dist_3_abs_t7=(mean3-a_7).abs().mean()\n",
        "dist_3_sqr_t7=((mean3-a_7)**2).mean().sqrt()\n",
        "dist_3_abs_t7,dist_3_sqr_t7"
      ],
      "metadata": {
        "colab": {
          "base_uri": "https://localhost:8080/"
        },
        "id": "yRfYRHgiUScL",
        "outputId": "5f56cedf-7648-427b-ecf0-a6f0bbb0cbf4"
      },
      "execution_count": 22,
      "outputs": [
        {
          "output_type": "execute_result",
          "data": {
            "text/plain": [
              "(tensor(0.1854), tensor(0.3271))"
            ]
          },
          "metadata": {},
          "execution_count": 22
        }
      ]
    },
    {
      "cell_type": "code",
      "source": [
        "valid_3_tens = torch.stack([tensor(Image.open(o)) for o in (path/'valid/3').ls() ]) \n",
        "valid_3_tens=valid_3_tens.float()/255\n",
        "valid_7_tens=torch.stack([tensor(Image.open(o)) for o in (path/'valid/7').ls()])\n",
        "valid_7_tens=valid_7_tens.float()/255\n"
      ],
      "metadata": {
        "id": "2E-JaWb2UfdO"
      },
      "execution_count": 23,
      "outputs": []
    },
    {
      "cell_type": "code",
      "source": [
        "valid_3_tens.shape,valid_7_tens.shape"
      ],
      "metadata": {
        "colab": {
          "base_uri": "https://localhost:8080/"
        },
        "id": "rBuU-bSZW3FM",
        "outputId": "9a95569b-27b9-40f0-f824-5c0bc8a90d71"
      },
      "execution_count": 24,
      "outputs": [
        {
          "output_type": "execute_result",
          "data": {
            "text/plain": [
              "(torch.Size([1010, 28, 28]), torch.Size([1028, 28, 28]))"
            ]
          },
          "metadata": {},
          "execution_count": 24
        }
      ]
    },
    {
      "cell_type": "code",
      "source": [
        "def mnist_distance(a,b):\n",
        "  return (a-b).abs().mean((-1,-2))"
      ],
      "metadata": {
        "id": "YiJAknLKX2xv"
      },
      "execution_count": 25,
      "outputs": []
    },
    {
      "cell_type": "code",
      "source": [
        "mnist_distance(a_3,mean3)"
      ],
      "metadata": {
        "colab": {
          "base_uri": "https://localhost:8080/"
        },
        "id": "tkaoTP__ZZ5-",
        "outputId": "d05c4069-3299-4aea-c115-f8800502b29f"
      },
      "execution_count": 26,
      "outputs": [
        {
          "output_type": "execute_result",
          "data": {
            "text/plain": [
              "tensor(0.1114)"
            ]
          },
          "metadata": {},
          "execution_count": 26
        }
      ]
    },
    {
      "cell_type": "code",
      "source": [
        "\n",
        "valid_3_dist = mnist_distance(valid_3_tens, mean3)\n",
        "valid_3_dist, valid_3_dist.shape"
      ],
      "metadata": {
        "colab": {
          "base_uri": "https://localhost:8080/"
        },
        "id": "T3Frem9yZeVI",
        "outputId": "d4f9b4b0-4f00-43fb-fd14-914af4049f07"
      },
      "execution_count": 27,
      "outputs": [
        {
          "output_type": "execute_result",
          "data": {
            "text/plain": [
              "(tensor([0.1209, 0.1188, 0.1358,  ..., 0.1094, 0.1632, 0.1406]),\n",
              " torch.Size([1010]))"
            ]
          },
          "metadata": {},
          "execution_count": 27
        }
      ]
    },
    {
      "cell_type": "code",
      "source": [
        "mean3.shape"
      ],
      "metadata": {
        "colab": {
          "base_uri": "https://localhost:8080/"
        },
        "id": "oICpsmG0Zj09",
        "outputId": "c172c7ff-fb6c-4731-bc31-412326e0eb4a"
      },
      "execution_count": 28,
      "outputs": [
        {
          "output_type": "execute_result",
          "data": {
            "text/plain": [
              "torch.Size([28, 28])"
            ]
          },
          "metadata": {},
          "execution_count": 28
        }
      ]
    },
    {
      "cell_type": "code",
      "source": [
        "def is_3(x):\n",
        "  return mnist_distance(mean3,x)<mnist_distance(mean7,x)"
      ],
      "metadata": {
        "id": "qoLPp-D9bN95"
      },
      "execution_count": 29,
      "outputs": []
    },
    {
      "cell_type": "code",
      "source": [
        "is_3(stacked_sevens[2])"
      ],
      "metadata": {
        "colab": {
          "base_uri": "https://localhost:8080/"
        },
        "id": "TrgkXSlCb901",
        "outputId": "6aa35116-a248-436c-8ddb-a288602ee178"
      },
      "execution_count": 30,
      "outputs": [
        {
          "output_type": "execute_result",
          "data": {
            "text/plain": [
              "tensor(False)"
            ]
          },
          "metadata": {},
          "execution_count": 30
        }
      ]
    },
    {
      "cell_type": "code",
      "source": [
        "is_3(stacked_threes[9])"
      ],
      "metadata": {
        "colab": {
          "base_uri": "https://localhost:8080/"
        },
        "id": "m5lN59tqcBoY",
        "outputId": "2ab734e1-1ffd-421f-bd8c-6a62b5ea5a5c"
      },
      "execution_count": 31,
      "outputs": [
        {
          "output_type": "execute_result",
          "data": {
            "text/plain": [
              "tensor(True)"
            ]
          },
          "metadata": {},
          "execution_count": 31
        }
      ]
    },
    {
      "cell_type": "code",
      "source": [
        "accuracy3 = is_3(valid_3_tens).float().mean()\n",
        "accuracy7=1- is_3(valid_7_tens).float().mean()\n",
        "print(accuracy3,accuracy7)\n"
      ],
      "metadata": {
        "colab": {
          "base_uri": "https://localhost:8080/"
        },
        "id": "_klcNrkfcGtf",
        "outputId": "4d4ece0a-e7ff-45eb-82c9-67ee258518c3"
      },
      "execution_count": 32,
      "outputs": [
        {
          "output_type": "stream",
          "name": "stdout",
          "text": [
            "tensor(0.9168) tensor(0.9854)\n"
          ]
        }
      ]
    },
    {
      "cell_type": "code",
      "source": [
        "def f(x): return x**2"
      ],
      "metadata": {
        "id": "lFpUN9vZecZp"
      },
      "execution_count": 33,
      "outputs": []
    },
    {
      "cell_type": "code",
      "source": [
        "plot_function(f,'x','x**2')"
      ],
      "metadata": {
        "colab": {
          "base_uri": "https://localhost:8080/",
          "height": 396
        },
        "id": "gSK_UgqNgYGA",
        "outputId": "cc09d8ca-86c0-485f-ed0e-f7a528cd6d63"
      },
      "execution_count": 34,
      "outputs": [
        {
          "output_type": "display_data",
          "data": {
            "text/plain": [
              "<Figure size 600x400 with 1 Axes>"
            ],
            "image/png": "[encoded data removed]"
          },
          "metadata": {}
        }
      ]
    },
    {
      "cell_type": "code",
      "source": [
        "time = torch.arange(0,20).float()\n",
        "time"
      ],
      "metadata": {
        "colab": {
          "base_uri": "https://localhost:8080/"
        },
        "id": "qD0eWl5Ige9b",
        "outputId": "c9fcb16d-896c-4d39-e8af-87666e6c8e2a"
      },
      "execution_count": 35,
      "outputs": [
        {
          "output_type": "execute_result",
          "data": {
            "text/plain": [
              "tensor([ 0.,  1.,  2.,  3.,  4.,  5.,  6.,  7.,  8.,  9., 10., 11., 12., 13., 14., 15., 16., 17., 18., 19.])"
            ]
          },
          "metadata": {},
          "execution_count": 35
        }
      ]
    },
    {
      "cell_type": "code",
      "source": [
        "speed = torch.randn(20)*3 + 0.75*(time-9.5)**2 +1 \n",
        "plt.scatter(time,speed)"
      ],
      "metadata": {
        "colab": {
          "base_uri": "https://localhost:8080/",
          "height": 452
        },
        "id": "pPrV1t-0iCXH",
        "outputId": "14997409-3937-4191-8874-79ee7f2e57d6"
      },
      "execution_count": 36,
      "outputs": [
        {
          "output_type": "execute_result",
          "data": {
            "text/plain": [
              "<matplotlib.collections.PathCollection at 0x7f01181e8190>"
            ]
          },
          "metadata": {},
          "execution_count": 36
        },
        {
          "output_type": "display_data",
          "data": {
            "text/plain": [
              "<Figure size 640x480 with 1 Axes>"
            ],
            "image/png": "[encoded data removed]"
          },
          "metadata": {}
        }
      ]
    },
    {
      "cell_type": "code",
      "source": [
        "def f(t,params):\n",
        "  a,b,c=params\n",
        "  return a*(t**2) + b*t + c  "
      ],
      "metadata": {
        "id": "M3-hRbbBjRNR"
      },
      "execution_count": 37,
      "outputs": []
    },
    {
      "cell_type": "code",
      "source": [
        "def mse(preds,target):\n",
        "  return ((preds-target)**2).mean()"
      ],
      "metadata": {
        "id": "DjQRgclmGSic"
      },
      "execution_count": 38,
      "outputs": []
    },
    {
      "cell_type": "code",
      "source": [
        "params=torch.randn(3).requires_grad_()"
      ],
      "metadata": {
        "id": "1CQ4MG9yGzfQ"
      },
      "execution_count": 39,
      "outputs": []
    },
    {
      "cell_type": "code",
      "source": [
        "orig_params = params.clone()"
      ],
      "metadata": {
        "id": "A86cPHGWG-5f"
      },
      "execution_count": 40,
      "outputs": []
    },
    {
      "cell_type": "code",
      "source": [
        "preds=f(time,params)"
      ],
      "metadata": {
        "id": "LLuac7m7HDql"
      },
      "execution_count": 41,
      "outputs": []
    },
    {
      "cell_type": "code",
      "source": [
        "preds"
      ],
      "metadata": {
        "colab": {
          "base_uri": "https://localhost:8080/"
        },
        "id": "zUxdXA6AHLiW",
        "outputId": "8ebc736b-d516-4980-fe65-1305a47d303e"
      },
      "execution_count": 42,
      "outputs": [
        {
          "output_type": "execute_result",
          "data": {
            "text/plain": [
              "tensor([ 1.3525e+00, -1.6391e-01, -3.2121e+00, -7.7919e+00, -1.3903e+01, -2.1547e+01, -3.0721e+01, -4.1428e+01, -5.3666e+01, -6.7436e+01, -8.2738e+01, -9.9571e+01, -1.1794e+02, -1.3783e+02,\n",
              "        -1.5926e+02, -1.8222e+02, -2.0671e+02, -2.3274e+02, -2.6029e+02, -2.8938e+02], grad_fn=<AddBackward0>)"
            ]
          },
          "metadata": {},
          "execution_count": 42
        }
      ]
    },
    {
      "cell_type": "code",
      "source": [
        "mse(preds,speed)"
      ],
      "metadata": {
        "colab": {
          "base_uri": "https://localhost:8080/"
        },
        "id": "ayywZNwdHMwl",
        "outputId": "ee1ae287-4349-4f41-94ce-8d7da120a00c"
      },
      "execution_count": 43,
      "outputs": [
        {
          "output_type": "execute_result",
          "data": {
            "text/plain": [
              "tensor(25823.8086, grad_fn=<MeanBackward0>)"
            ]
          },
          "metadata": {},
          "execution_count": 43
        }
      ]
    },
    {
      "cell_type": "code",
      "source": [
        "def show_preds(preds,ax=None):\n",
        "  if ax is None:\n",
        "    ax=plt.subplots()[1]\n",
        "    ax.scatter(time,speed)\n",
        "    ax.scatter(time,to_np(preds),color='red')"
      ],
      "metadata": {
        "id": "JE32AlHEHTL_"
      },
      "execution_count": 44,
      "outputs": []
    },
    {
      "cell_type": "code",
      "source": [
        "show_preds(preds)"
      ],
      "metadata": {
        "colab": {
          "base_uri": "https://localhost:8080/",
          "height": 434
        },
        "id": "yT1jZRt4Ij64",
        "outputId": "155525cf-aea4-4cb3-889f-3c4af399f2e5"
      },
      "execution_count": 45,
      "outputs": [
        {
          "output_type": "display_data",
          "data": {
            "text/plain": [
              "<Figure size 640x480 with 1 Axes>"
            ],
            "image/png": "[encoded data removed]"
          },
          "metadata": {}
        }
      ]
    },
    {
      "cell_type": "code",
      "source": [
        "loss=mse(preds,speed)\n",
        "print(loss)\n",
        "#loss.backward()"
      ],
      "metadata": {
        "colab": {
          "base_uri": "https://localhost:8080/"
        },
        "id": "hOckSu7WInIJ",
        "outputId": "eb232449-52bc-44e2-8664-f81ee66bd45c"
      },
      "execution_count": 46,
      "outputs": [
        {
          "output_type": "stream",
          "name": "stdout",
          "text": [
            "tensor(25823.8086, grad_fn=<MeanBackward0>)\n"
          ]
        }
      ]
    },
    {
      "cell_type": "code",
      "source": [
        "loss.backward()\n",
        "params.grad"
      ],
      "metadata": {
        "colab": {
          "base_uri": "https://localhost:8080/"
        },
        "id": "fkFlGmesJbQ2",
        "outputId": "6669e051-a956-4cdc-f60c-55b792533014"
      },
      "execution_count": 47,
      "outputs": [
        {
          "output_type": "execute_result",
          "data": {
            "text/plain": [
              "tensor([-53195.8633,  -3419.7148,   -253.8908])"
            ]
          },
          "metadata": {},
          "execution_count": 47
        }
      ]
    },
    {
      "cell_type": "code",
      "source": [
        "params.grad* 1e-5 "
      ],
      "metadata": {
        "colab": {
          "base_uri": "https://localhost:8080/"
        },
        "id": "hRYX7Ft7J2lS",
        "outputId": "bc5cafc8-13ff-4873-adf9-c03eba7e2321"
      },
      "execution_count": 48,
      "outputs": [
        {
          "output_type": "execute_result",
          "data": {
            "text/plain": [
              "tensor([-0.5320, -0.0342, -0.0025])"
            ]
          },
          "metadata": {},
          "execution_count": 48
        }
      ]
    },
    {
      "cell_type": "code",
      "source": [
        "params "
      ],
      "metadata": {
        "colab": {
          "base_uri": "https://localhost:8080/"
        },
        "id": "jbj-C4lwMjbQ",
        "outputId": "80ca76ad-ede5-4c28-978c-83309235d466"
      },
      "execution_count": 49,
      "outputs": [
        {
          "output_type": "execute_result",
          "data": {
            "text/plain": [
              "tensor([-0.7658, -0.7506,  1.3525], requires_grad=True)"
            ]
          },
          "metadata": {},
          "execution_count": 49
        }
      ]
    },
    {
      "cell_type": "code",
      "source": [
        "lr= 1e-5 \n",
        "params.data-=params.grad*lr\n",
        "params.grad=None\n",
        "preds=f(time,params)\n",
        "show_preds(preds)"
      ],
      "metadata": {
        "colab": {
          "base_uri": "https://localhost:8080/",
          "height": 434
        },
        "id": "bt8itpqsMwBS",
        "outputId": "bdb4a17d-ccd9-4bb0-e90c-0702f4c7a074"
      },
      "execution_count": 50,
      "outputs": [
        {
          "output_type": "display_data",
          "data": {
            "text/plain": [
              "<Figure size 640x480 with 1 Axes>"
            ],
            "image/png": "[encoded data removed]"
          },
          "metadata": {}
        }
      ]
    },
    {
      "cell_type": "code",
      "source": [
        "loss=mse(preds, speed)"
      ],
      "metadata": {
        "id": "ptYkR7OnNKRH"
      },
      "execution_count": 51,
      "outputs": []
    },
    {
      "cell_type": "code",
      "source": [
        "loss.backward()\n",
        "params.data=params.grad*(1e-5)\n",
        "params.grad=None\n",
        "preds=f(time,params)\n",
        "show_preds(preds)"
      ],
      "metadata": {
        "colab": {
          "base_uri": "https://localhost:8080/",
          "height": 436
        },
        "id": "cEoFQVa3NxmV",
        "outputId": "742e855a-8185-42e9-9366-bb1be0caf675"
      },
      "execution_count": 52,
      "outputs": [
        {
          "output_type": "display_data",
          "data": {
            "text/plain": [
              "<Figure size 640x480 with 1 Axes>"
            ],
            "image/png": "[encoded data removed]"
          },
          "metadata": {}
        }
      ]
    },
    {
      "cell_type": "code",
      "source": [
        "loss=mse(preds, speed)"
      ],
      "metadata": {
        "id": "O6Xsm9JqOta3"
      },
      "execution_count": 53,
      "outputs": []
    },
    {
      "cell_type": "code",
      "source": [
        "loss"
      ],
      "metadata": {
        "colab": {
          "base_uri": "https://localhost:8080/"
        },
        "id": "2-ZO3YSEOuCq",
        "outputId": "e40f91ec-8f19-4ecd-cbd4-117c5889171a"
      },
      "execution_count": 54,
      "outputs": [
        {
          "output_type": "execute_result",
          "data": {
            "text/plain": [
              "tensor(4547.7676, grad_fn=<MeanBackward0>)"
            ]
          },
          "metadata": {},
          "execution_count": 54
        }
      ]
    },
    {
      "cell_type": "code",
      "source": [
        "def apply_step(params,prn=True):\n",
        "   preds=f(time,params)\n",
        "   loss=mse(preds,speed)\n",
        "   loss.backward()\n",
        "   params.data-=params.grad*lr\n",
        "   params.grad=None\n",
        "   if prn:print(loss.item())\n",
        "   return preds "
      ],
      "metadata": {
        "id": "sbwmtTX0Ouzx"
      },
      "execution_count": 55,
      "outputs": []
    },
    {
      "cell_type": "code",
      "source": [
        "for i in range(10):\n",
        "  apply_step(params)"
      ],
      "metadata": {
        "colab": {
          "base_uri": "https://localhost:8080/"
        },
        "id": "3W44BM8xPugB",
        "outputId": "e9981934-7b67-4646-9b28-47dff2c6063e"
      },
      "execution_count": 56,
      "outputs": [
        {
          "output_type": "stream",
          "name": "stdout",
          "text": [
            "4547.767578125\n",
            "1429.675048828125\n",
            "839.6334838867188\n",
            "727.9766845703125\n",
            "706.8448486328125\n",
            "702.843017578125\n",
            "702.0828247070312\n",
            "701.9358520507812\n",
            "701.905029296875\n",
            "701.8963012695312\n"
          ]
        }
      ]
    },
    {
      "cell_type": "code",
      "source": [
        "_,axs = plt.subplots(1,4,figsize=(12,3))\n",
        "for ax in axs: show_preds(apply_step(params, False), ax)\n",
        "plt.tight_layout()"
      ],
      "metadata": {
        "colab": {
          "base_uri": "https://localhost:8080/",
          "height": 300
        },
        "id": "EdVp-7NwP30c",
        "outputId": "36858acc-4121-4e40-ef77-eb89c52e9693"
      },
      "execution_count": 57,
      "outputs": [
        {
          "output_type": "display_data",
          "data": {
            "text/plain": [
              "<Figure size 1200x300 with 4 Axes>"
            ],
            "image/png": "[encoded data removed]"
          },
          "metadata": {}
        }
      ]
    },
    {
      "cell_type": "code",
      "source": [
        "show_preds(preds)"
      ],
      "metadata": {
        "colab": {
          "base_uri": "https://localhost:8080/",
          "height": 436
        },
        "id": "IAkdoWQZQU1y",
        "outputId": "9d20a4c9-5bf3-4017-eed9-318f2092b079"
      },
      "execution_count": 58,
      "outputs": [
        {
          "output_type": "display_data",
          "data": {
            "text/plain": [
              "<Figure size 640x480 with 1 Axes>"
            ],
            "image/png": "[encoded data removed]"
          },
          "metadata": {}
        }
      ]
    },
    {
      "cell_type": "code",
      "source": [],
      "metadata": {
        "id": "Hp54rWh6RWLo"
      },
      "execution_count": 58,
      "outputs": []
    },
    {
      "cell_type": "code",
      "source": [
        "#train_x = torch.stack([stacked_threes,stacked_sevens]).view(-1,28*28)\n",
        "\n",
        "train_x = torch.cat([stacked_threes, stacked_sevens]).view(-1, 28*28)"
      ],
      "metadata": {
        "id": "k7RQbbaBQxpC"
      },
      "execution_count": 59,
      "outputs": []
    },
    {
      "cell_type": "code",
      "source": [
        "train_y= tensor([1]*len(threes) + [0]*len(sevens)).unsqueeze(1)\n",
        "train_x.shape,train_y.shape"
      ],
      "metadata": {
        "colab": {
          "base_uri": "https://localhost:8080/"
        },
        "id": "13jHq_KovkWD",
        "outputId": "c8ec89e1-a283-4ca4-d602-81967d09d652"
      },
      "execution_count": 60,
      "outputs": [
        {
          "output_type": "execute_result",
          "data": {
            "text/plain": [
              "(torch.Size([12396, 784]), torch.Size([12396, 1]))"
            ]
          },
          "metadata": {},
          "execution_count": 60
        }
      ]
    },
    {
      "cell_type": "code",
      "source": [
        "dset=list(zip(train_x,train_y))\n",
        "x,y=dset[0]\n",
        "x.shape,y.shape"
      ],
      "metadata": {
        "colab": {
          "base_uri": "https://localhost:8080/"
        },
        "id": "WaMVsZP9xjri",
        "outputId": "1399d4e9-fa15-4dc2-a575-3197e790cc52"
      },
      "execution_count": 61,
      "outputs": [
        {
          "output_type": "execute_result",
          "data": {
            "text/plain": [
              "(torch.Size([784]), torch.Size([1]))"
            ]
          },
          "metadata": {},
          "execution_count": 61
        }
      ]
    },
    {
      "cell_type": "code",
      "source": [
        "valid_x=torch.cat([valid_3_tens,valid_7_tens]).view(-1,28*28)\n",
        "valid_y=tensor([1]*len(valid_3_tens)+ [0]*len(valid_7_tens))\n",
        "valid_x.shape,valid_y.shape"
      ],
      "metadata": {
        "colab": {
          "base_uri": "https://localhost:8080/"
        },
        "id": "3wpwDsPxy7w9",
        "outputId": "c0e46f3b-f983-4f56-bafa-9240e1b699b7"
      },
      "execution_count": 62,
      "outputs": [
        {
          "output_type": "execute_result",
          "data": {
            "text/plain": [
              "(torch.Size([2038, 784]), torch.Size([2038]))"
            ]
          },
          "metadata": {},
          "execution_count": 62
        }
      ]
    },
    {
      "cell_type": "code",
      "source": [
        "valid_dset=list(zip(valid_x,valid_y)) "
      ],
      "metadata": {
        "id": "3z7LOP7hzB0K"
      },
      "execution_count": 63,
      "outputs": []
    },
    {
      "cell_type": "code",
      "source": [
        "def init_params(size,std=1.0):\n",
        "  return (torch.randn(size)*std).requires_grad_()"
      ],
      "metadata": {
        "id": "xnYpOLso0x7c"
      },
      "execution_count": 64,
      "outputs": []
    },
    {
      "cell_type": "code",
      "source": [
        "weights = init_params((28*28,1))"
      ],
      "metadata": {
        "id": "mGVRIbLF1c5d"
      },
      "execution_count": 65,
      "outputs": []
    },
    {
      "cell_type": "code",
      "source": [
        "bias=init_params(1)"
      ],
      "metadata": {
        "id": "mkddh4tb2wQf"
      },
      "execution_count": 66,
      "outputs": []
    },
    {
      "cell_type": "code",
      "source": [
        "(train_x[0]*weights.T).sum() + bias"
      ],
      "metadata": {
        "colab": {
          "base_uri": "https://localhost:8080/"
        },
        "id": "lSetMoy0SeIs",
        "outputId": "638e09cb-7200-4512-a70f-f2305d39793a"
      },
      "execution_count": 67,
      "outputs": [
        {
          "output_type": "execute_result",
          "data": {
            "text/plain": [
              "tensor([20.2336], grad_fn=<AddBackward0>)"
            ]
          },
          "metadata": {},
          "execution_count": 67
        }
      ]
    },
    {
      "cell_type": "code",
      "source": [
        "def linear(xb):\n",
        "  return xb@weights + bias "
      ],
      "metadata": {
        "id": "3j0QShEnSyu6"
      },
      "execution_count": 68,
      "outputs": []
    },
    {
      "cell_type": "code",
      "source": [
        "preds=linear(train_x)\n",
        "preds"
      ],
      "metadata": {
        "colab": {
          "base_uri": "https://localhost:8080/"
        },
        "id": "qZb1AChJTNmB",
        "outputId": "212f4bbc-10ae-4736-d975-8e6d3e9f5800"
      },
      "execution_count": 69,
      "outputs": [
        {
          "output_type": "execute_result",
          "data": {
            "text/plain": [
              "tensor([[20.2336],\n",
              "        [17.0644],\n",
              "        [15.2384],\n",
              "        ...,\n",
              "        [18.3804],\n",
              "        [23.8567],\n",
              "        [28.6816]], grad_fn=<AddBackward0>)"
            ]
          },
          "metadata": {},
          "execution_count": 69
        }
      ]
    },
    {
      "cell_type": "code",
      "source": [
        "correct=(preds>0.0).float()==train_y\n",
        "correct"
      ],
      "metadata": {
        "colab": {
          "base_uri": "https://localhost:8080/"
        },
        "id": "Ks_UWLppTYLN",
        "outputId": "87e8c1cf-7a3b-4de4-c751-9dfd85d27d18"
      },
      "execution_count": 70,
      "outputs": [
        {
          "output_type": "execute_result",
          "data": {
            "text/plain": [
              "tensor([[ True],\n",
              "        [ True],\n",
              "        [ True],\n",
              "        ...,\n",
              "        [False],\n",
              "        [False],\n",
              "        [False]])"
            ]
          },
          "metadata": {},
          "execution_count": 70
        }
      ]
    },
    {
      "cell_type": "code",
      "source": [
        "correct.float().mean().item()\n"
      ],
      "metadata": {
        "colab": {
          "base_uri": "https://localhost:8080/"
        },
        "id": "XA0MY7c1T0HN",
        "outputId": "df168e24-39aa-4cec-a121-d18df7b39cda"
      },
      "execution_count": 71,
      "outputs": [
        {
          "output_type": "execute_result",
          "data": {
            "text/plain": [
              "0.4912068545818329"
            ]
          },
          "metadata": {},
          "execution_count": 71
        }
      ]
    },
    {
      "cell_type": "code",
      "source": [
        "def mnist_loss(predictions,targets):\n",
        "  predictions=predictions.sigmoid()\n",
        "  return torch.where(targets==1,1-predictions,predictions).mean()\n"
      ],
      "metadata": {
        "id": "hekvQW1MT_bW"
      },
      "execution_count": 72,
      "outputs": []
    },
    {
      "cell_type": "code",
      "source": [
        "ds=L(enumerate(string.ascii_lowercase))\n",
        "ds\n"
      ],
      "metadata": {
        "colab": {
          "base_uri": "https://localhost:8080/"
        },
        "id": "Ni3816wMkZKh",
        "outputId": "d5ee6ed0-0bf5-4f02-be40-53420758dbcc"
      },
      "execution_count": 73,
      "outputs": [
        {
          "output_type": "execute_result",
          "data": {
            "text/plain": [
              "(#26) [(0, 'a'),(1, 'b'),(2, 'c'),(3, 'd'),(4, 'e'),(5, 'f'),(6, 'g'),(7, 'h'),(8, 'i'),(9, 'j')...]"
            ]
          },
          "metadata": {},
          "execution_count": 73
        }
      ]
    },
    {
      "cell_type": "code",
      "source": [
        "dl = DataLoader(ds, batch_size=6, shuffle=True)\n",
        "list(dl)"
      ],
      "metadata": {
        "colab": {
          "base_uri": "https://localhost:8080/"
        },
        "id": "9Y70S-kfpN28",
        "outputId": "795f4fc3-d308-472b-e33e-c03010a214c1"
      },
      "execution_count": 74,
      "outputs": [
        {
          "output_type": "execute_result",
          "data": {
            "text/plain": [
              "[(tensor([ 7, 24, 17, 21,  5, 19]), ('h', 'y', 'r', 'v', 'f', 't')),\n",
              " (tensor([ 9, 15, 14,  4, 16,  0]), ('j', 'p', 'o', 'e', 'q', 'a')),\n",
              " (tensor([22, 13, 25,  3,  2, 11]), ('w', 'n', 'z', 'd', 'c', 'l')),\n",
              " (tensor([12, 23,  1, 10,  8, 20]), ('m', 'x', 'b', 'k', 'i', 'u')),\n",
              " (tensor([18,  6]), ('s', 'g'))]"
            ]
          },
          "metadata": {},
          "execution_count": 74
        }
      ]
    },
    {
      "cell_type": "code",
      "source": [],
      "metadata": {
        "id": "AqG2dlxgrX0x"
      },
      "execution_count": 74,
      "outputs": []
    },
    {
      "cell_type": "code",
      "source": [
        "weights = init_params((28*28,1))\n",
        "bias = init_params(1)"
      ],
      "metadata": {
        "id": "KTFs8oetsoxq"
      },
      "execution_count": 75,
      "outputs": []
    },
    {
      "cell_type": "code",
      "source": [
        "dl= DataLoader(dset,batch_size=356)\n",
        "xb,yb=first(dl)\n",
        "xb.shape,yb.shape"
      ],
      "metadata": {
        "colab": {
          "base_uri": "https://localhost:8080/"
        },
        "id": "bjaVoHdvtoBF",
        "outputId": "e4cc2d50-dd4e-4449-fee4-adffaa8f58ed"
      },
      "execution_count": 76,
      "outputs": [
        {
          "output_type": "execute_result",
          "data": {
            "text/plain": [
              "(torch.Size([356, 784]), torch.Size([356, 1]))"
            ]
          },
          "metadata": {},
          "execution_count": 76
        }
      ]
    },
    {
      "cell_type": "code",
      "source": [
        "valid_dl=DataLoader(valid_dset,batch_size=256)"
      ],
      "metadata": {
        "id": "JHX7S0FTurKN"
      },
      "execution_count": 77,
      "outputs": []
    },
    {
      "cell_type": "code",
      "source": [
        "batch=train_x[:4]\n",
        "batch.shape"
      ],
      "metadata": {
        "colab": {
          "base_uri": "https://localhost:8080/"
        },
        "id": "mw3dOVNUuuFx",
        "outputId": "19201a05-8847-436f-a70b-9219115bef2b"
      },
      "execution_count": 78,
      "outputs": [
        {
          "output_type": "execute_result",
          "data": {
            "text/plain": [
              "torch.Size([4, 784])"
            ]
          },
          "metadata": {},
          "execution_count": 78
        }
      ]
    },
    {
      "cell_type": "code",
      "source": [
        "preds=linear(batch)"
      ],
      "metadata": {
        "id": "ic6KqhJQvrMh"
      },
      "execution_count": 79,
      "outputs": []
    },
    {
      "cell_type": "code",
      "source": [
        "preds"
      ],
      "metadata": {
        "colab": {
          "base_uri": "https://localhost:8080/"
        },
        "id": "3GM1j4Z8vxpO",
        "outputId": "f3d2d361-18bf-40f0-febc-639fd5cacb8a"
      },
      "execution_count": 80,
      "outputs": [
        {
          "output_type": "execute_result",
          "data": {
            "text/plain": [
              "tensor([[ -8.7744],\n",
              "        [ -8.0637],\n",
              "        [ -8.1532],\n",
              "        [-16.9030]], grad_fn=<AddBackward0>)"
            ]
          },
          "metadata": {},
          "execution_count": 80
        }
      ]
    },
    {
      "cell_type": "code",
      "source": [
        "loss=mnist_loss(preds,train_y[:4])\n",
        "loss"
      ],
      "metadata": {
        "colab": {
          "base_uri": "https://localhost:8080/"
        },
        "id": "n7mO4NE9v3sU",
        "outputId": "d59e87c5-c5ab-4664-ef1e-70f6bff5e5b2"
      },
      "execution_count": 81,
      "outputs": [
        {
          "output_type": "execute_result",
          "data": {
            "text/plain": [
              "tensor(0.9998, grad_fn=<MeanBackward0>)"
            ]
          },
          "metadata": {},
          "execution_count": 81
        }
      ]
    },
    {
      "cell_type": "code",
      "source": [
        "loss.backward()\n",
        "weights.grad.shape,weights.grad.mean(),bias.grad"
      ],
      "metadata": {
        "colab": {
          "base_uri": "https://localhost:8080/"
        },
        "id": "E5-RIWWgwTyg",
        "outputId": "4e3767e0-25b0-4bfe-a84b-aea87cc3c2c4"
      },
      "execution_count": 82,
      "outputs": [
        {
          "output_type": "execute_result",
          "data": {
            "text/plain": [
              "(torch.Size([784, 1]), tensor(-2.7033e-05), tensor([-0.0002]))"
            ]
          },
          "metadata": {},
          "execution_count": 82
        }
      ]
    },
    {
      "cell_type": "code",
      "source": [
        "def calculating_grad(xb,yb,model):\n",
        "  preds=model(xb)\n",
        "  loss=mnist_loss(preds,yb)\n",
        "  loss.backward()\n",
        "\n"
      ],
      "metadata": {
        "id": "qEdxe4llwk7C"
      },
      "execution_count": 83,
      "outputs": []
    },
    {
      "cell_type": "code",
      "source": [
        "calculating_grad(batch, train_y[:4], linear)\n",
        "weights.grad.mean(),bias.grad"
      ],
      "metadata": {
        "colab": {
          "base_uri": "https://localhost:8080/"
        },
        "id": "d5FgMcguz9YP",
        "outputId": "2a39602b-a865-40df-efc3-ad2b1137fa8f"
      },
      "execution_count": 84,
      "outputs": [
        {
          "output_type": "execute_result",
          "data": {
            "text/plain": [
              "(tensor(-5.4066e-05), tensor([-0.0004]))"
            ]
          },
          "metadata": {},
          "execution_count": 84
        }
      ]
    },
    {
      "cell_type": "code",
      "source": [
        "weights.grad.zero_()\n",
        "bias.grad.zero_()"
      ],
      "metadata": {
        "colab": {
          "base_uri": "https://localhost:8080/"
        },
        "id": "M33iMIIYz92f",
        "outputId": "9a039a72-c7ce-45c1-ad2a-eb7af50fa6fc"
      },
      "execution_count": 85,
      "outputs": [
        {
          "output_type": "execute_result",
          "data": {
            "text/plain": [
              "tensor([0.])"
            ]
          },
          "metadata": {},
          "execution_count": 85
        }
      ]
    },
    {
      "cell_type": "code",
      "source": [
        "def train_epoch(model,lr,params):\n",
        "  for xb,yb in dl:\n",
        "    calculating_grad(xb,yb,model)\n",
        "    for p in params:\n",
        "      p.data -= p.grad*lr\n",
        "      p.grad.zero_()\n",
        "\n"
      ],
      "metadata": {
        "id": "4bNwABAPAEUK"
      },
      "execution_count": 86,
      "outputs": []
    },
    {
      "cell_type": "code",
      "source": [
        "(preds>0.0).float() ==train_y[:4]"
      ],
      "metadata": {
        "colab": {
          "base_uri": "https://localhost:8080/"
        },
        "id": "l9z-yDx8BNTx",
        "outputId": "6a91418f-8600-416b-8850-9c47258357e8"
      },
      "execution_count": 87,
      "outputs": [
        {
          "output_type": "execute_result",
          "data": {
            "text/plain": [
              "tensor([[False],\n",
              "        [False],\n",
              "        [False],\n",
              "        [False]])"
            ]
          },
          "metadata": {},
          "execution_count": 87
        }
      ]
    },
    {
      "cell_type": "code",
      "source": [
        "def batch_accuracy(xb,yb):\n",
        "  preds=xb.sigmoid()\n",
        "  correct = (preds>0.5)==yb\n",
        "  return correct.float().mean()\n",
        "\n"
      ],
      "metadata": {
        "id": "T99DouXBBp-d"
      },
      "execution_count": 88,
      "outputs": []
    },
    {
      "cell_type": "code",
      "source": [
        "batch_accuracy(linear(batch),train_y[:4])"
      ],
      "metadata": {
        "colab": {
          "base_uri": "https://localhost:8080/"
        },
        "id": "1uX2Rs-4FuNj",
        "outputId": "80625406-b641-4449-9f64-f1a5455743b6"
      },
      "execution_count": 89,
      "outputs": [
        {
          "output_type": "execute_result",
          "data": {
            "text/plain": [
              "tensor(0.)"
            ]
          },
          "metadata": {},
          "execution_count": 89
        }
      ]
    },
    {
      "cell_type": "code",
      "source": [
        "def validate_epoch(model):\n",
        "  accs=[batch_accuracy(model(xb),yb) for xb,yb in valid_dl]\n",
        "  return round(torch.stack(accs).mean().item(),4)"
      ],
      "metadata": {
        "id": "lX4sVnqUF0Mf"
      },
      "execution_count": 90,
      "outputs": []
    },
    {
      "cell_type": "code",
      "source": [
        "validate_epoch(linear)"
      ],
      "metadata": {
        "colab": {
          "base_uri": "https://localhost:8080/"
        },
        "id": "0g0G-7dEHmbg",
        "outputId": "b90f7026-0bda-4020-fae2-29818e13000e"
      },
      "execution_count": 91,
      "outputs": [
        {
          "output_type": "execute_result",
          "data": {
            "text/plain": [
              "0.2935"
            ]
          },
          "metadata": {},
          "execution_count": 91
        }
      ]
    },
    {
      "cell_type": "code",
      "source": [
        "lr=1\n",
        "params=weights,bias\n",
        "train_epoch(linear,lr,params)\n",
        "validate_epoch(linear)\n",
        "\n",
        "\n"
      ],
      "metadata": {
        "colab": {
          "base_uri": "https://localhost:8080/"
        },
        "id": "5kfgu70qHqoz",
        "outputId": "72d353c3-e6a7-49c2-ae3f-bc096171bc24"
      },
      "execution_count": 92,
      "outputs": [
        {
          "output_type": "execute_result",
          "data": {
            "text/plain": [
              "0.5376"
            ]
          },
          "metadata": {},
          "execution_count": 92
        }
      ]
    },
    {
      "cell_type": "code",
      "source": [
        "\n",
        "\n",
        "for i in range(20):\n",
        "    train_epoch(linear, lr, params)\n",
        "    print(validate_epoch(linear), end=' ')\n",
        "     \n"
      ],
      "metadata": {
        "colab": {
          "base_uri": "https://localhost:8080/"
        },
        "id": "IKKKLSQvJw1E",
        "outputId": "cdf435bc-af9d-4e0e-a16d-4e676b01d850"
      },
      "execution_count": 93,
      "outputs": [
        {
          "output_type": "stream",
          "name": "stdout",
          "text": [
            "0.6828 0.8227 0.8914 0.9143 0.9253 0.93 0.9376 0.9408 0.948 0.9505 0.9542 0.9556 0.9566 0.9561 0.9566 0.9561 0.9566 0.9566 0.957 0.9585 "
          ]
        }
      ]
    },
    {
      "cell_type": "code",
      "source": [],
      "metadata": {
        "id": "_fZv1ha6K5ZE"
      },
      "execution_count": 93,
      "outputs": []
    },
    {
      "cell_type": "code",
      "source": [
        "linear_model=nn.Linear(28*28,1)\n"
      ],
      "metadata": {
        "id": "GkCurG-YNFRh"
      },
      "execution_count": 94,
      "outputs": []
    },
    {
      "cell_type": "code",
      "source": [
        "w,b=linear_model.parameters()\n",
        "w.shape,b.shape"
      ],
      "metadata": {
        "colab": {
          "base_uri": "https://localhost:8080/"
        },
        "id": "3gLhtYNQNX6e",
        "outputId": "45925e8b-52a3-44e5-cd86-3dbf350c8235"
      },
      "execution_count": 95,
      "outputs": [
        {
          "output_type": "execute_result",
          "data": {
            "text/plain": [
              "(torch.Size([1, 784]), torch.Size([1]))"
            ]
          },
          "metadata": {},
          "execution_count": 95
        }
      ]
    },
    {
      "cell_type": "code",
      "source": [
        "class BasicOptim:\n",
        "  def __init__(self,params,lr):\n",
        "    self.params,self.lr=list(params),lr\n",
        "  def step(self,*args,**kwargs):\n",
        "    for p in self.params :\n",
        "      p.data -=p.grad.data*self.lr\n",
        "  def zero_grad(self,*args,**kwargs):\n",
        "    for p in self.params: p.grad=None\n",
        "\n",
        "\n",
        "    \n",
        "  "
      ],
      "metadata": {
        "id": "dLlp_Gs7NiJ7"
      },
      "execution_count": 96,
      "outputs": []
    },
    {
      "cell_type": "code",
      "source": [
        "opt=BasicOptim(linear_model.parameters(),lr)\n",
        "     \n"
      ],
      "metadata": {
        "id": "hY8RgF9aQEaI"
      },
      "execution_count": 97,
      "outputs": []
    },
    {
      "cell_type": "code",
      "source": [
        "def train_epoch(model):\n",
        "  for xb,yb in dl :\n",
        "    calculating_grad(xb, yb, model)\n",
        "    opt.step()\n",
        "    opt.zero_grad()\n"
      ],
      "metadata": {
        "id": "EYq9ToIbQZzG"
      },
      "execution_count": 98,
      "outputs": []
    },
    {
      "cell_type": "code",
      "source": [
        "validate_epoch(linear_model)"
      ],
      "metadata": {
        "colab": {
          "base_uri": "https://localhost:8080/"
        },
        "id": "HWJtq47eRjE_",
        "outputId": "e8e6a042-a4b5-474a-8dec-fd5644dcb868"
      },
      "execution_count": 99,
      "outputs": [
        {
          "output_type": "execute_result",
          "data": {
            "text/plain": [
              "0.5209"
            ]
          },
          "metadata": {},
          "execution_count": 99
        }
      ]
    },
    {
      "cell_type": "code",
      "source": [
        "def train_model(model, epochs):\n",
        "    for i in range(epochs):\n",
        "        train_epoch(model)\n",
        "        print(validate_epoch(model), end=' ')"
      ],
      "metadata": {
        "id": "yKUlGsz1Rqey"
      },
      "execution_count": 100,
      "outputs": []
    },
    {
      "cell_type": "code",
      "source": [
        "train_model(linear_model, 20)"
      ],
      "metadata": {
        "colab": {
          "base_uri": "https://localhost:8080/"
        },
        "id": "V8rd0AA0RwZT",
        "outputId": "eb591bad-4781-4b43-9603-f9de9cb7554e"
      },
      "execution_count": 101,
      "outputs": [
        {
          "output_type": "stream",
          "name": "stdout",
          "text": [
            "0.4932 0.5021 0.7098 0.8832 0.9185 0.9342 0.9432 0.9512 0.9531 0.9563 0.9573 0.9583 0.9596 0.9605 0.962 0.9629 0.9638 0.9638 0.9638 0.9644 "
          ]
        }
      ]
    },
    {
      "cell_type": "code",
      "source": [
        "linear_model = nn.Linear(28*28,1)\n",
        "opt = SGD(linear_model.parameters(), lr)\n",
        "train_model(linear_model, 20)\n",
        "     \n"
      ],
      "metadata": {
        "colab": {
          "base_uri": "https://localhost:8080/"
        },
        "id": "zbiZpTfNRyYl",
        "outputId": "cd907515-b098-4219-eb7b-45f13a12c6c6"
      },
      "execution_count": 102,
      "outputs": [
        {
          "output_type": "stream",
          "name": "stdout",
          "text": [
            "0.4932 0.4932 0.7584 0.8758 0.9157 0.9318 0.9432 0.9512 0.9531 0.9559 0.9568 0.9587 0.9587 0.961 0.962 0.9634 0.9638 0.9638 0.9643 0.9638 "
          ]
        }
      ]
    },
    {
      "cell_type": "code",
      "source": [
        "dls=DataLoaders(dl,valid_dl)"
      ],
      "metadata": {
        "id": "QbtVDypESAvH"
      },
      "execution_count": 114,
      "outputs": []
    },
    {
      "cell_type": "code",
      "source": [
        "\n",
        "\n",
        "learn = Learner(dls, nn.Linear(28*28,1), opt_func=SGD,\n",
        "                loss_func=mnist_loss, metrics=batch_accuracy)\n",
        "     \n",
        "\n"
      ],
      "metadata": {
        "id": "lIFgwAi-YWVP"
      },
      "execution_count": 115,
      "outputs": []
    },
    {
      "cell_type": "code",
      "source": [
        "learn.fit(10,lr=lr)"
      ],
      "metadata": {
        "colab": {
          "base_uri": "https://localhost:8080/",
          "height": 363
        },
        "id": "jPJmFS_OY8Jl",
        "outputId": "d0d953e5-4d56-48cb-b19d-b8d13d481cdc"
      },
      "execution_count": 116,
      "outputs": [
        {
          "output_type": "display_data",
          "data": {
            "text/plain": [
              "<IPython.core.display.HTML object>"
            ],
            "text/html": [
              "\n",
              "<style>\n",
              "    /* Turns off some styling */\n",
              "    progress {\n",
              "        /* gets rid of default border in Firefox and Opera. */\n",
              "        border: none;\n",
              "        /* Needs to be in here for Safari polyfill so background images work as expected. */\n",
              "        background-size: auto;\n",
              "    }\n",
              "    progress:not([value]), progress:not([value])::-webkit-progress-bar {\n",
              "        background: repeating-linear-gradient(45deg, #7e7e7e, #7e7e7e 10px, #5c5c5c 10px, #5c5c5c 20px);\n",
              "    }\n",
              "    .progress-bar-interrupted, .progress-bar-interrupted::-webkit-progress-bar {\n",
              "        background: #F44336;\n",
              "    }\n",
              "</style>\n"
            ]
          },
          "metadata": {}
        },
        {
          "output_type": "display_data",
          "data": {
            "text/plain": [
              "<IPython.core.display.HTML object>"
            ],
            "text/html": [
              "<table border=\"1\" class=\"dataframe\">\n",
              "  <thead>\n",
              "    <tr style=\"text-align: left;\">\n",
              "      <th>epoch</th>\n",
              "      <th>train_loss</th>\n",
              "      <th>valid_loss</th>\n",
              "      <th>batch_accuracy</th>\n",
              "      <th>time</th>\n",
              "    </tr>\n",
              "  </thead>\n",
              "  <tbody>\n",
              "    <tr>\n",
              "      <td>0</td>\n",
              "      <td>0.604060</td>\n",
              "      <td>0.503668</td>\n",
              "      <td>0.495584</td>\n",
              "      <td>00:00</td>\n",
              "    </tr>\n",
              "    <tr>\n",
              "      <td>1</td>\n",
              "      <td>0.596759</td>\n",
              "      <td>0.501331</td>\n",
              "      <td>0.495584</td>\n",
              "      <td>00:00</td>\n",
              "    </tr>\n",
              "    <tr>\n",
              "      <td>2</td>\n",
              "      <td>0.384003</td>\n",
              "      <td>0.243769</td>\n",
              "      <td>0.778988</td>\n",
              "      <td>00:00</td>\n",
              "    </tr>\n",
              "    <tr>\n",
              "      <td>3</td>\n",
              "      <td>0.194341</td>\n",
              "      <td>0.145369</td>\n",
              "      <td>0.875199</td>\n",
              "      <td>00:00</td>\n",
              "    </tr>\n",
              "    <tr>\n",
              "      <td>4</td>\n",
              "      <td>0.107734</td>\n",
              "      <td>0.099354</td>\n",
              "      <td>0.915343</td>\n",
              "      <td>00:00</td>\n",
              "    </tr>\n",
              "    <tr>\n",
              "      <td>5</td>\n",
              "      <td>0.065528</td>\n",
              "      <td>0.079014</td>\n",
              "      <td>0.931489</td>\n",
              "      <td>00:00</td>\n",
              "    </tr>\n",
              "    <tr>\n",
              "      <td>6</td>\n",
              "      <td>0.044218</td>\n",
              "      <td>0.067447</td>\n",
              "      <td>0.942943</td>\n",
              "      <td>00:00</td>\n",
              "    </tr>\n",
              "    <tr>\n",
              "      <td>7</td>\n",
              "      <td>0.033205</td>\n",
              "      <td>0.060140</td>\n",
              "      <td>0.950580</td>\n",
              "      <td>00:00</td>\n",
              "    </tr>\n",
              "    <tr>\n",
              "      <td>8</td>\n",
              "      <td>0.027339</td>\n",
              "      <td>0.055195</td>\n",
              "      <td>0.952435</td>\n",
              "      <td>00:00</td>\n",
              "    </tr>\n",
              "    <tr>\n",
              "      <td>9</td>\n",
              "      <td>0.024071</td>\n",
              "      <td>0.051658</td>\n",
              "      <td>0.955709</td>\n",
              "      <td>00:00</td>\n",
              "    </tr>\n",
              "  </tbody>\n",
              "</table>"
            ]
          },
          "metadata": {}
        }
      ]
    },
    {
      "cell_type": "code",
      "source": [
        "def simple_net(xb):\n",
        "  res =xb@w1 + b1\n",
        "  res =res.max(tensor(0.0))\n",
        "  res =res@w2 + b2\n",
        "  return res \n",
        "  "
      ],
      "metadata": {
        "id": "lWrr_GGZZEN9"
      },
      "execution_count": 117,
      "outputs": []
    },
    {
      "cell_type": "code",
      "source": [
        "w1=init_params((28*28,30))\n",
        "b1=init_params(30)\n",
        "w2=init_params((30,1))\n",
        "b2=init_params(1)"
      ],
      "metadata": {
        "id": "Jh9p1SKhe0KA"
      },
      "execution_count": 118,
      "outputs": []
    },
    {
      "cell_type": "code",
      "source": [
        "plot_function(F.relu)"
      ],
      "metadata": {
        "colab": {
          "base_uri": "https://localhost:8080/",
          "height": 372
        },
        "id": "5EI3rwY-fGg7",
        "outputId": "6f498cd6-b411-4874-ed87-1dbaf80d928a"
      },
      "execution_count": 119,
      "outputs": [
        {
          "output_type": "display_data",
          "data": {
            "text/plain": [
              "<Figure size 600x400 with 1 Axes>"
            ],
            "image/png": "[encoded data removed]"
          },
          "metadata": {}
        }
      ]
    },
    {
      "cell_type": "code",
      "source": [
        "simple_net=nn.Sequential(nn.Linear(28*28,30),nn.ReLU(),\n",
        "                        nn.Linear(30,1) )"
      ],
      "metadata": {
        "id": "F9e4mNE-ffqe"
      },
      "execution_count": 122,
      "outputs": []
    },
    {
      "cell_type": "code",
      "source": [
        "\n",
        "learn = Learner(dls, simple_net, opt_func=SGD,\n",
        "                loss_func=mnist_loss, metrics=batch_accuracy)"
      ],
      "metadata": {
        "id": "PFZppJHbkpBh"
      },
      "execution_count": 123,
      "outputs": []
    },
    {
      "cell_type": "code",
      "source": [
        "learn.fit(40,0.1)"
      ],
      "metadata": {
        "colab": {
          "base_uri": "https://localhost:8080/",
          "height": 1000
        },
        "id": "Kvwxe9P9kyd2",
        "outputId": "d73767dc-9fd0-42db-b799-3c0a5e79a71b"
      },
      "execution_count": 124,
      "outputs": [
        {
          "output_type": "display_data",
          "data": {
            "text/plain": [
              "<IPython.core.display.HTML object>"
            ],
            "text/html": [
              "\n",
              "<style>\n",
              "    /* Turns off some styling */\n",
              "    progress {\n",
              "        /* gets rid of default border in Firefox and Opera. */\n",
              "        border: none;\n",
              "        /* Needs to be in here for Safari polyfill so background images work as expected. */\n",
              "        background-size: auto;\n",
              "    }\n",
              "    progress:not([value]), progress:not([value])::-webkit-progress-bar {\n",
              "        background: repeating-linear-gradient(45deg, #7e7e7e, #7e7e7e 10px, #5c5c5c 10px, #5c5c5c 20px);\n",
              "    }\n",
              "    .progress-bar-interrupted, .progress-bar-interrupted::-webkit-progress-bar {\n",
              "        background: #F44336;\n",
              "    }\n",
              "</style>\n"
            ]
          },
          "metadata": {}
        },
        {
          "output_type": "display_data",
          "data": {
            "text/plain": [
              "<IPython.core.display.HTML object>"
            ],
            "text/html": [
              "<table border=\"1\" class=\"dataframe\">\n",
              "  <thead>\n",
              "    <tr style=\"text-align: left;\">\n",
              "      <th>epoch</th>\n",
              "      <th>train_loss</th>\n",
              "      <th>valid_loss</th>\n",
              "      <th>batch_accuracy</th>\n",
              "      <th>time</th>\n",
              "    </tr>\n",
              "  </thead>\n",
              "  <tbody>\n",
              "    <tr>\n",
              "      <td>0</td>\n",
              "      <td>0.373146</td>\n",
              "      <td>0.366143</td>\n",
              "      <td>0.614328</td>\n",
              "      <td>00:01</td>\n",
              "    </tr>\n",
              "    <tr>\n",
              "      <td>1</td>\n",
              "      <td>0.203404</td>\n",
              "      <td>0.240134</td>\n",
              "      <td>0.801843</td>\n",
              "      <td>00:00</td>\n",
              "    </tr>\n",
              "    <tr>\n",
              "      <td>2</td>\n",
              "      <td>0.124138</td>\n",
              "      <td>0.127429</td>\n",
              "      <td>0.913487</td>\n",
              "      <td>00:00</td>\n",
              "    </tr>\n",
              "    <tr>\n",
              "      <td>3</td>\n",
              "      <td>0.083608</td>\n",
              "      <td>0.089788</td>\n",
              "      <td>0.936128</td>\n",
              "      <td>00:00</td>\n",
              "    </tr>\n",
              "    <tr>\n",
              "      <td>4</td>\n",
              "      <td>0.061567</td>\n",
              "      <td>0.073370</td>\n",
              "      <td>0.948563</td>\n",
              "      <td>00:00</td>\n",
              "    </tr>\n",
              "    <tr>\n",
              "      <td>5</td>\n",
              "      <td>0.048921</td>\n",
              "      <td>0.064386</td>\n",
              "      <td>0.951400</td>\n",
              "      <td>00:00</td>\n",
              "    </tr>\n",
              "    <tr>\n",
              "      <td>6</td>\n",
              "      <td>0.041278</td>\n",
              "      <td>0.058769</td>\n",
              "      <td>0.952765</td>\n",
              "      <td>00:00</td>\n",
              "    </tr>\n",
              "    <tr>\n",
              "      <td>7</td>\n",
              "      <td>0.036390</td>\n",
              "      <td>0.054932</td>\n",
              "      <td>0.953692</td>\n",
              "      <td>00:00</td>\n",
              "    </tr>\n",
              "    <tr>\n",
              "      <td>8</td>\n",
              "      <td>0.033075</td>\n",
              "      <td>0.052138</td>\n",
              "      <td>0.955111</td>\n",
              "      <td>00:00</td>\n",
              "    </tr>\n",
              "    <tr>\n",
              "      <td>9</td>\n",
              "      <td>0.030692</td>\n",
              "      <td>0.050004</td>\n",
              "      <td>0.956583</td>\n",
              "      <td>00:00</td>\n",
              "    </tr>\n",
              "    <tr>\n",
              "      <td>10</td>\n",
              "      <td>0.028889</td>\n",
              "      <td>0.048311</td>\n",
              "      <td>0.958982</td>\n",
              "      <td>00:00</td>\n",
              "    </tr>\n",
              "    <tr>\n",
              "      <td>11</td>\n",
              "      <td>0.027462</td>\n",
              "      <td>0.046927</td>\n",
              "      <td>0.958982</td>\n",
              "      <td>00:00</td>\n",
              "    </tr>\n",
              "    <tr>\n",
              "      <td>12</td>\n",
              "      <td>0.026295</td>\n",
              "      <td>0.045764</td>\n",
              "      <td>0.959419</td>\n",
              "      <td>00:00</td>\n",
              "    </tr>\n",
              "    <tr>\n",
              "      <td>13</td>\n",
              "      <td>0.025314</td>\n",
              "      <td>0.044766</td>\n",
              "      <td>0.960891</td>\n",
              "      <td>00:00</td>\n",
              "    </tr>\n",
              "    <tr>\n",
              "      <td>14</td>\n",
              "      <td>0.024473</td>\n",
              "      <td>0.043892</td>\n",
              "      <td>0.961873</td>\n",
              "      <td>00:00</td>\n",
              "    </tr>\n",
              "    <tr>\n",
              "      <td>15</td>\n",
              "      <td>0.023741</td>\n",
              "      <td>0.043117</td>\n",
              "      <td>0.962364</td>\n",
              "      <td>00:00</td>\n",
              "    </tr>\n",
              "    <tr>\n",
              "      <td>16</td>\n",
              "      <td>0.023094</td>\n",
              "      <td>0.042422</td>\n",
              "      <td>0.962801</td>\n",
              "      <td>00:00</td>\n",
              "    </tr>\n",
              "    <tr>\n",
              "      <td>17</td>\n",
              "      <td>0.022518</td>\n",
              "      <td>0.041793</td>\n",
              "      <td>0.962801</td>\n",
              "      <td>00:00</td>\n",
              "    </tr>\n",
              "    <tr>\n",
              "      <td>18</td>\n",
              "      <td>0.021999</td>\n",
              "      <td>0.041218</td>\n",
              "      <td>0.963782</td>\n",
              "      <td>00:00</td>\n",
              "    </tr>\n",
              "    <tr>\n",
              "      <td>19</td>\n",
              "      <td>0.021530</td>\n",
              "      <td>0.040690</td>\n",
              "      <td>0.964710</td>\n",
              "      <td>00:00</td>\n",
              "    </tr>\n",
              "    <tr>\n",
              "      <td>20</td>\n",
              "      <td>0.021102</td>\n",
              "      <td>0.040204</td>\n",
              "      <td>0.965200</td>\n",
              "      <td>00:00</td>\n",
              "    </tr>\n",
              "    <tr>\n",
              "      <td>21</td>\n",
              "      <td>0.020710</td>\n",
              "      <td>0.039753</td>\n",
              "      <td>0.965691</td>\n",
              "      <td>00:00</td>\n",
              "    </tr>\n",
              "    <tr>\n",
              "      <td>22</td>\n",
              "      <td>0.020348</td>\n",
              "      <td>0.039335</td>\n",
              "      <td>0.966182</td>\n",
              "      <td>00:00</td>\n",
              "    </tr>\n",
              "    <tr>\n",
              "      <td>23</td>\n",
              "      <td>0.020013</td>\n",
              "      <td>0.038946</td>\n",
              "      <td>0.966672</td>\n",
              "      <td>00:00</td>\n",
              "    </tr>\n",
              "    <tr>\n",
              "      <td>24</td>\n",
              "      <td>0.019702</td>\n",
              "      <td>0.038582</td>\n",
              "      <td>0.966672</td>\n",
              "      <td>00:00</td>\n",
              "    </tr>\n",
              "    <tr>\n",
              "      <td>25</td>\n",
              "      <td>0.019412</td>\n",
              "      <td>0.038242</td>\n",
              "      <td>0.967654</td>\n",
              "      <td>00:00</td>\n",
              "    </tr>\n",
              "    <tr>\n",
              "      <td>26</td>\n",
              "      <td>0.019140</td>\n",
              "      <td>0.037923</td>\n",
              "      <td>0.967654</td>\n",
              "      <td>00:00</td>\n",
              "    </tr>\n",
              "    <tr>\n",
              "      <td>27</td>\n",
              "      <td>0.018884</td>\n",
              "      <td>0.037623</td>\n",
              "      <td>0.967654</td>\n",
              "      <td>00:00</td>\n",
              "    </tr>\n",
              "    <tr>\n",
              "      <td>28</td>\n",
              "      <td>0.018643</td>\n",
              "      <td>0.037341</td>\n",
              "      <td>0.967163</td>\n",
              "      <td>00:00</td>\n",
              "    </tr>\n",
              "    <tr>\n",
              "      <td>29</td>\n",
              "      <td>0.018415</td>\n",
              "      <td>0.037074</td>\n",
              "      <td>0.967163</td>\n",
              "      <td>00:00</td>\n",
              "    </tr>\n",
              "    <tr>\n",
              "      <td>30</td>\n",
              "      <td>0.018199</td>\n",
              "      <td>0.036823</td>\n",
              "      <td>0.966672</td>\n",
              "      <td>00:00</td>\n",
              "    </tr>\n",
              "    <tr>\n",
              "      <td>31</td>\n",
              "      <td>0.017994</td>\n",
              "      <td>0.036585</td>\n",
              "      <td>0.966672</td>\n",
              "      <td>00:00</td>\n",
              "    </tr>\n",
              "    <tr>\n",
              "      <td>32</td>\n",
              "      <td>0.017799</td>\n",
              "      <td>0.036359</td>\n",
              "      <td>0.966672</td>\n",
              "      <td>00:00</td>\n",
              "    </tr>\n",
              "    <tr>\n",
              "      <td>33</td>\n",
              "      <td>0.017612</td>\n",
              "      <td>0.036146</td>\n",
              "      <td>0.967654</td>\n",
              "      <td>00:00</td>\n",
              "    </tr>\n",
              "    <tr>\n",
              "      <td>34</td>\n",
              "      <td>0.017434</td>\n",
              "      <td>0.035942</td>\n",
              "      <td>0.968144</td>\n",
              "      <td>00:00</td>\n",
              "    </tr>\n",
              "    <tr>\n",
              "      <td>35</td>\n",
              "      <td>0.017264</td>\n",
              "      <td>0.035749</td>\n",
              "      <td>0.968635</td>\n",
              "      <td>00:00</td>\n",
              "    </tr>\n",
              "    <tr>\n",
              "      <td>36</td>\n",
              "      <td>0.017101</td>\n",
              "      <td>0.035565</td>\n",
              "      <td>0.968635</td>\n",
              "      <td>00:00</td>\n",
              "    </tr>\n",
              "    <tr>\n",
              "      <td>37</td>\n",
              "      <td>0.016944</td>\n",
              "      <td>0.035390</td>\n",
              "      <td>0.969126</td>\n",
              "      <td>00:00</td>\n",
              "    </tr>\n",
              "    <tr>\n",
              "      <td>38</td>\n",
              "      <td>0.016793</td>\n",
              "      <td>0.035223</td>\n",
              "      <td>0.969126</td>\n",
              "      <td>00:00</td>\n",
              "    </tr>\n",
              "    <tr>\n",
              "      <td>39</td>\n",
              "      <td>0.016648</td>\n",
              "      <td>0.035063</td>\n",
              "      <td>0.969616</td>\n",
              "      <td>00:00</td>\n",
              "    </tr>\n",
              "  </tbody>\n",
              "</table>"
            ]
          },
          "metadata": {}
        }
      ]
    },
    {
      "cell_type": "code",
      "source": [
        "dls=ImageDataLoaders.from_folder(path)\n",
        "learn=vision_learner(dls,resnet18,pretrained=False,loss_func=F.cross_entropy,metrics=accuracy\n",
        "                     )\n",
        "learn.fit_one_cycle(1,0.1)"
      ],
      "metadata": {
        "colab": {
          "base_uri": "https://localhost:8080/",
          "height": 174
        },
        "id": "tCdA0nCsk1DI",
        "outputId": "e120ee8f-da18-4da3-8fd2-0da6a80dc979"
      },
      "execution_count": 125,
      "outputs": [
        {
          "output_type": "stream",
          "name": "stderr",
          "text": [
            "/usr/local/lib/python3.10/dist-packages/torchvision/models/_utils.py:208: UserWarning: The parameter 'pretrained' is deprecated since 0.13 and may be removed in the future, please use 'weights' instead.\n",
            "  warnings.warn(\n",
            "/usr/local/lib/python3.10/dist-packages/torchvision/models/_utils.py:223: UserWarning: Arguments other than a weight enum or `None` for 'weights' are deprecated since 0.13 and may be removed in the future. The current behavior is equivalent to passing `weights=None`.\n",
            "  warnings.warn(msg)\n"
          ]
        },
        {
          "output_type": "display_data",
          "data": {
            "text/plain": [
              "<IPython.core.display.HTML object>"
            ],
            "text/html": [
              "\n",
              "<style>\n",
              "    /* Turns off some styling */\n",
              "    progress {\n",
              "        /* gets rid of default border in Firefox and Opera. */\n",
              "        border: none;\n",
              "        /* Needs to be in here for Safari polyfill so background images work as expected. */\n",
              "        background-size: auto;\n",
              "    }\n",
              "    progress:not([value]), progress:not([value])::-webkit-progress-bar {\n",
              "        background: repeating-linear-gradient(45deg, #7e7e7e, #7e7e7e 10px, #5c5c5c 10px, #5c5c5c 20px);\n",
              "    }\n",
              "    .progress-bar-interrupted, .progress-bar-interrupted::-webkit-progress-bar {\n",
              "        background: #F44336;\n",
              "    }\n",
              "</style>\n"
            ]
          },
          "metadata": {}
        },
        {
          "output_type": "display_data",
          "data": {
            "text/plain": [
              "<IPython.core.display.HTML object>"
            ],
            "text/html": [
              "<table border=\"1\" class=\"dataframe\">\n",
              "  <thead>\n",
              "    <tr style=\"text-align: left;\">\n",
              "      <th>epoch</th>\n",
              "      <th>train_loss</th>\n",
              "      <th>valid_loss</th>\n",
              "      <th>accuracy</th>\n",
              "      <th>time</th>\n",
              "    </tr>\n",
              "  </thead>\n",
              "  <tbody>\n",
              "    <tr>\n",
              "      <td>0</td>\n",
              "      <td>0.103131</td>\n",
              "      <td>0.012071</td>\n",
              "      <td>0.996075</td>\n",
              "      <td>03:19</td>\n",
              "    </tr>\n",
              "  </tbody>\n",
              "</table>"
            ]
          },
          "metadata": {}
        }
      ]
    },
    {
      "cell_type": "code",
      "source": [],
      "metadata": {
        "id": "QRVKV5vLmJva"
      },
      "execution_count": null,
      "outputs": []
    }
  ]
}