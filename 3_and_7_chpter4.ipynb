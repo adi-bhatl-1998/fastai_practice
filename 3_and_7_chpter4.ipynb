{
  "nbformat": 4,
  "nbformat_minor": 0,
  "metadata": {
    "colab": {
      "provenance": [],
      "authorship_tag": "ABX9TyNLjRlFIVx8FGg9M0erjjtc",
      "include_colab_link": true
    },
    "kernelspec": {
      "name": "python3",
      "display_name": "Python 3"
    },
    "language_info": {
      "name": "python"
    }
  },
  "cells": [
    {
      "cell_type": "markdown",
      "metadata": {
        "id": "view-in-github",
        "colab_type": "text"
      },
      "source": [
        "<a href=\"https://colab.research.google.com/github/adi-bhatl-1998/fastai_practice/blob/main/3_and_7_chpter4.ipynb\" target=\"_parent\"><img src=\"https://colab.research.google.com/assets/colab-badge.svg\" alt=\"Open In Colab\"/></a>"
      ]
    },
    {
      "cell_type": "code",
      "execution_count": 1,
      "metadata": {
        "colab": {
          "base_uri": "https://localhost:8080/"
        },
        "id": "-CKP80FAuWRC",
        "outputId": "4f914e61-849e-4d75-b1e9-1d12d794683c"
      },
      "outputs": [
        {
          "output_type": "stream",
          "name": "stdout",
          "text": [
            "\u001b[2K     \u001b[90m━━━━━━━━━━━━━━━━━━━━━━━━━━━━━━━━━━━━━━\u001b[0m \u001b[32m719.8/719.8 kB\u001b[0m \u001b[31m15.5 MB/s\u001b[0m eta \u001b[36m0:00:00\u001b[0m\n",
            "\u001b[2K     \u001b[90m━━━━━━━━━━━━━━━━━━━━━━━━━━━━━━━━━━━━━━━━\u001b[0m \u001b[32m7.1/7.1 MB\u001b[0m \u001b[31m86.4 MB/s\u001b[0m eta \u001b[36m0:00:00\u001b[0m\n",
            "\u001b[2K     \u001b[90m━━━━━━━━━━━━━━━━━━━━━━━━━━━━━━━━━━━━━━\u001b[0m \u001b[32m474.6/474.6 kB\u001b[0m \u001b[31m42.9 MB/s\u001b[0m eta \u001b[36m0:00:00\u001b[0m\n",
            "\u001b[2K     \u001b[90m━━━━━━━━━━━━━━━━━━━━━━━━━━━━━━━━━━━━━━━━\u001b[0m \u001b[32m1.3/1.3 MB\u001b[0m \u001b[31m68.8 MB/s\u001b[0m eta \u001b[36m0:00:00\u001b[0m\n",
            "\u001b[2K     \u001b[90m━━━━━━━━━━━━━━━━━━━━━━━━━━━━━━━━━━━━━━\u001b[0m \u001b[32m110.5/110.5 kB\u001b[0m \u001b[31m13.6 MB/s\u001b[0m eta \u001b[36m0:00:00\u001b[0m\n",
            "\u001b[2K     \u001b[90m━━━━━━━━━━━━━━━━━━━━━━━━━━━━━━━━━━━━━━\u001b[0m \u001b[32m212.5/212.5 kB\u001b[0m \u001b[31m23.1 MB/s\u001b[0m eta \u001b[36m0:00:00\u001b[0m\n",
            "\u001b[2K     \u001b[90m━━━━━━━━━━━━━━━━━━━━━━━━━━━━━━━━━━━━━━\u001b[0m \u001b[32m134.3/134.3 kB\u001b[0m \u001b[31m16.6 MB/s\u001b[0m eta \u001b[36m0:00:00\u001b[0m\n",
            "\u001b[2K     \u001b[90m━━━━━━━━━━━━━━━━━━━━━━━━━━━━━━━━━━━━━━━━\u001b[0m \u001b[32m1.0/1.0 MB\u001b[0m \u001b[31m19.1 MB/s\u001b[0m eta \u001b[36m0:00:00\u001b[0m\n",
            "\u001b[2K     \u001b[90m━━━━━━━━━━━━━━━━━━━━━━━━━━━━━━━━━━━━━━\u001b[0m \u001b[32m224.5/224.5 kB\u001b[0m \u001b[31m24.0 MB/s\u001b[0m eta \u001b[36m0:00:00\u001b[0m\n",
            "\u001b[2K     \u001b[90m━━━━━━━━━━━━━━━━━━━━━━━━━━━━━━━━━━━━━━━━\u001b[0m \u001b[32m7.8/7.8 MB\u001b[0m \u001b[31m84.8 MB/s\u001b[0m eta \u001b[36m0:00:00\u001b[0m\n",
            "\u001b[2K     \u001b[90m━━━━━━━━━━━━━━━━━━━━━━━━━━━━━━━━━━━━━━\u001b[0m \u001b[32m114.5/114.5 kB\u001b[0m \u001b[31m13.8 MB/s\u001b[0m eta \u001b[36m0:00:00\u001b[0m\n",
            "\u001b[2K     \u001b[90m━━━━━━━━━━━━━━━━━━━━━━━━━━━━━━━━━━━━━━\u001b[0m \u001b[32m268.8/268.8 kB\u001b[0m \u001b[31m30.5 MB/s\u001b[0m eta \u001b[36m0:00:00\u001b[0m\n",
            "\u001b[2K     \u001b[90m━━━━━━━━━━━━━━━━━━━━━━━━━━━━━━━━━━━━━━\u001b[0m \u001b[32m149.6/149.6 kB\u001b[0m \u001b[31m16.6 MB/s\u001b[0m eta \u001b[36m0:00:00\u001b[0m\n",
            "\u001b[2K     \u001b[90m━━━━━━━━━━━━━━━━━━━━━━━━━━━━━━━━━━━━━━━━\u001b[0m \u001b[32m1.6/1.6 MB\u001b[0m \u001b[31m58.7 MB/s\u001b[0m eta \u001b[36m0:00:00\u001b[0m\n",
            "\u001b[?25hMounted at /content/gdrive\n"
          ]
        }
      ],
      "source": [
        "#hide\n",
        "! [ -e /content ] && pip install -Uqq fastbook\n",
        "import fastbook\n",
        "fastbook.setup_book()"
      ]
    },
    {
      "cell_type": "code",
      "source": [
        "#hide\n",
        "from fastai.vision.all import *\n",
        "from fastbook import *\n",
        "\n",
        "matplotlib.rc('image', cmap='Greys')"
      ],
      "metadata": {
        "id": "IgxbszNxubbj"
      },
      "execution_count": 2,
      "outputs": []
    },
    {
      "cell_type": "code",
      "source": [
        "path=untar_data(URLs.MNIST_SAMPLE)"
      ],
      "metadata": {
        "colab": {
          "base_uri": "https://localhost:8080/",
          "height": 37
        },
        "id": "IZlu7X5Sx2Zj",
        "outputId": "eb0727cc-d6b3-4150-afe9-a8534633c72e"
      },
      "execution_count": 3,
      "outputs": [
        {
          "output_type": "display_data",
          "data": {
            "text/plain": [
              "<IPython.core.display.HTML object>"
            ],
            "text/html": [
              "\n",
              "<style>\n",
              "    /* Turns off some styling */\n",
              "    progress {\n",
              "        /* gets rid of default border in Firefox and Opera. */\n",
              "        border: none;\n",
              "        /* Needs to be in here for Safari polyfill so background images work as expected. */\n",
              "        background-size: auto;\n",
              "    }\n",
              "    progress:not([value]), progress:not([value])::-webkit-progress-bar {\n",
              "        background: repeating-linear-gradient(45deg, #7e7e7e, #7e7e7e 10px, #5c5c5c 10px, #5c5c5c 20px);\n",
              "    }\n",
              "    .progress-bar-interrupted, .progress-bar-interrupted::-webkit-progress-bar {\n",
              "        background: #F44336;\n",
              "    }\n",
              "</style>\n"
            ]
          },
          "metadata": {}
        },
        {
          "output_type": "display_data",
          "data": {
            "text/plain": [
              "<IPython.core.display.HTML object>"
            ],
            "text/html": [
              "\n",
              "    <div>\n",
              "      <progress value='3219456' class='' max='3214948' style='width:300px; height:20px; vertical-align: middle;'></progress>\n",
              "      100.14% [3219456/3214948 00:00&lt;00:00]\n",
              "    </div>\n",
              "    "
            ]
          },
          "metadata": {}
        }
      ]
    },
    {
      "cell_type": "code",
      "source": [
        "Path.BASE_PATH=path"
      ],
      "metadata": {
        "id": "nnnLOJ1Kx-J2"
      },
      "execution_count": 4,
      "outputs": []
    },
    {
      "cell_type": "code",
      "source": [
        "path.ls()"
      ],
      "metadata": {
        "colab": {
          "base_uri": "https://localhost:8080/"
        },
        "id": "jYfm-Q4zyLIz",
        "outputId": "5e7ea120-06d4-4ed6-d597-b530bd29d087"
      },
      "execution_count": 5,
      "outputs": [
        {
          "output_type": "execute_result",
          "data": {
            "text/plain": [
              "(#3) [Path('valid'),Path('train'),Path('labels.csv')]"
            ]
          },
          "metadata": {},
          "execution_count": 5
        }
      ]
    },
    {
      "cell_type": "code",
      "source": [
        "(path/'train').ls()"
      ],
      "metadata": {
        "colab": {
          "base_uri": "https://localhost:8080/"
        },
        "id": "Crj_kzSayOgM",
        "outputId": "369fd53b-01af-484d-8951-73cd5fac0a39"
      },
      "execution_count": 6,
      "outputs": [
        {
          "output_type": "execute_result",
          "data": {
            "text/plain": [
              "(#2) [Path('train/3'),Path('train/7')]"
            ]
          },
          "metadata": {},
          "execution_count": 6
        }
      ]
    },
    {
      "cell_type": "code",
      "source": [
        "threes = (path/'train/3').ls().sorted()\n",
        "sevens=(path/'train/7').ls().sorted()\n",
        "threes"
      ],
      "metadata": {
        "colab": {
          "base_uri": "https://localhost:8080/"
        },
        "id": "d0fFGDr60hUU",
        "outputId": "8ef434e0-f4ac-43fe-dcbf-12cdbfad8a0a"
      },
      "execution_count": 22,
      "outputs": [
        {
          "output_type": "execute_result",
          "data": {
            "text/plain": [
              "(#6131) [Path('train/3/10.png'),Path('train/3/10000.png'),Path('train/3/10011.png'),Path('train/3/10031.png'),Path('train/3/10034.png'),Path('train/3/10042.png'),Path('train/3/10052.png'),Path('train/3/1007.png'),Path('train/3/10074.png'),Path('train/3/10091.png')...]"
            ]
          },
          "metadata": {},
          "execution_count": 22
        }
      ]
    },
    {
      "cell_type": "code",
      "source": [
        "img_3_path=threes[1]\n",
        "img=Image.open(img_3_path)\n",
        "img"
      ],
      "metadata": {
        "colab": {
          "base_uri": "https://localhost:8080/",
          "height": 45
        },
        "id": "yl87gtE-1QcV",
        "outputId": "16bff0eb-2597-426a-fab2-a0b2c6a79333"
      },
      "execution_count": 8,
      "outputs": [
        {
          "output_type": "execute_result",
          "data": {
            "text/plain": [
              "<PIL.PngImagePlugin.PngImageFile image mode=L size=28x28>"
            ],
            "image/png": "[encoded data removed]"
          },
          "metadata": {},
          "execution_count": 8
        }
      ]
    },
    {
      "cell_type": "code",
      "source": [
        "array(img)[4:10,4:20]"
      ],
      "metadata": {
        "colab": {
          "base_uri": "https://localhost:8080/"
        },
        "id": "s6B3xRur1bx5",
        "outputId": "6c2cc827-18e1-481f-fee3-c0904505935f"
      },
      "execution_count": 9,
      "outputs": [
        {
          "output_type": "execute_result",
          "data": {
            "text/plain": [
              "array([[  0,   0,   0,   0,   0,   0,   0,   0,   0,   0,   0,   0,   0,   0,   0,   0],\n",
              "       [  0,   0,   0,   0,   0,  29, 150, 195, 254, 255, 254, 176, 193, 150,  96,   0],\n",
              "       [  0,   0,   0,  48, 166, 224, 253, 253, 234, 196, 253, 253, 253, 253, 233,   0],\n",
              "       [  0,  93, 244, 249, 253, 187,  46,  10,   8,   4,  10, 194, 253, 253, 233,   0],\n",
              "       [  0, 107, 253, 253, 230,  48,   0,   0,   0,   0,   0, 192, 253, 253, 156,   0],\n",
              "       [  0,   3,  20,  20,  15,   0,   0,   0,   0,   0,  43, 224, 253, 245,  74,   0]], dtype=uint8)"
            ]
          },
          "metadata": {},
          "execution_count": 9
        }
      ]
    },
    {
      "cell_type": "code",
      "source": [
        "tensor(img)[4:10,4:20]\n",
        "tensor(img).shape"
      ],
      "metadata": {
        "colab": {
          "base_uri": "https://localhost:8080/"
        },
        "id": "yU8jssdE31xX",
        "outputId": "8e29ae43-fbd7-4d17-ceb3-f64b9a6a4b3a"
      },
      "execution_count": 10,
      "outputs": [
        {
          "output_type": "execute_result",
          "data": {
            "text/plain": [
              "torch.Size([28, 28])"
            ]
          },
          "metadata": {},
          "execution_count": 10
        }
      ]
    },
    {
      "cell_type": "code",
      "source": [
        "import pandas as pd \n",
        "im3_t=tensor(img)\n",
        "df = pd.DataFrame(im3_t[4:15,4:22])\n",
        "df1=pd.DataFrame(im3_t)\n",
        "print(df)\n",
        "df.style.set_properties(**{'font-size':'6pt'}).background_gradient('Blues')\n",
        "df1.style.set_properties(**{'font-size':'6pt'}).background_gradient('Blues')"
      ],
      "metadata": {
        "colab": {
          "base_uri": "https://localhost:8080/",
          "height": 1000
        },
        "id": "zx_OUuP14ItO",
        "outputId": "a12cc62e-b176-4715-bcc6-8f845f80d457"
      },
      "execution_count": 59,
      "outputs": [
        {
          "output_type": "stream",
          "name": "stdout",
          "text": [
            "    0    1    2    3    4    5    6    7    8    9    10   11   12   13   14  \\\n",
            "0    0    0    0    0    0    0    0    0    0    0    0    0    0    0    0   \n",
            "1    0    0    0    0    0   29  150  195  254  255  254  176  193  150   96   \n",
            "2    0    0    0   48  166  224  253  253  234  196  253  253  253  253  233   \n",
            "3    0   93  244  249  253  187   46   10    8    4   10  194  253  253  233   \n",
            "4    0  107  253  253  230   48    0    0    0    0    0  192  253  253  156   \n",
            "5    0    3   20   20   15    0    0    0    0    0   43  224  253  245   74   \n",
            "6    0    0    0    0    0    0    0    0    0    0  249  253  245  126    0   \n",
            "7    0    0    0    0    0    0    0   14  101  223  253  248  124    0    0   \n",
            "8    0    0    0    0    0   11  166  239  253  253  253  187   30    0    0   \n",
            "9    0    0    0    0    0   16  248  250  253  253  253  253  232  213  111   \n",
            "10   0    0    0    0    0    0    0   43   98   98  208  253  253  253  253   \n",
            "\n",
            "     15  16  17  \n",
            "0     0   0   0  \n",
            "1     0   0   0  \n",
            "2     0   0   0  \n",
            "3     0   0   0  \n",
            "4     0   0   0  \n",
            "5     0   0   0  \n",
            "6     0   0   0  \n",
            "7     0   0   0  \n",
            "8     0   0   0  \n",
            "9     2   0   0  \n",
            "10  187  22   0  \n"
          ]
        },
        {
          "output_type": "execute_result",
          "data": {
            "text/plain": [
              "<pandas.io.formats.style.Styler at 0x7f0be97f6b60>"
            ],
            "text/html": [
              "<style type=\"text/css\">\n",
              "#T_609ae_row0_col0, #T_609ae_row0_col1, #T_609ae_row0_col2, #T_609ae_row0_col3, #T_609ae_row0_col4, #T_609ae_row0_col5, #T_609ae_row0_col6, #T_609ae_row0_col7, #T_609ae_row0_col8, #T_609ae_row0_col9, #T_609ae_row0_col10, #T_609ae_row0_col11, #T_609ae_row0_col12, #T_609ae_row0_col13, #T_609ae_row0_col14, #T_609ae_row0_col15, #T_609ae_row0_col16, #T_609ae_row0_col17, #T_609ae_row0_col18, #T_609ae_row0_col19, #T_609ae_row0_col20, #T_609ae_row0_col21, #T_609ae_row0_col22, #T_609ae_row0_col23, #T_609ae_row0_col24, #T_609ae_row0_col25, #T_609ae_row0_col26, #T_609ae_row0_col27, #T_609ae_row1_col0, #T_609ae_row1_col1, #T_609ae_row1_col2, #T_609ae_row1_col3, #T_609ae_row1_col4, #T_609ae_row1_col5, #T_609ae_row1_col6, #T_609ae_row1_col7, #T_609ae_row1_col8, #T_609ae_row1_col9, #T_609ae_row1_col10, #T_609ae_row1_col11, #T_609ae_row1_col12, #T_609ae_row1_col13, #T_609ae_row1_col14, #T_609ae_row1_col15, #T_609ae_row1_col16, #T_609ae_row1_col17, #T_609ae_row1_col18, #T_609ae_row1_col19, #T_609ae_row1_col20, #T_609ae_row1_col21, #T_609ae_row1_col22, #T_609ae_row1_col23, #T_609ae_row1_col24, #T_609ae_row1_col25, #T_609ae_row1_col26, #T_609ae_row1_col27, #T_609ae_row2_col0, #T_609ae_row2_col1, #T_609ae_row2_col2, #T_609ae_row2_col3, #T_609ae_row2_col4, #T_609ae_row2_col5, #T_609ae_row2_col6, #T_609ae_row2_col7, #T_609ae_row2_col8, #T_609ae_row2_col9, #T_609ae_row2_col10, #T_609ae_row2_col11, #T_609ae_row2_col12, #T_609ae_row2_col13, #T_609ae_row2_col14, #T_609ae_row2_col15, #T_609ae_row2_col16, #T_609ae_row2_col17, #T_609ae_row2_col18, #T_609ae_row2_col19, #T_609ae_row2_col20, #T_609ae_row2_col21, #T_609ae_row2_col22, #T_609ae_row2_col23, #T_609ae_row2_col24, #T_609ae_row2_col25, #T_609ae_row2_col26, #T_609ae_row2_col27, #T_609ae_row3_col0, #T_609ae_row3_col1, #T_609ae_row3_col2, #T_609ae_row3_col3, #T_609ae_row3_col4, #T_609ae_row3_col5, #T_609ae_row3_col6, #T_609ae_row3_col7, #T_609ae_row3_col8, #T_609ae_row3_col9, #T_609ae_row3_col10, #T_609ae_row3_col11, #T_609ae_row3_col12, #T_609ae_row3_col13, #T_609ae_row3_col14, #T_609ae_row3_col15, #T_609ae_row3_col16, #T_609ae_row3_col17, #T_609ae_row3_col18, #T_609ae_row3_col19, #T_609ae_row3_col20, #T_609ae_row3_col21, #T_609ae_row3_col22, #T_609ae_row3_col23, #T_609ae_row3_col24, #T_609ae_row3_col25, #T_609ae_row3_col26, #T_609ae_row3_col27, #T_609ae_row4_col0, #T_609ae_row4_col1, #T_609ae_row4_col2, #T_609ae_row4_col3, #T_609ae_row4_col4, #T_609ae_row4_col5, #T_609ae_row4_col6, #T_609ae_row4_col7, #T_609ae_row4_col8, #T_609ae_row4_col9, #T_609ae_row4_col10, #T_609ae_row4_col11, #T_609ae_row4_col12, #T_609ae_row4_col13, #T_609ae_row4_col14, #T_609ae_row4_col15, #T_609ae_row4_col16, #T_609ae_row4_col17, #T_609ae_row4_col18, #T_609ae_row4_col19, #T_609ae_row4_col20, #T_609ae_row4_col21, #T_609ae_row4_col22, #T_609ae_row4_col23, #T_609ae_row4_col24, #T_609ae_row4_col25, #T_609ae_row4_col26, #T_609ae_row4_col27, #T_609ae_row5_col0, #T_609ae_row5_col1, #T_609ae_row5_col2, #T_609ae_row5_col3, #T_609ae_row5_col4, #T_609ae_row5_col5, #T_609ae_row5_col6, #T_609ae_row5_col7, #T_609ae_row5_col8, #T_609ae_row5_col19, #T_609ae_row5_col20, #T_609ae_row5_col21, #T_609ae_row5_col22, #T_609ae_row5_col23, #T_609ae_row5_col24, #T_609ae_row5_col25, #T_609ae_row5_col26, #T_609ae_row5_col27, #T_609ae_row6_col0, #T_609ae_row6_col1, #T_609ae_row6_col2, #T_609ae_row6_col3, #T_609ae_row6_col4, #T_609ae_row6_col5, #T_609ae_row6_col6, #T_609ae_row6_col19, #T_609ae_row6_col20, #T_609ae_row6_col21, #T_609ae_row6_col22, #T_609ae_row6_col23, #T_609ae_row6_col24, #T_609ae_row6_col25, #T_609ae_row6_col26, #T_609ae_row6_col27, #T_609ae_row7_col0, #T_609ae_row7_col1, #T_609ae_row7_col2, #T_609ae_row7_col3, #T_609ae_row7_col4, #T_609ae_row7_col19, #T_609ae_row7_col20, #T_609ae_row7_col21, #T_609ae_row7_col22, #T_609ae_row7_col23, #T_609ae_row7_col24, #T_609ae_row7_col25, #T_609ae_row7_col26, #T_609ae_row7_col27, #T_609ae_row8_col0, #T_609ae_row8_col1, #T_609ae_row8_col2, #T_609ae_row8_col3, #T_609ae_row8_col4, #T_609ae_row8_col10, #T_609ae_row8_col11, #T_609ae_row8_col12, #T_609ae_row8_col13, #T_609ae_row8_col14, #T_609ae_row8_col19, #T_609ae_row8_col20, #T_609ae_row8_col21, #T_609ae_row8_col22, #T_609ae_row8_col23, #T_609ae_row8_col24, #T_609ae_row8_col25, #T_609ae_row8_col26, #T_609ae_row8_col27, #T_609ae_row9_col0, #T_609ae_row9_col1, #T_609ae_row9_col2, #T_609ae_row9_col3, #T_609ae_row9_col4, #T_609ae_row9_col9, #T_609ae_row9_col10, #T_609ae_row9_col11, #T_609ae_row9_col12, #T_609ae_row9_col13, #T_609ae_row9_col19, #T_609ae_row9_col20, #T_609ae_row9_col21, #T_609ae_row9_col22, #T_609ae_row9_col23, #T_609ae_row9_col24, #T_609ae_row9_col25, #T_609ae_row9_col26, #T_609ae_row9_col27, #T_609ae_row10_col0, #T_609ae_row10_col1, #T_609ae_row10_col2, #T_609ae_row10_col3, #T_609ae_row10_col4, #T_609ae_row10_col5, #T_609ae_row10_col6, #T_609ae_row10_col7, #T_609ae_row10_col8, #T_609ae_row10_col9, #T_609ae_row10_col10, #T_609ae_row10_col11, #T_609ae_row10_col12, #T_609ae_row10_col13, #T_609ae_row10_col18, #T_609ae_row10_col19, #T_609ae_row10_col20, #T_609ae_row10_col21, #T_609ae_row10_col22, #T_609ae_row10_col23, #T_609ae_row10_col24, #T_609ae_row10_col25, #T_609ae_row10_col26, #T_609ae_row10_col27, #T_609ae_row11_col0, #T_609ae_row11_col1, #T_609ae_row11_col2, #T_609ae_row11_col3, #T_609ae_row11_col4, #T_609ae_row11_col5, #T_609ae_row11_col6, #T_609ae_row11_col7, #T_609ae_row11_col8, #T_609ae_row11_col9, #T_609ae_row11_col10, #T_609ae_row11_col17, #T_609ae_row11_col18, #T_609ae_row11_col19, #T_609ae_row11_col20, #T_609ae_row11_col21, #T_609ae_row11_col22, #T_609ae_row11_col23, #T_609ae_row11_col24, #T_609ae_row11_col25, #T_609ae_row11_col26, #T_609ae_row11_col27, #T_609ae_row12_col0, #T_609ae_row12_col1, #T_609ae_row12_col2, #T_609ae_row12_col3, #T_609ae_row12_col4, #T_609ae_row12_col5, #T_609ae_row12_col6, #T_609ae_row12_col7, #T_609ae_row12_col8, #T_609ae_row12_col17, #T_609ae_row12_col18, #T_609ae_row12_col19, #T_609ae_row12_col20, #T_609ae_row12_col21, #T_609ae_row12_col22, #T_609ae_row12_col23, #T_609ae_row12_col24, #T_609ae_row12_col25, #T_609ae_row12_col26, #T_609ae_row12_col27, #T_609ae_row13_col0, #T_609ae_row13_col1, #T_609ae_row13_col2, #T_609ae_row13_col3, #T_609ae_row13_col4, #T_609ae_row13_col5, #T_609ae_row13_col6, #T_609ae_row13_col7, #T_609ae_row13_col8, #T_609ae_row13_col20, #T_609ae_row13_col21, #T_609ae_row13_col22, #T_609ae_row13_col23, #T_609ae_row13_col24, #T_609ae_row13_col25, #T_609ae_row13_col26, #T_609ae_row13_col27, #T_609ae_row14_col0, #T_609ae_row14_col1, #T_609ae_row14_col2, #T_609ae_row14_col3, #T_609ae_row14_col4, #T_609ae_row14_col5, #T_609ae_row14_col6, #T_609ae_row14_col7, #T_609ae_row14_col8, #T_609ae_row14_col9, #T_609ae_row14_col10, #T_609ae_row14_col21, #T_609ae_row14_col22, #T_609ae_row14_col23, #T_609ae_row14_col24, #T_609ae_row14_col25, #T_609ae_row14_col26, #T_609ae_row14_col27, #T_609ae_row15_col0, #T_609ae_row15_col1, #T_609ae_row15_col2, #T_609ae_row15_col3, #T_609ae_row15_col4, #T_609ae_row15_col5, #T_609ae_row15_col6, #T_609ae_row15_col7, #T_609ae_row15_col8, #T_609ae_row15_col9, #T_609ae_row15_col10, #T_609ae_row15_col11, #T_609ae_row15_col12, #T_609ae_row15_col13, #T_609ae_row15_col21, #T_609ae_row15_col22, #T_609ae_row15_col23, #T_609ae_row15_col24, #T_609ae_row15_col25, #T_609ae_row15_col26, #T_609ae_row15_col27, #T_609ae_row16_col0, #T_609ae_row16_col1, #T_609ae_row16_col2, #T_609ae_row16_col3, #T_609ae_row16_col4, #T_609ae_row16_col5, #T_609ae_row16_col6, #T_609ae_row16_col7, #T_609ae_row16_col8, #T_609ae_row16_col9, #T_609ae_row16_col10, #T_609ae_row16_col11, #T_609ae_row16_col12, #T_609ae_row16_col13, #T_609ae_row16_col14, #T_609ae_row16_col15, #T_609ae_row16_col21, #T_609ae_row16_col22, #T_609ae_row16_col23, #T_609ae_row16_col24, #T_609ae_row16_col25, #T_609ae_row16_col26, #T_609ae_row16_col27, #T_609ae_row17_col0, #T_609ae_row17_col1, #T_609ae_row17_col2, #T_609ae_row17_col3, #T_609ae_row17_col4, #T_609ae_row17_col5, #T_609ae_row17_col6, #T_609ae_row17_col7, #T_609ae_row17_col8, #T_609ae_row17_col9, #T_609ae_row17_col10, #T_609ae_row17_col11, #T_609ae_row17_col12, #T_609ae_row17_col13, #T_609ae_row17_col14, #T_609ae_row17_col15, #T_609ae_row17_col16, #T_609ae_row17_col21, #T_609ae_row17_col22, #T_609ae_row17_col23, #T_609ae_row17_col24, #T_609ae_row17_col25, #T_609ae_row17_col26, #T_609ae_row17_col27, #T_609ae_row18_col0, #T_609ae_row18_col1, #T_609ae_row18_col2, #T_609ae_row18_col3, #T_609ae_row18_col4, #T_609ae_row18_col5, #T_609ae_row18_col6, #T_609ae_row18_col7, #T_609ae_row18_col8, #T_609ae_row18_col9, #T_609ae_row18_col10, #T_609ae_row18_col11, #T_609ae_row18_col12, #T_609ae_row18_col13, #T_609ae_row18_col14, #T_609ae_row18_col15, #T_609ae_row18_col21, #T_609ae_row18_col22, #T_609ae_row18_col23, #T_609ae_row18_col24, #T_609ae_row18_col25, #T_609ae_row18_col26, #T_609ae_row18_col27, #T_609ae_row19_col0, #T_609ae_row19_col1, #T_609ae_row19_col2, #T_609ae_row19_col3, #T_609ae_row19_col4, #T_609ae_row19_col5, #T_609ae_row19_col6, #T_609ae_row19_col7, #T_609ae_row19_col8, #T_609ae_row19_col9, #T_609ae_row19_col10, #T_609ae_row19_col11, #T_609ae_row19_col12, #T_609ae_row19_col13, #T_609ae_row19_col14, #T_609ae_row19_col21, #T_609ae_row19_col22, #T_609ae_row19_col23, #T_609ae_row19_col24, #T_609ae_row19_col25, #T_609ae_row19_col26, #T_609ae_row19_col27, #T_609ae_row20_col0, #T_609ae_row20_col1, #T_609ae_row20_col2, #T_609ae_row20_col3, #T_609ae_row20_col4, #T_609ae_row20_col5, #T_609ae_row20_col6, #T_609ae_row20_col7, #T_609ae_row20_col8, #T_609ae_row20_col9, #T_609ae_row20_col10, #T_609ae_row20_col11, #T_609ae_row20_col12, #T_609ae_row20_col13, #T_609ae_row20_col20, #T_609ae_row20_col21, #T_609ae_row20_col22, #T_609ae_row20_col23, #T_609ae_row20_col24, #T_609ae_row20_col25, #T_609ae_row20_col26, #T_609ae_row20_col27, #T_609ae_row21_col0, #T_609ae_row21_col1, #T_609ae_row21_col2, #T_609ae_row21_col3, #T_609ae_row21_col4, #T_609ae_row21_col5, #T_609ae_row21_col6, #T_609ae_row21_col7, #T_609ae_row21_col8, #T_609ae_row21_col9, #T_609ae_row21_col10, #T_609ae_row21_col11, #T_609ae_row21_col19, #T_609ae_row21_col20, #T_609ae_row21_col21, #T_609ae_row21_col22, #T_609ae_row21_col23, #T_609ae_row21_col24, #T_609ae_row21_col25, #T_609ae_row21_col26, #T_609ae_row21_col27, #T_609ae_row22_col0, #T_609ae_row22_col1, #T_609ae_row22_col2, #T_609ae_row22_col3, #T_609ae_row22_col4, #T_609ae_row22_col5, #T_609ae_row22_col18, #T_609ae_row22_col19, #T_609ae_row22_col20, #T_609ae_row22_col21, #T_609ae_row22_col22, #T_609ae_row22_col23, #T_609ae_row22_col24, #T_609ae_row22_col25, #T_609ae_row22_col26, #T_609ae_row22_col27, #T_609ae_row23_col0, #T_609ae_row23_col1, #T_609ae_row23_col2, #T_609ae_row23_col3, #T_609ae_row23_col4, #T_609ae_row23_col5, #T_609ae_row23_col16, #T_609ae_row23_col17, #T_609ae_row23_col18, #T_609ae_row23_col19, #T_609ae_row23_col20, #T_609ae_row23_col21, #T_609ae_row23_col22, #T_609ae_row23_col23, #T_609ae_row23_col24, #T_609ae_row23_col25, #T_609ae_row23_col26, #T_609ae_row23_col27, #T_609ae_row24_col0, #T_609ae_row24_col1, #T_609ae_row24_col2, #T_609ae_row24_col3, #T_609ae_row24_col4, #T_609ae_row24_col5, #T_609ae_row24_col15, #T_609ae_row24_col16, #T_609ae_row24_col17, #T_609ae_row24_col18, #T_609ae_row24_col19, #T_609ae_row24_col20, #T_609ae_row24_col21, #T_609ae_row24_col22, #T_609ae_row24_col23, #T_609ae_row24_col24, #T_609ae_row24_col25, #T_609ae_row24_col26, #T_609ae_row24_col27, #T_609ae_row25_col0, #T_609ae_row25_col1, #T_609ae_row25_col2, #T_609ae_row25_col3, #T_609ae_row25_col4, #T_609ae_row25_col5, #T_609ae_row25_col6, #T_609ae_row25_col7, #T_609ae_row25_col8, #T_609ae_row25_col9, #T_609ae_row25_col10, #T_609ae_row25_col11, #T_609ae_row25_col12, #T_609ae_row25_col13, #T_609ae_row25_col14, #T_609ae_row25_col15, #T_609ae_row25_col16, #T_609ae_row25_col17, #T_609ae_row25_col18, #T_609ae_row25_col19, #T_609ae_row25_col20, #T_609ae_row25_col21, #T_609ae_row25_col22, #T_609ae_row25_col23, #T_609ae_row25_col24, #T_609ae_row25_col25, #T_609ae_row25_col26, #T_609ae_row25_col27, #T_609ae_row26_col0, #T_609ae_row26_col1, #T_609ae_row26_col2, #T_609ae_row26_col3, #T_609ae_row26_col4, #T_609ae_row26_col5, #T_609ae_row26_col6, #T_609ae_row26_col7, #T_609ae_row26_col8, #T_609ae_row26_col9, #T_609ae_row26_col10, #T_609ae_row26_col11, #T_609ae_row26_col12, #T_609ae_row26_col13, #T_609ae_row26_col14, #T_609ae_row26_col15, #T_609ae_row26_col16, #T_609ae_row26_col17, #T_609ae_row26_col18, #T_609ae_row26_col19, #T_609ae_row26_col20, #T_609ae_row26_col21, #T_609ae_row26_col22, #T_609ae_row26_col23, #T_609ae_row26_col24, #T_609ae_row26_col25, #T_609ae_row26_col26, #T_609ae_row26_col27, #T_609ae_row27_col0, #T_609ae_row27_col1, #T_609ae_row27_col2, #T_609ae_row27_col3, #T_609ae_row27_col4, #T_609ae_row27_col5, #T_609ae_row27_col6, #T_609ae_row27_col7, #T_609ae_row27_col8, #T_609ae_row27_col9, #T_609ae_row27_col10, #T_609ae_row27_col11, #T_609ae_row27_col12, #T_609ae_row27_col13, #T_609ae_row27_col14, #T_609ae_row27_col15, #T_609ae_row27_col16, #T_609ae_row27_col17, #T_609ae_row27_col18, #T_609ae_row27_col19, #T_609ae_row27_col20, #T_609ae_row27_col21, #T_609ae_row27_col22, #T_609ae_row27_col23, #T_609ae_row27_col24, #T_609ae_row27_col25, #T_609ae_row27_col26, #T_609ae_row27_col27 {\n",
              "  font-size: 6pt;\n",
              "  background-color: #f7fbff;\n",
              "  color: #000000;\n",
              "}\n",
              "#T_609ae_row5_col9 {\n",
              "  font-size: 6pt;\n",
              "  background-color: #e0ecf8;\n",
              "  color: #000000;\n",
              "}\n",
              "#T_609ae_row5_col10, #T_609ae_row5_col17 {\n",
              "  font-size: 6pt;\n",
              "  background-color: #4d99ca;\n",
              "  color: #f1f1f1;\n",
              "}\n",
              "#T_609ae_row5_col11 {\n",
              "  font-size: 6pt;\n",
              "  background-color: #1c6bb0;\n",
              "  color: #f1f1f1;\n",
              "}\n",
              "#T_609ae_row5_col12, #T_609ae_row5_col13, #T_609ae_row5_col14, #T_609ae_row6_col10, #T_609ae_row6_col11, #T_609ae_row6_col15, #T_609ae_row6_col16, #T_609ae_row6_col17, #T_609ae_row7_col8, #T_609ae_row7_col16, #T_609ae_row7_col17, #T_609ae_row8_col5, #T_609ae_row8_col6, #T_609ae_row8_col7, #T_609ae_row8_col16, #T_609ae_row8_col17, #T_609ae_row9_col16, #T_609ae_row10_col15, #T_609ae_row13_col15, #T_609ae_row14_col15, #T_609ae_row14_col16, #T_609ae_row14_col17, #T_609ae_row14_col18, #T_609ae_row15_col17, #T_609ae_row15_col18, #T_609ae_row15_col19, #T_609ae_row16_col18, #T_609ae_row16_col19, #T_609ae_row16_col20, #T_609ae_row17_col18, #T_609ae_row17_col19, #T_609ae_row18_col18, #T_609ae_row18_col19, #T_609ae_row19_col17, #T_609ae_row19_col18, #T_609ae_row20_col16, #T_609ae_row20_col17, #T_609ae_row21_col15, #T_609ae_row21_col16, #T_609ae_row23_col7, #T_609ae_row23_col8, #T_609ae_row23_col9, #T_609ae_row23_col10, #T_609ae_row23_col11, #T_609ae_row24_col7, #T_609ae_row24_col8, #T_609ae_row24_col9, #T_609ae_row24_col10, #T_609ae_row24_col11 {\n",
              "  font-size: 6pt;\n",
              "  background-color: #08306b;\n",
              "  color: #f1f1f1;\n",
              "}\n",
              "#T_609ae_row5_col15 {\n",
              "  font-size: 6pt;\n",
              "  background-color: #2f7fbc;\n",
              "  color: #f1f1f1;\n",
              "}\n",
              "#T_609ae_row5_col16 {\n",
              "  font-size: 6pt;\n",
              "  background-color: #1e6db2;\n",
              "  color: #f1f1f1;\n",
              "}\n",
              "#T_609ae_row5_col18 {\n",
              "  font-size: 6pt;\n",
              "  background-color: #9cc9e1;\n",
              "  color: #000000;\n",
              "}\n",
              "#T_609ae_row6_col7, #T_609ae_row8_col9 {\n",
              "  font-size: 6pt;\n",
              "  background-color: #d2e3f3;\n",
              "  color: #000000;\n",
              "}\n",
              "#T_609ae_row6_col8, #T_609ae_row12_col10 {\n",
              "  font-size: 6pt;\n",
              "  background-color: #3a8ac2;\n",
              "  color: #f1f1f1;\n",
              "}\n",
              "#T_609ae_row6_col9, #T_609ae_row9_col15 {\n",
              "  font-size: 6pt;\n",
              "  background-color: #084e98;\n",
              "  color: #f1f1f1;\n",
              "}\n",
              "#T_609ae_row6_col12, #T_609ae_row6_col18, #T_609ae_row7_col18, #T_609ae_row21_col17 {\n",
              "  font-size: 6pt;\n",
              "  background-color: #08458a;\n",
              "  color: #f1f1f1;\n",
              "}\n",
              "#T_609ae_row6_col13, #T_609ae_row7_col15 {\n",
              "  font-size: 6pt;\n",
              "  background-color: #1d6cb1;\n",
              "  color: #f1f1f1;\n",
              "}\n",
              "#T_609ae_row6_col14, #T_609ae_row11_col14, #T_609ae_row12_col12, #T_609ae_row12_col14, #T_609ae_row13_col12, #T_609ae_row13_col14, #T_609ae_row22_col14, #T_609ae_row23_col12 {\n",
              "  font-size: 6pt;\n",
              "  background-color: #08316d;\n",
              "  color: #f1f1f1;\n",
              "}\n",
              "#T_609ae_row7_col5 {\n",
              "  font-size: 6pt;\n",
              "  background-color: #09529d;\n",
              "  color: #f1f1f1;\n",
              "}\n",
              "#T_609ae_row7_col6 {\n",
              "  font-size: 6pt;\n",
              "  background-color: #083979;\n",
              "  color: #f1f1f1;\n",
              "}\n",
              "#T_609ae_row7_col7, #T_609ae_row18_col17 {\n",
              "  font-size: 6pt;\n",
              "  background-color: #083471;\n",
              "  color: #f1f1f1;\n",
              "}\n",
              "#T_609ae_row7_col9, #T_609ae_row12_col15, #T_609ae_row14_col19, #T_609ae_row23_col6 {\n",
              "  font-size: 6pt;\n",
              "  background-color: #2373b6;\n",
              "  color: #f1f1f1;\n",
              "}\n",
              "#T_609ae_row7_col10 {\n",
              "  font-size: 6pt;\n",
              "  background-color: #d3e4f3;\n",
              "  color: #000000;\n",
              "}\n",
              "#T_609ae_row7_col11, #T_609ae_row7_col14 {\n",
              "  font-size: 6pt;\n",
              "  background-color: #eff6fc;\n",
              "  color: #000000;\n",
              "}\n",
              "#T_609ae_row7_col12 {\n",
              "  font-size: 6pt;\n",
              "  background-color: #f1f7fd;\n",
              "  color: #000000;\n",
              "}\n",
              "#T_609ae_row7_col13 {\n",
              "  font-size: 6pt;\n",
              "  background-color: #f4f9fe;\n",
              "  color: #000000;\n",
              "}\n",
              "#T_609ae_row8_col8 {\n",
              "  font-size: 6pt;\n",
              "  background-color: #08488e;\n",
              "  color: #f1f1f1;\n",
              "}\n",
              "#T_609ae_row8_col15 {\n",
              "  font-size: 6pt;\n",
              "  background-color: #1f6eb3;\n",
              "  color: #f1f1f1;\n",
              "}\n",
              "#T_609ae_row8_col18 {\n",
              "  font-size: 6pt;\n",
              "  background-color: #4594c7;\n",
              "  color: #f1f1f1;\n",
              "}\n",
              "#T_609ae_row9_col5 {\n",
              "  font-size: 6pt;\n",
              "  background-color: #f2f7fd;\n",
              "  color: #000000;\n",
              "}\n",
              "#T_609ae_row9_col6, #T_609ae_row9_col7, #T_609ae_row19_col20 {\n",
              "  font-size: 6pt;\n",
              "  background-color: #e7f1fa;\n",
              "  color: #000000;\n",
              "}\n",
              "#T_609ae_row9_col8 {\n",
              "  font-size: 6pt;\n",
              "  background-color: #ebf3fb;\n",
              "  color: #000000;\n",
              "}\n",
              "#T_609ae_row9_col14, #T_609ae_row14_col11 {\n",
              "  font-size: 6pt;\n",
              "  background-color: #d6e5f4;\n",
              "  color: #000000;\n",
              "}\n",
              "#T_609ae_row9_col17, #T_609ae_row10_col16 {\n",
              "  font-size: 6pt;\n",
              "  background-color: #083877;\n",
              "  color: #f1f1f1;\n",
              "}\n",
              "#T_609ae_row9_col18 {\n",
              "  font-size: 6pt;\n",
              "  background-color: #b9d6ea;\n",
              "  color: #000000;\n",
              "}\n",
              "#T_609ae_row10_col14, #T_609ae_row11_col15, #T_609ae_row13_col10 {\n",
              "  font-size: 6pt;\n",
              "  background-color: #083573;\n",
              "  color: #f1f1f1;\n",
              "}\n",
              "#T_609ae_row10_col17 {\n",
              "  font-size: 6pt;\n",
              "  background-color: #6caed6;\n",
              "  color: #f1f1f1;\n",
              "}\n",
              "#T_609ae_row11_col11 {\n",
              "  font-size: 6pt;\n",
              "  background-color: #ecf4fb;\n",
              "  color: #000000;\n",
              "}\n",
              "#T_609ae_row11_col12 {\n",
              "  font-size: 6pt;\n",
              "  background-color: #95c5df;\n",
              "  color: #000000;\n",
              "}\n",
              "#T_609ae_row11_col13 {\n",
              "  font-size: 6pt;\n",
              "  background-color: #08519c;\n",
              "  color: #f1f1f1;\n",
              "}\n",
              "#T_609ae_row11_col16 {\n",
              "  font-size: 6pt;\n",
              "  background-color: #6fb0d7;\n",
              "  color: #f1f1f1;\n",
              "}\n",
              "#T_609ae_row12_col9 {\n",
              "  font-size: 6pt;\n",
              "  background-color: #eef5fc;\n",
              "  color: #000000;\n",
              "}\n",
              "#T_609ae_row12_col11, #T_609ae_row22_col12 {\n",
              "  font-size: 6pt;\n",
              "  background-color: #083e81;\n",
              "  color: #f1f1f1;\n",
              "}\n",
              "#T_609ae_row12_col13, #T_609ae_row13_col13, #T_609ae_row21_col14, #T_609ae_row22_col13, #T_609ae_row23_col13 {\n",
              "  font-size: 6pt;\n",
              "  background-color: #08326e;\n",
              "  color: #f1f1f1;\n",
              "}\n",
              "#T_609ae_row12_col16 {\n",
              "  font-size: 6pt;\n",
              "  background-color: #dfecf7;\n",
              "  color: #000000;\n",
              "}\n",
              "#T_609ae_row13_col9 {\n",
              "  font-size: 6pt;\n",
              "  background-color: #eaf3fb;\n",
              "  color: #000000;\n",
              "}\n",
              "#T_609ae_row13_col11, #T_609ae_row22_col15 {\n",
              "  font-size: 6pt;\n",
              "  background-color: #083370;\n",
              "  color: #f1f1f1;\n",
              "}\n",
              "#T_609ae_row13_col16 {\n",
              "  font-size: 6pt;\n",
              "  background-color: #08468b;\n",
              "  color: #f1f1f1;\n",
              "}\n",
              "#T_609ae_row13_col17 {\n",
              "  font-size: 6pt;\n",
              "  background-color: #0e59a2;\n",
              "  color: #f1f1f1;\n",
              "}\n",
              "#T_609ae_row13_col18 {\n",
              "  font-size: 6pt;\n",
              "  background-color: #84bcdb;\n",
              "  color: #000000;\n",
              "}\n",
              "#T_609ae_row13_col19 {\n",
              "  font-size: 6pt;\n",
              "  background-color: #f5fafe;\n",
              "  color: #000000;\n",
              "}\n",
              "#T_609ae_row14_col12, #T_609ae_row14_col13, #T_609ae_row20_col14 {\n",
              "  font-size: 6pt;\n",
              "  background-color: #9ac8e0;\n",
              "  color: #000000;\n",
              "}\n",
              "#T_609ae_row14_col14 {\n",
              "  font-size: 6pt;\n",
              "  background-color: #135fa7;\n",
              "  color: #f1f1f1;\n",
              "}\n",
              "#T_609ae_row14_col20 {\n",
              "  font-size: 6pt;\n",
              "  background-color: #d8e7f5;\n",
              "  color: #000000;\n",
              "}\n",
              "#T_609ae_row15_col14, #T_609ae_row20_col19 {\n",
              "  font-size: 6pt;\n",
              "  background-color: #f0f6fd;\n",
              "  color: #000000;\n",
              "}\n",
              "#T_609ae_row15_col15 {\n",
              "  font-size: 6pt;\n",
              "  background-color: #d0e1f2;\n",
              "  color: #000000;\n",
              "}\n",
              "#T_609ae_row15_col16 {\n",
              "  font-size: 6pt;\n",
              "  background-color: #77b5d9;\n",
              "  color: #000000;\n",
              "}\n",
              "#T_609ae_row15_col20 {\n",
              "  font-size: 6pt;\n",
              "  background-color: #5ca4d0;\n",
              "  color: #f1f1f1;\n",
              "}\n",
              "#T_609ae_row16_col16, #T_609ae_row24_col14 {\n",
              "  font-size: 6pt;\n",
              "  background-color: #f6faff;\n",
              "  color: #000000;\n",
              "}\n",
              "#T_609ae_row16_col17 {\n",
              "  font-size: 6pt;\n",
              "  background-color: #2777b8;\n",
              "  color: #f1f1f1;\n",
              "}\n",
              "#T_609ae_row17_col17 {\n",
              "  font-size: 6pt;\n",
              "  background-color: #2979b9;\n",
              "  color: #f1f1f1;\n",
              "}\n",
              "#T_609ae_row17_col20 {\n",
              "  font-size: 6pt;\n",
              "  background-color: #2171b5;\n",
              "  color: #f1f1f1;\n",
              "}\n",
              "#T_609ae_row18_col16 {\n",
              "  font-size: 6pt;\n",
              "  background-color: #aacfe5;\n",
              "  color: #000000;\n",
              "}\n",
              "#T_609ae_row18_col20 {\n",
              "  font-size: 6pt;\n",
              "  background-color: #c3daee;\n",
              "  color: #000000;\n",
              "}\n",
              "#T_609ae_row19_col15, #T_609ae_row22_col9 {\n",
              "  font-size: 6pt;\n",
              "  background-color: #c9ddf0;\n",
              "  color: #000000;\n",
              "}\n",
              "#T_609ae_row19_col16 {\n",
              "  font-size: 6pt;\n",
              "  background-color: #0e58a2;\n",
              "  color: #f1f1f1;\n",
              "}\n",
              "#T_609ae_row19_col19 {\n",
              "  font-size: 6pt;\n",
              "  background-color: #3282be;\n",
              "  color: #f1f1f1;\n",
              "}\n",
              "#T_609ae_row20_col15 {\n",
              "  font-size: 6pt;\n",
              "  background-color: #083674;\n",
              "  color: #f1f1f1;\n",
              "}\n",
              "#T_609ae_row20_col18 {\n",
              "  font-size: 6pt;\n",
              "  background-color: #084c95;\n",
              "  color: #f1f1f1;\n",
              "}\n",
              "#T_609ae_row21_col12, #T_609ae_row22_col6, #T_609ae_row22_col8 {\n",
              "  font-size: 6pt;\n",
              "  background-color: #d6e6f4;\n",
              "  color: #000000;\n",
              "}\n",
              "#T_609ae_row21_col13 {\n",
              "  font-size: 6pt;\n",
              "  background-color: #4e9acb;\n",
              "  color: #f1f1f1;\n",
              "}\n",
              "#T_609ae_row21_col18 {\n",
              "  font-size: 6pt;\n",
              "  background-color: #cee0f2;\n",
              "  color: #000000;\n",
              "}\n",
              "#T_609ae_row22_col7, #T_609ae_row22_col10 {\n",
              "  font-size: 6pt;\n",
              "  background-color: #7db8da;\n",
              "  color: #000000;\n",
              "}\n",
              "#T_609ae_row22_col11 {\n",
              "  font-size: 6pt;\n",
              "  background-color: #4191c6;\n",
              "  color: #f1f1f1;\n",
              "}\n",
              "#T_609ae_row22_col16 {\n",
              "  font-size: 6pt;\n",
              "  background-color: #3080bd;\n",
              "  color: #f1f1f1;\n",
              "}\n",
              "#T_609ae_row22_col17 {\n",
              "  font-size: 6pt;\n",
              "  background-color: #e3eef9;\n",
              "  color: #000000;\n",
              "}\n",
              "#T_609ae_row23_col14 {\n",
              "  font-size: 6pt;\n",
              "  background-color: #1c6ab0;\n",
              "  color: #f1f1f1;\n",
              "}\n",
              "#T_609ae_row23_col15 {\n",
              "  font-size: 6pt;\n",
              "  background-color: #a9cfe5;\n",
              "  color: #000000;\n",
              "}\n",
              "#T_609ae_row24_col6 {\n",
              "  font-size: 6pt;\n",
              "  background-color: #91c3de;\n",
              "  color: #000000;\n",
              "}\n",
              "#T_609ae_row24_col12 {\n",
              "  font-size: 6pt;\n",
              "  background-color: #08478d;\n",
              "  color: #f1f1f1;\n",
              "}\n",
              "#T_609ae_row24_col13 {\n",
              "  font-size: 6pt;\n",
              "  background-color: #c2d9ee;\n",
              "  color: #000000;\n",
              "}\n",
              "</style>\n",
              "<table id=\"T_609ae\" class=\"dataframe\">\n",
              "  <thead>\n",
              "    <tr>\n",
              "      <th class=\"blank level0\" >&nbsp;</th>\n",
              "      <th id=\"T_609ae_level0_col0\" class=\"col_heading level0 col0\" >0</th>\n",
              "      <th id=\"T_609ae_level0_col1\" class=\"col_heading level0 col1\" >1</th>\n",
              "      <th id=\"T_609ae_level0_col2\" class=\"col_heading level0 col2\" >2</th>\n",
              "      <th id=\"T_609ae_level0_col3\" class=\"col_heading level0 col3\" >3</th>\n",
              "      <th id=\"T_609ae_level0_col4\" class=\"col_heading level0 col4\" >4</th>\n",
              "      <th id=\"T_609ae_level0_col5\" class=\"col_heading level0 col5\" >5</th>\n",
              "      <th id=\"T_609ae_level0_col6\" class=\"col_heading level0 col6\" >6</th>\n",
              "      <th id=\"T_609ae_level0_col7\" class=\"col_heading level0 col7\" >7</th>\n",
              "      <th id=\"T_609ae_level0_col8\" class=\"col_heading level0 col8\" >8</th>\n",
              "      <th id=\"T_609ae_level0_col9\" class=\"col_heading level0 col9\" >9</th>\n",
              "      <th id=\"T_609ae_level0_col10\" class=\"col_heading level0 col10\" >10</th>\n",
              "      <th id=\"T_609ae_level0_col11\" class=\"col_heading level0 col11\" >11</th>\n",
              "      <th id=\"T_609ae_level0_col12\" class=\"col_heading level0 col12\" >12</th>\n",
              "      <th id=\"T_609ae_level0_col13\" class=\"col_heading level0 col13\" >13</th>\n",
              "      <th id=\"T_609ae_level0_col14\" class=\"col_heading level0 col14\" >14</th>\n",
              "      <th id=\"T_609ae_level0_col15\" class=\"col_heading level0 col15\" >15</th>\n",
              "      <th id=\"T_609ae_level0_col16\" class=\"col_heading level0 col16\" >16</th>\n",
              "      <th id=\"T_609ae_level0_col17\" class=\"col_heading level0 col17\" >17</th>\n",
              "      <th id=\"T_609ae_level0_col18\" class=\"col_heading level0 col18\" >18</th>\n",
              "      <th id=\"T_609ae_level0_col19\" class=\"col_heading level0 col19\" >19</th>\n",
              "      <th id=\"T_609ae_level0_col20\" class=\"col_heading level0 col20\" >20</th>\n",
              "      <th id=\"T_609ae_level0_col21\" class=\"col_heading level0 col21\" >21</th>\n",
              "      <th id=\"T_609ae_level0_col22\" class=\"col_heading level0 col22\" >22</th>\n",
              "      <th id=\"T_609ae_level0_col23\" class=\"col_heading level0 col23\" >23</th>\n",
              "      <th id=\"T_609ae_level0_col24\" class=\"col_heading level0 col24\" >24</th>\n",
              "      <th id=\"T_609ae_level0_col25\" class=\"col_heading level0 col25\" >25</th>\n",
              "      <th id=\"T_609ae_level0_col26\" class=\"col_heading level0 col26\" >26</th>\n",
              "      <th id=\"T_609ae_level0_col27\" class=\"col_heading level0 col27\" >27</th>\n",
              "    </tr>\n",
              "  </thead>\n",
              "  <tbody>\n",
              "    <tr>\n",
              "      <th id=\"T_609ae_level0_row0\" class=\"row_heading level0 row0\" >0</th>\n",
              "      <td id=\"T_609ae_row0_col0\" class=\"data row0 col0\" >0</td>\n",
              "      <td id=\"T_609ae_row0_col1\" class=\"data row0 col1\" >0</td>\n",
              "      <td id=\"T_609ae_row0_col2\" class=\"data row0 col2\" >0</td>\n",
              "      <td id=\"T_609ae_row0_col3\" class=\"data row0 col3\" >0</td>\n",
              "      <td id=\"T_609ae_row0_col4\" class=\"data row0 col4\" >0</td>\n",
              "      <td id=\"T_609ae_row0_col5\" class=\"data row0 col5\" >0</td>\n",
              "      <td id=\"T_609ae_row0_col6\" class=\"data row0 col6\" >0</td>\n",
              "      <td id=\"T_609ae_row0_col7\" class=\"data row0 col7\" >0</td>\n",
              "      <td id=\"T_609ae_row0_col8\" class=\"data row0 col8\" >0</td>\n",
              "      <td id=\"T_609ae_row0_col9\" class=\"data row0 col9\" >0</td>\n",
              "      <td id=\"T_609ae_row0_col10\" class=\"data row0 col10\" >0</td>\n",
              "      <td id=\"T_609ae_row0_col11\" class=\"data row0 col11\" >0</td>\n",
              "      <td id=\"T_609ae_row0_col12\" class=\"data row0 col12\" >0</td>\n",
              "      <td id=\"T_609ae_row0_col13\" class=\"data row0 col13\" >0</td>\n",
              "      <td id=\"T_609ae_row0_col14\" class=\"data row0 col14\" >0</td>\n",
              "      <td id=\"T_609ae_row0_col15\" class=\"data row0 col15\" >0</td>\n",
              "      <td id=\"T_609ae_row0_col16\" class=\"data row0 col16\" >0</td>\n",
              "      <td id=\"T_609ae_row0_col17\" class=\"data row0 col17\" >0</td>\n",
              "      <td id=\"T_609ae_row0_col18\" class=\"data row0 col18\" >0</td>\n",
              "      <td id=\"T_609ae_row0_col19\" class=\"data row0 col19\" >0</td>\n",
              "      <td id=\"T_609ae_row0_col20\" class=\"data row0 col20\" >0</td>\n",
              "      <td id=\"T_609ae_row0_col21\" class=\"data row0 col21\" >0</td>\n",
              "      <td id=\"T_609ae_row0_col22\" class=\"data row0 col22\" >0</td>\n",
              "      <td id=\"T_609ae_row0_col23\" class=\"data row0 col23\" >0</td>\n",
              "      <td id=\"T_609ae_row0_col24\" class=\"data row0 col24\" >0</td>\n",
              "      <td id=\"T_609ae_row0_col25\" class=\"data row0 col25\" >0</td>\n",
              "      <td id=\"T_609ae_row0_col26\" class=\"data row0 col26\" >0</td>\n",
              "      <td id=\"T_609ae_row0_col27\" class=\"data row0 col27\" >0</td>\n",
              "    </tr>\n",
              "    <tr>\n",
              "      <th id=\"T_609ae_level0_row1\" class=\"row_heading level0 row1\" >1</th>\n",
              "      <td id=\"T_609ae_row1_col0\" class=\"data row1 col0\" >0</td>\n",
              "      <td id=\"T_609ae_row1_col1\" class=\"data row1 col1\" >0</td>\n",
              "      <td id=\"T_609ae_row1_col2\" class=\"data row1 col2\" >0</td>\n",
              "      <td id=\"T_609ae_row1_col3\" class=\"data row1 col3\" >0</td>\n",
              "      <td id=\"T_609ae_row1_col4\" class=\"data row1 col4\" >0</td>\n",
              "      <td id=\"T_609ae_row1_col5\" class=\"data row1 col5\" >0</td>\n",
              "      <td id=\"T_609ae_row1_col6\" class=\"data row1 col6\" >0</td>\n",
              "      <td id=\"T_609ae_row1_col7\" class=\"data row1 col7\" >0</td>\n",
              "      <td id=\"T_609ae_row1_col8\" class=\"data row1 col8\" >0</td>\n",
              "      <td id=\"T_609ae_row1_col9\" class=\"data row1 col9\" >0</td>\n",
              "      <td id=\"T_609ae_row1_col10\" class=\"data row1 col10\" >0</td>\n",
              "      <td id=\"T_609ae_row1_col11\" class=\"data row1 col11\" >0</td>\n",
              "      <td id=\"T_609ae_row1_col12\" class=\"data row1 col12\" >0</td>\n",
              "      <td id=\"T_609ae_row1_col13\" class=\"data row1 col13\" >0</td>\n",
              "      <td id=\"T_609ae_row1_col14\" class=\"data row1 col14\" >0</td>\n",
              "      <td id=\"T_609ae_row1_col15\" class=\"data row1 col15\" >0</td>\n",
              "      <td id=\"T_609ae_row1_col16\" class=\"data row1 col16\" >0</td>\n",
              "      <td id=\"T_609ae_row1_col17\" class=\"data row1 col17\" >0</td>\n",
              "      <td id=\"T_609ae_row1_col18\" class=\"data row1 col18\" >0</td>\n",
              "      <td id=\"T_609ae_row1_col19\" class=\"data row1 col19\" >0</td>\n",
              "      <td id=\"T_609ae_row1_col20\" class=\"data row1 col20\" >0</td>\n",
              "      <td id=\"T_609ae_row1_col21\" class=\"data row1 col21\" >0</td>\n",
              "      <td id=\"T_609ae_row1_col22\" class=\"data row1 col22\" >0</td>\n",
              "      <td id=\"T_609ae_row1_col23\" class=\"data row1 col23\" >0</td>\n",
              "      <td id=\"T_609ae_row1_col24\" class=\"data row1 col24\" >0</td>\n",
              "      <td id=\"T_609ae_row1_col25\" class=\"data row1 col25\" >0</td>\n",
              "      <td id=\"T_609ae_row1_col26\" class=\"data row1 col26\" >0</td>\n",
              "      <td id=\"T_609ae_row1_col27\" class=\"data row1 col27\" >0</td>\n",
              "    </tr>\n",
              "    <tr>\n",
              "      <th id=\"T_609ae_level0_row2\" class=\"row_heading level0 row2\" >2</th>\n",
              "      <td id=\"T_609ae_row2_col0\" class=\"data row2 col0\" >0</td>\n",
              "      <td id=\"T_609ae_row2_col1\" class=\"data row2 col1\" >0</td>\n",
              "      <td id=\"T_609ae_row2_col2\" class=\"data row2 col2\" >0</td>\n",
              "      <td id=\"T_609ae_row2_col3\" class=\"data row2 col3\" >0</td>\n",
              "      <td id=\"T_609ae_row2_col4\" class=\"data row2 col4\" >0</td>\n",
              "      <td id=\"T_609ae_row2_col5\" class=\"data row2 col5\" >0</td>\n",
              "      <td id=\"T_609ae_row2_col6\" class=\"data row2 col6\" >0</td>\n",
              "      <td id=\"T_609ae_row2_col7\" class=\"data row2 col7\" >0</td>\n",
              "      <td id=\"T_609ae_row2_col8\" class=\"data row2 col8\" >0</td>\n",
              "      <td id=\"T_609ae_row2_col9\" class=\"data row2 col9\" >0</td>\n",
              "      <td id=\"T_609ae_row2_col10\" class=\"data row2 col10\" >0</td>\n",
              "      <td id=\"T_609ae_row2_col11\" class=\"data row2 col11\" >0</td>\n",
              "      <td id=\"T_609ae_row2_col12\" class=\"data row2 col12\" >0</td>\n",
              "      <td id=\"T_609ae_row2_col13\" class=\"data row2 col13\" >0</td>\n",
              "      <td id=\"T_609ae_row2_col14\" class=\"data row2 col14\" >0</td>\n",
              "      <td id=\"T_609ae_row2_col15\" class=\"data row2 col15\" >0</td>\n",
              "      <td id=\"T_609ae_row2_col16\" class=\"data row2 col16\" >0</td>\n",
              "      <td id=\"T_609ae_row2_col17\" class=\"data row2 col17\" >0</td>\n",
              "      <td id=\"T_609ae_row2_col18\" class=\"data row2 col18\" >0</td>\n",
              "      <td id=\"T_609ae_row2_col19\" class=\"data row2 col19\" >0</td>\n",
              "      <td id=\"T_609ae_row2_col20\" class=\"data row2 col20\" >0</td>\n",
              "      <td id=\"T_609ae_row2_col21\" class=\"data row2 col21\" >0</td>\n",
              "      <td id=\"T_609ae_row2_col22\" class=\"data row2 col22\" >0</td>\n",
              "      <td id=\"T_609ae_row2_col23\" class=\"data row2 col23\" >0</td>\n",
              "      <td id=\"T_609ae_row2_col24\" class=\"data row2 col24\" >0</td>\n",
              "      <td id=\"T_609ae_row2_col25\" class=\"data row2 col25\" >0</td>\n",
              "      <td id=\"T_609ae_row2_col26\" class=\"data row2 col26\" >0</td>\n",
              "      <td id=\"T_609ae_row2_col27\" class=\"data row2 col27\" >0</td>\n",
              "    </tr>\n",
              "    <tr>\n",
              "      <th id=\"T_609ae_level0_row3\" class=\"row_heading level0 row3\" >3</th>\n",
              "      <td id=\"T_609ae_row3_col0\" class=\"data row3 col0\" >0</td>\n",
              "      <td id=\"T_609ae_row3_col1\" class=\"data row3 col1\" >0</td>\n",
              "      <td id=\"T_609ae_row3_col2\" class=\"data row3 col2\" >0</td>\n",
              "      <td id=\"T_609ae_row3_col3\" class=\"data row3 col3\" >0</td>\n",
              "      <td id=\"T_609ae_row3_col4\" class=\"data row3 col4\" >0</td>\n",
              "      <td id=\"T_609ae_row3_col5\" class=\"data row3 col5\" >0</td>\n",
              "      <td id=\"T_609ae_row3_col6\" class=\"data row3 col6\" >0</td>\n",
              "      <td id=\"T_609ae_row3_col7\" class=\"data row3 col7\" >0</td>\n",
              "      <td id=\"T_609ae_row3_col8\" class=\"data row3 col8\" >0</td>\n",
              "      <td id=\"T_609ae_row3_col9\" class=\"data row3 col9\" >0</td>\n",
              "      <td id=\"T_609ae_row3_col10\" class=\"data row3 col10\" >0</td>\n",
              "      <td id=\"T_609ae_row3_col11\" class=\"data row3 col11\" >0</td>\n",
              "      <td id=\"T_609ae_row3_col12\" class=\"data row3 col12\" >0</td>\n",
              "      <td id=\"T_609ae_row3_col13\" class=\"data row3 col13\" >0</td>\n",
              "      <td id=\"T_609ae_row3_col14\" class=\"data row3 col14\" >0</td>\n",
              "      <td id=\"T_609ae_row3_col15\" class=\"data row3 col15\" >0</td>\n",
              "      <td id=\"T_609ae_row3_col16\" class=\"data row3 col16\" >0</td>\n",
              "      <td id=\"T_609ae_row3_col17\" class=\"data row3 col17\" >0</td>\n",
              "      <td id=\"T_609ae_row3_col18\" class=\"data row3 col18\" >0</td>\n",
              "      <td id=\"T_609ae_row3_col19\" class=\"data row3 col19\" >0</td>\n",
              "      <td id=\"T_609ae_row3_col20\" class=\"data row3 col20\" >0</td>\n",
              "      <td id=\"T_609ae_row3_col21\" class=\"data row3 col21\" >0</td>\n",
              "      <td id=\"T_609ae_row3_col22\" class=\"data row3 col22\" >0</td>\n",
              "      <td id=\"T_609ae_row3_col23\" class=\"data row3 col23\" >0</td>\n",
              "      <td id=\"T_609ae_row3_col24\" class=\"data row3 col24\" >0</td>\n",
              "      <td id=\"T_609ae_row3_col25\" class=\"data row3 col25\" >0</td>\n",
              "      <td id=\"T_609ae_row3_col26\" class=\"data row3 col26\" >0</td>\n",
              "      <td id=\"T_609ae_row3_col27\" class=\"data row3 col27\" >0</td>\n",
              "    </tr>\n",
              "    <tr>\n",
              "      <th id=\"T_609ae_level0_row4\" class=\"row_heading level0 row4\" >4</th>\n",
              "      <td id=\"T_609ae_row4_col0\" class=\"data row4 col0\" >0</td>\n",
              "      <td id=\"T_609ae_row4_col1\" class=\"data row4 col1\" >0</td>\n",
              "      <td id=\"T_609ae_row4_col2\" class=\"data row4 col2\" >0</td>\n",
              "      <td id=\"T_609ae_row4_col3\" class=\"data row4 col3\" >0</td>\n",
              "      <td id=\"T_609ae_row4_col4\" class=\"data row4 col4\" >0</td>\n",
              "      <td id=\"T_609ae_row4_col5\" class=\"data row4 col5\" >0</td>\n",
              "      <td id=\"T_609ae_row4_col6\" class=\"data row4 col6\" >0</td>\n",
              "      <td id=\"T_609ae_row4_col7\" class=\"data row4 col7\" >0</td>\n",
              "      <td id=\"T_609ae_row4_col8\" class=\"data row4 col8\" >0</td>\n",
              "      <td id=\"T_609ae_row4_col9\" class=\"data row4 col9\" >0</td>\n",
              "      <td id=\"T_609ae_row4_col10\" class=\"data row4 col10\" >0</td>\n",
              "      <td id=\"T_609ae_row4_col11\" class=\"data row4 col11\" >0</td>\n",
              "      <td id=\"T_609ae_row4_col12\" class=\"data row4 col12\" >0</td>\n",
              "      <td id=\"T_609ae_row4_col13\" class=\"data row4 col13\" >0</td>\n",
              "      <td id=\"T_609ae_row4_col14\" class=\"data row4 col14\" >0</td>\n",
              "      <td id=\"T_609ae_row4_col15\" class=\"data row4 col15\" >0</td>\n",
              "      <td id=\"T_609ae_row4_col16\" class=\"data row4 col16\" >0</td>\n",
              "      <td id=\"T_609ae_row4_col17\" class=\"data row4 col17\" >0</td>\n",
              "      <td id=\"T_609ae_row4_col18\" class=\"data row4 col18\" >0</td>\n",
              "      <td id=\"T_609ae_row4_col19\" class=\"data row4 col19\" >0</td>\n",
              "      <td id=\"T_609ae_row4_col20\" class=\"data row4 col20\" >0</td>\n",
              "      <td id=\"T_609ae_row4_col21\" class=\"data row4 col21\" >0</td>\n",
              "      <td id=\"T_609ae_row4_col22\" class=\"data row4 col22\" >0</td>\n",
              "      <td id=\"T_609ae_row4_col23\" class=\"data row4 col23\" >0</td>\n",
              "      <td id=\"T_609ae_row4_col24\" class=\"data row4 col24\" >0</td>\n",
              "      <td id=\"T_609ae_row4_col25\" class=\"data row4 col25\" >0</td>\n",
              "      <td id=\"T_609ae_row4_col26\" class=\"data row4 col26\" >0</td>\n",
              "      <td id=\"T_609ae_row4_col27\" class=\"data row4 col27\" >0</td>\n",
              "    </tr>\n",
              "    <tr>\n",
              "      <th id=\"T_609ae_level0_row5\" class=\"row_heading level0 row5\" >5</th>\n",
              "      <td id=\"T_609ae_row5_col0\" class=\"data row5 col0\" >0</td>\n",
              "      <td id=\"T_609ae_row5_col1\" class=\"data row5 col1\" >0</td>\n",
              "      <td id=\"T_609ae_row5_col2\" class=\"data row5 col2\" >0</td>\n",
              "      <td id=\"T_609ae_row5_col3\" class=\"data row5 col3\" >0</td>\n",
              "      <td id=\"T_609ae_row5_col4\" class=\"data row5 col4\" >0</td>\n",
              "      <td id=\"T_609ae_row5_col5\" class=\"data row5 col5\" >0</td>\n",
              "      <td id=\"T_609ae_row5_col6\" class=\"data row5 col6\" >0</td>\n",
              "      <td id=\"T_609ae_row5_col7\" class=\"data row5 col7\" >0</td>\n",
              "      <td id=\"T_609ae_row5_col8\" class=\"data row5 col8\" >0</td>\n",
              "      <td id=\"T_609ae_row5_col9\" class=\"data row5 col9\" >29</td>\n",
              "      <td id=\"T_609ae_row5_col10\" class=\"data row5 col10\" >150</td>\n",
              "      <td id=\"T_609ae_row5_col11\" class=\"data row5 col11\" >195</td>\n",
              "      <td id=\"T_609ae_row5_col12\" class=\"data row5 col12\" >254</td>\n",
              "      <td id=\"T_609ae_row5_col13\" class=\"data row5 col13\" >255</td>\n",
              "      <td id=\"T_609ae_row5_col14\" class=\"data row5 col14\" >254</td>\n",
              "      <td id=\"T_609ae_row5_col15\" class=\"data row5 col15\" >176</td>\n",
              "      <td id=\"T_609ae_row5_col16\" class=\"data row5 col16\" >193</td>\n",
              "      <td id=\"T_609ae_row5_col17\" class=\"data row5 col17\" >150</td>\n",
              "      <td id=\"T_609ae_row5_col18\" class=\"data row5 col18\" >96</td>\n",
              "      <td id=\"T_609ae_row5_col19\" class=\"data row5 col19\" >0</td>\n",
              "      <td id=\"T_609ae_row5_col20\" class=\"data row5 col20\" >0</td>\n",
              "      <td id=\"T_609ae_row5_col21\" class=\"data row5 col21\" >0</td>\n",
              "      <td id=\"T_609ae_row5_col22\" class=\"data row5 col22\" >0</td>\n",
              "      <td id=\"T_609ae_row5_col23\" class=\"data row5 col23\" >0</td>\n",
              "      <td id=\"T_609ae_row5_col24\" class=\"data row5 col24\" >0</td>\n",
              "      <td id=\"T_609ae_row5_col25\" class=\"data row5 col25\" >0</td>\n",
              "      <td id=\"T_609ae_row5_col26\" class=\"data row5 col26\" >0</td>\n",
              "      <td id=\"T_609ae_row5_col27\" class=\"data row5 col27\" >0</td>\n",
              "    </tr>\n",
              "    <tr>\n",
              "      <th id=\"T_609ae_level0_row6\" class=\"row_heading level0 row6\" >6</th>\n",
              "      <td id=\"T_609ae_row6_col0\" class=\"data row6 col0\" >0</td>\n",
              "      <td id=\"T_609ae_row6_col1\" class=\"data row6 col1\" >0</td>\n",
              "      <td id=\"T_609ae_row6_col2\" class=\"data row6 col2\" >0</td>\n",
              "      <td id=\"T_609ae_row6_col3\" class=\"data row6 col3\" >0</td>\n",
              "      <td id=\"T_609ae_row6_col4\" class=\"data row6 col4\" >0</td>\n",
              "      <td id=\"T_609ae_row6_col5\" class=\"data row6 col5\" >0</td>\n",
              "      <td id=\"T_609ae_row6_col6\" class=\"data row6 col6\" >0</td>\n",
              "      <td id=\"T_609ae_row6_col7\" class=\"data row6 col7\" >48</td>\n",
              "      <td id=\"T_609ae_row6_col8\" class=\"data row6 col8\" >166</td>\n",
              "      <td id=\"T_609ae_row6_col9\" class=\"data row6 col9\" >224</td>\n",
              "      <td id=\"T_609ae_row6_col10\" class=\"data row6 col10\" >253</td>\n",
              "      <td id=\"T_609ae_row6_col11\" class=\"data row6 col11\" >253</td>\n",
              "      <td id=\"T_609ae_row6_col12\" class=\"data row6 col12\" >234</td>\n",
              "      <td id=\"T_609ae_row6_col13\" class=\"data row6 col13\" >196</td>\n",
              "      <td id=\"T_609ae_row6_col14\" class=\"data row6 col14\" >253</td>\n",
              "      <td id=\"T_609ae_row6_col15\" class=\"data row6 col15\" >253</td>\n",
              "      <td id=\"T_609ae_row6_col16\" class=\"data row6 col16\" >253</td>\n",
              "      <td id=\"T_609ae_row6_col17\" class=\"data row6 col17\" >253</td>\n",
              "      <td id=\"T_609ae_row6_col18\" class=\"data row6 col18\" >233</td>\n",
              "      <td id=\"T_609ae_row6_col19\" class=\"data row6 col19\" >0</td>\n",
              "      <td id=\"T_609ae_row6_col20\" class=\"data row6 col20\" >0</td>\n",
              "      <td id=\"T_609ae_row6_col21\" class=\"data row6 col21\" >0</td>\n",
              "      <td id=\"T_609ae_row6_col22\" class=\"data row6 col22\" >0</td>\n",
              "      <td id=\"T_609ae_row6_col23\" class=\"data row6 col23\" >0</td>\n",
              "      <td id=\"T_609ae_row6_col24\" class=\"data row6 col24\" >0</td>\n",
              "      <td id=\"T_609ae_row6_col25\" class=\"data row6 col25\" >0</td>\n",
              "      <td id=\"T_609ae_row6_col26\" class=\"data row6 col26\" >0</td>\n",
              "      <td id=\"T_609ae_row6_col27\" class=\"data row6 col27\" >0</td>\n",
              "    </tr>\n",
              "    <tr>\n",
              "      <th id=\"T_609ae_level0_row7\" class=\"row_heading level0 row7\" >7</th>\n",
              "      <td id=\"T_609ae_row7_col0\" class=\"data row7 col0\" >0</td>\n",
              "      <td id=\"T_609ae_row7_col1\" class=\"data row7 col1\" >0</td>\n",
              "      <td id=\"T_609ae_row7_col2\" class=\"data row7 col2\" >0</td>\n",
              "      <td id=\"T_609ae_row7_col3\" class=\"data row7 col3\" >0</td>\n",
              "      <td id=\"T_609ae_row7_col4\" class=\"data row7 col4\" >0</td>\n",
              "      <td id=\"T_609ae_row7_col5\" class=\"data row7 col5\" >93</td>\n",
              "      <td id=\"T_609ae_row7_col6\" class=\"data row7 col6\" >244</td>\n",
              "      <td id=\"T_609ae_row7_col7\" class=\"data row7 col7\" >249</td>\n",
              "      <td id=\"T_609ae_row7_col8\" class=\"data row7 col8\" >253</td>\n",
              "      <td id=\"T_609ae_row7_col9\" class=\"data row7 col9\" >187</td>\n",
              "      <td id=\"T_609ae_row7_col10\" class=\"data row7 col10\" >46</td>\n",
              "      <td id=\"T_609ae_row7_col11\" class=\"data row7 col11\" >10</td>\n",
              "      <td id=\"T_609ae_row7_col12\" class=\"data row7 col12\" >8</td>\n",
              "      <td id=\"T_609ae_row7_col13\" class=\"data row7 col13\" >4</td>\n",
              "      <td id=\"T_609ae_row7_col14\" class=\"data row7 col14\" >10</td>\n",
              "      <td id=\"T_609ae_row7_col15\" class=\"data row7 col15\" >194</td>\n",
              "      <td id=\"T_609ae_row7_col16\" class=\"data row7 col16\" >253</td>\n",
              "      <td id=\"T_609ae_row7_col17\" class=\"data row7 col17\" >253</td>\n",
              "      <td id=\"T_609ae_row7_col18\" class=\"data row7 col18\" >233</td>\n",
              "      <td id=\"T_609ae_row7_col19\" class=\"data row7 col19\" >0</td>\n",
              "      <td id=\"T_609ae_row7_col20\" class=\"data row7 col20\" >0</td>\n",
              "      <td id=\"T_609ae_row7_col21\" class=\"data row7 col21\" >0</td>\n",
              "      <td id=\"T_609ae_row7_col22\" class=\"data row7 col22\" >0</td>\n",
              "      <td id=\"T_609ae_row7_col23\" class=\"data row7 col23\" >0</td>\n",
              "      <td id=\"T_609ae_row7_col24\" class=\"data row7 col24\" >0</td>\n",
              "      <td id=\"T_609ae_row7_col25\" class=\"data row7 col25\" >0</td>\n",
              "      <td id=\"T_609ae_row7_col26\" class=\"data row7 col26\" >0</td>\n",
              "      <td id=\"T_609ae_row7_col27\" class=\"data row7 col27\" >0</td>\n",
              "    </tr>\n",
              "    <tr>\n",
              "      <th id=\"T_609ae_level0_row8\" class=\"row_heading level0 row8\" >8</th>\n",
              "      <td id=\"T_609ae_row8_col0\" class=\"data row8 col0\" >0</td>\n",
              "      <td id=\"T_609ae_row8_col1\" class=\"data row8 col1\" >0</td>\n",
              "      <td id=\"T_609ae_row8_col2\" class=\"data row8 col2\" >0</td>\n",
              "      <td id=\"T_609ae_row8_col3\" class=\"data row8 col3\" >0</td>\n",
              "      <td id=\"T_609ae_row8_col4\" class=\"data row8 col4\" >0</td>\n",
              "      <td id=\"T_609ae_row8_col5\" class=\"data row8 col5\" >107</td>\n",
              "      <td id=\"T_609ae_row8_col6\" class=\"data row8 col6\" >253</td>\n",
              "      <td id=\"T_609ae_row8_col7\" class=\"data row8 col7\" >253</td>\n",
              "      <td id=\"T_609ae_row8_col8\" class=\"data row8 col8\" >230</td>\n",
              "      <td id=\"T_609ae_row8_col9\" class=\"data row8 col9\" >48</td>\n",
              "      <td id=\"T_609ae_row8_col10\" class=\"data row8 col10\" >0</td>\n",
              "      <td id=\"T_609ae_row8_col11\" class=\"data row8 col11\" >0</td>\n",
              "      <td id=\"T_609ae_row8_col12\" class=\"data row8 col12\" >0</td>\n",
              "      <td id=\"T_609ae_row8_col13\" class=\"data row8 col13\" >0</td>\n",
              "      <td id=\"T_609ae_row8_col14\" class=\"data row8 col14\" >0</td>\n",
              "      <td id=\"T_609ae_row8_col15\" class=\"data row8 col15\" >192</td>\n",
              "      <td id=\"T_609ae_row8_col16\" class=\"data row8 col16\" >253</td>\n",
              "      <td id=\"T_609ae_row8_col17\" class=\"data row8 col17\" >253</td>\n",
              "      <td id=\"T_609ae_row8_col18\" class=\"data row8 col18\" >156</td>\n",
              "      <td id=\"T_609ae_row8_col19\" class=\"data row8 col19\" >0</td>\n",
              "      <td id=\"T_609ae_row8_col20\" class=\"data row8 col20\" >0</td>\n",
              "      <td id=\"T_609ae_row8_col21\" class=\"data row8 col21\" >0</td>\n",
              "      <td id=\"T_609ae_row8_col22\" class=\"data row8 col22\" >0</td>\n",
              "      <td id=\"T_609ae_row8_col23\" class=\"data row8 col23\" >0</td>\n",
              "      <td id=\"T_609ae_row8_col24\" class=\"data row8 col24\" >0</td>\n",
              "      <td id=\"T_609ae_row8_col25\" class=\"data row8 col25\" >0</td>\n",
              "      <td id=\"T_609ae_row8_col26\" class=\"data row8 col26\" >0</td>\n",
              "      <td id=\"T_609ae_row8_col27\" class=\"data row8 col27\" >0</td>\n",
              "    </tr>\n",
              "    <tr>\n",
              "      <th id=\"T_609ae_level0_row9\" class=\"row_heading level0 row9\" >9</th>\n",
              "      <td id=\"T_609ae_row9_col0\" class=\"data row9 col0\" >0</td>\n",
              "      <td id=\"T_609ae_row9_col1\" class=\"data row9 col1\" >0</td>\n",
              "      <td id=\"T_609ae_row9_col2\" class=\"data row9 col2\" >0</td>\n",
              "      <td id=\"T_609ae_row9_col3\" class=\"data row9 col3\" >0</td>\n",
              "      <td id=\"T_609ae_row9_col4\" class=\"data row9 col4\" >0</td>\n",
              "      <td id=\"T_609ae_row9_col5\" class=\"data row9 col5\" >3</td>\n",
              "      <td id=\"T_609ae_row9_col6\" class=\"data row9 col6\" >20</td>\n",
              "      <td id=\"T_609ae_row9_col7\" class=\"data row9 col7\" >20</td>\n",
              "      <td id=\"T_609ae_row9_col8\" class=\"data row9 col8\" >15</td>\n",
              "      <td id=\"T_609ae_row9_col9\" class=\"data row9 col9\" >0</td>\n",
              "      <td id=\"T_609ae_row9_col10\" class=\"data row9 col10\" >0</td>\n",
              "      <td id=\"T_609ae_row9_col11\" class=\"data row9 col11\" >0</td>\n",
              "      <td id=\"T_609ae_row9_col12\" class=\"data row9 col12\" >0</td>\n",
              "      <td id=\"T_609ae_row9_col13\" class=\"data row9 col13\" >0</td>\n",
              "      <td id=\"T_609ae_row9_col14\" class=\"data row9 col14\" >43</td>\n",
              "      <td id=\"T_609ae_row9_col15\" class=\"data row9 col15\" >224</td>\n",
              "      <td id=\"T_609ae_row9_col16\" class=\"data row9 col16\" >253</td>\n",
              "      <td id=\"T_609ae_row9_col17\" class=\"data row9 col17\" >245</td>\n",
              "      <td id=\"T_609ae_row9_col18\" class=\"data row9 col18\" >74</td>\n",
              "      <td id=\"T_609ae_row9_col19\" class=\"data row9 col19\" >0</td>\n",
              "      <td id=\"T_609ae_row9_col20\" class=\"data row9 col20\" >0</td>\n",
              "      <td id=\"T_609ae_row9_col21\" class=\"data row9 col21\" >0</td>\n",
              "      <td id=\"T_609ae_row9_col22\" class=\"data row9 col22\" >0</td>\n",
              "      <td id=\"T_609ae_row9_col23\" class=\"data row9 col23\" >0</td>\n",
              "      <td id=\"T_609ae_row9_col24\" class=\"data row9 col24\" >0</td>\n",
              "      <td id=\"T_609ae_row9_col25\" class=\"data row9 col25\" >0</td>\n",
              "      <td id=\"T_609ae_row9_col26\" class=\"data row9 col26\" >0</td>\n",
              "      <td id=\"T_609ae_row9_col27\" class=\"data row9 col27\" >0</td>\n",
              "    </tr>\n",
              "    <tr>\n",
              "      <th id=\"T_609ae_level0_row10\" class=\"row_heading level0 row10\" >10</th>\n",
              "      <td id=\"T_609ae_row10_col0\" class=\"data row10 col0\" >0</td>\n",
              "      <td id=\"T_609ae_row10_col1\" class=\"data row10 col1\" >0</td>\n",
              "      <td id=\"T_609ae_row10_col2\" class=\"data row10 col2\" >0</td>\n",
              "      <td id=\"T_609ae_row10_col3\" class=\"data row10 col3\" >0</td>\n",
              "      <td id=\"T_609ae_row10_col4\" class=\"data row10 col4\" >0</td>\n",
              "      <td id=\"T_609ae_row10_col5\" class=\"data row10 col5\" >0</td>\n",
              "      <td id=\"T_609ae_row10_col6\" class=\"data row10 col6\" >0</td>\n",
              "      <td id=\"T_609ae_row10_col7\" class=\"data row10 col7\" >0</td>\n",
              "      <td id=\"T_609ae_row10_col8\" class=\"data row10 col8\" >0</td>\n",
              "      <td id=\"T_609ae_row10_col9\" class=\"data row10 col9\" >0</td>\n",
              "      <td id=\"T_609ae_row10_col10\" class=\"data row10 col10\" >0</td>\n",
              "      <td id=\"T_609ae_row10_col11\" class=\"data row10 col11\" >0</td>\n",
              "      <td id=\"T_609ae_row10_col12\" class=\"data row10 col12\" >0</td>\n",
              "      <td id=\"T_609ae_row10_col13\" class=\"data row10 col13\" >0</td>\n",
              "      <td id=\"T_609ae_row10_col14\" class=\"data row10 col14\" >249</td>\n",
              "      <td id=\"T_609ae_row10_col15\" class=\"data row10 col15\" >253</td>\n",
              "      <td id=\"T_609ae_row10_col16\" class=\"data row10 col16\" >245</td>\n",
              "      <td id=\"T_609ae_row10_col17\" class=\"data row10 col17\" >126</td>\n",
              "      <td id=\"T_609ae_row10_col18\" class=\"data row10 col18\" >0</td>\n",
              "      <td id=\"T_609ae_row10_col19\" class=\"data row10 col19\" >0</td>\n",
              "      <td id=\"T_609ae_row10_col20\" class=\"data row10 col20\" >0</td>\n",
              "      <td id=\"T_609ae_row10_col21\" class=\"data row10 col21\" >0</td>\n",
              "      <td id=\"T_609ae_row10_col22\" class=\"data row10 col22\" >0</td>\n",
              "      <td id=\"T_609ae_row10_col23\" class=\"data row10 col23\" >0</td>\n",
              "      <td id=\"T_609ae_row10_col24\" class=\"data row10 col24\" >0</td>\n",
              "      <td id=\"T_609ae_row10_col25\" class=\"data row10 col25\" >0</td>\n",
              "      <td id=\"T_609ae_row10_col26\" class=\"data row10 col26\" >0</td>\n",
              "      <td id=\"T_609ae_row10_col27\" class=\"data row10 col27\" >0</td>\n",
              "    </tr>\n",
              "    <tr>\n",
              "      <th id=\"T_609ae_level0_row11\" class=\"row_heading level0 row11\" >11</th>\n",
              "      <td id=\"T_609ae_row11_col0\" class=\"data row11 col0\" >0</td>\n",
              "      <td id=\"T_609ae_row11_col1\" class=\"data row11 col1\" >0</td>\n",
              "      <td id=\"T_609ae_row11_col2\" class=\"data row11 col2\" >0</td>\n",
              "      <td id=\"T_609ae_row11_col3\" class=\"data row11 col3\" >0</td>\n",
              "      <td id=\"T_609ae_row11_col4\" class=\"data row11 col4\" >0</td>\n",
              "      <td id=\"T_609ae_row11_col5\" class=\"data row11 col5\" >0</td>\n",
              "      <td id=\"T_609ae_row11_col6\" class=\"data row11 col6\" >0</td>\n",
              "      <td id=\"T_609ae_row11_col7\" class=\"data row11 col7\" >0</td>\n",
              "      <td id=\"T_609ae_row11_col8\" class=\"data row11 col8\" >0</td>\n",
              "      <td id=\"T_609ae_row11_col9\" class=\"data row11 col9\" >0</td>\n",
              "      <td id=\"T_609ae_row11_col10\" class=\"data row11 col10\" >0</td>\n",
              "      <td id=\"T_609ae_row11_col11\" class=\"data row11 col11\" >14</td>\n",
              "      <td id=\"T_609ae_row11_col12\" class=\"data row11 col12\" >101</td>\n",
              "      <td id=\"T_609ae_row11_col13\" class=\"data row11 col13\" >223</td>\n",
              "      <td id=\"T_609ae_row11_col14\" class=\"data row11 col14\" >253</td>\n",
              "      <td id=\"T_609ae_row11_col15\" class=\"data row11 col15\" >248</td>\n",
              "      <td id=\"T_609ae_row11_col16\" class=\"data row11 col16\" >124</td>\n",
              "      <td id=\"T_609ae_row11_col17\" class=\"data row11 col17\" >0</td>\n",
              "      <td id=\"T_609ae_row11_col18\" class=\"data row11 col18\" >0</td>\n",
              "      <td id=\"T_609ae_row11_col19\" class=\"data row11 col19\" >0</td>\n",
              "      <td id=\"T_609ae_row11_col20\" class=\"data row11 col20\" >0</td>\n",
              "      <td id=\"T_609ae_row11_col21\" class=\"data row11 col21\" >0</td>\n",
              "      <td id=\"T_609ae_row11_col22\" class=\"data row11 col22\" >0</td>\n",
              "      <td id=\"T_609ae_row11_col23\" class=\"data row11 col23\" >0</td>\n",
              "      <td id=\"T_609ae_row11_col24\" class=\"data row11 col24\" >0</td>\n",
              "      <td id=\"T_609ae_row11_col25\" class=\"data row11 col25\" >0</td>\n",
              "      <td id=\"T_609ae_row11_col26\" class=\"data row11 col26\" >0</td>\n",
              "      <td id=\"T_609ae_row11_col27\" class=\"data row11 col27\" >0</td>\n",
              "    </tr>\n",
              "    <tr>\n",
              "      <th id=\"T_609ae_level0_row12\" class=\"row_heading level0 row12\" >12</th>\n",
              "      <td id=\"T_609ae_row12_col0\" class=\"data row12 col0\" >0</td>\n",
              "      <td id=\"T_609ae_row12_col1\" class=\"data row12 col1\" >0</td>\n",
              "      <td id=\"T_609ae_row12_col2\" class=\"data row12 col2\" >0</td>\n",
              "      <td id=\"T_609ae_row12_col3\" class=\"data row12 col3\" >0</td>\n",
              "      <td id=\"T_609ae_row12_col4\" class=\"data row12 col4\" >0</td>\n",
              "      <td id=\"T_609ae_row12_col5\" class=\"data row12 col5\" >0</td>\n",
              "      <td id=\"T_609ae_row12_col6\" class=\"data row12 col6\" >0</td>\n",
              "      <td id=\"T_609ae_row12_col7\" class=\"data row12 col7\" >0</td>\n",
              "      <td id=\"T_609ae_row12_col8\" class=\"data row12 col8\" >0</td>\n",
              "      <td id=\"T_609ae_row12_col9\" class=\"data row12 col9\" >11</td>\n",
              "      <td id=\"T_609ae_row12_col10\" class=\"data row12 col10\" >166</td>\n",
              "      <td id=\"T_609ae_row12_col11\" class=\"data row12 col11\" >239</td>\n",
              "      <td id=\"T_609ae_row12_col12\" class=\"data row12 col12\" >253</td>\n",
              "      <td id=\"T_609ae_row12_col13\" class=\"data row12 col13\" >253</td>\n",
              "      <td id=\"T_609ae_row12_col14\" class=\"data row12 col14\" >253</td>\n",
              "      <td id=\"T_609ae_row12_col15\" class=\"data row12 col15\" >187</td>\n",
              "      <td id=\"T_609ae_row12_col16\" class=\"data row12 col16\" >30</td>\n",
              "      <td id=\"T_609ae_row12_col17\" class=\"data row12 col17\" >0</td>\n",
              "      <td id=\"T_609ae_row12_col18\" class=\"data row12 col18\" >0</td>\n",
              "      <td id=\"T_609ae_row12_col19\" class=\"data row12 col19\" >0</td>\n",
              "      <td id=\"T_609ae_row12_col20\" class=\"data row12 col20\" >0</td>\n",
              "      <td id=\"T_609ae_row12_col21\" class=\"data row12 col21\" >0</td>\n",
              "      <td id=\"T_609ae_row12_col22\" class=\"data row12 col22\" >0</td>\n",
              "      <td id=\"T_609ae_row12_col23\" class=\"data row12 col23\" >0</td>\n",
              "      <td id=\"T_609ae_row12_col24\" class=\"data row12 col24\" >0</td>\n",
              "      <td id=\"T_609ae_row12_col25\" class=\"data row12 col25\" >0</td>\n",
              "      <td id=\"T_609ae_row12_col26\" class=\"data row12 col26\" >0</td>\n",
              "      <td id=\"T_609ae_row12_col27\" class=\"data row12 col27\" >0</td>\n",
              "    </tr>\n",
              "    <tr>\n",
              "      <th id=\"T_609ae_level0_row13\" class=\"row_heading level0 row13\" >13</th>\n",
              "      <td id=\"T_609ae_row13_col0\" class=\"data row13 col0\" >0</td>\n",
              "      <td id=\"T_609ae_row13_col1\" class=\"data row13 col1\" >0</td>\n",
              "      <td id=\"T_609ae_row13_col2\" class=\"data row13 col2\" >0</td>\n",
              "      <td id=\"T_609ae_row13_col3\" class=\"data row13 col3\" >0</td>\n",
              "      <td id=\"T_609ae_row13_col4\" class=\"data row13 col4\" >0</td>\n",
              "      <td id=\"T_609ae_row13_col5\" class=\"data row13 col5\" >0</td>\n",
              "      <td id=\"T_609ae_row13_col6\" class=\"data row13 col6\" >0</td>\n",
              "      <td id=\"T_609ae_row13_col7\" class=\"data row13 col7\" >0</td>\n",
              "      <td id=\"T_609ae_row13_col8\" class=\"data row13 col8\" >0</td>\n",
              "      <td id=\"T_609ae_row13_col9\" class=\"data row13 col9\" >16</td>\n",
              "      <td id=\"T_609ae_row13_col10\" class=\"data row13 col10\" >248</td>\n",
              "      <td id=\"T_609ae_row13_col11\" class=\"data row13 col11\" >250</td>\n",
              "      <td id=\"T_609ae_row13_col12\" class=\"data row13 col12\" >253</td>\n",
              "      <td id=\"T_609ae_row13_col13\" class=\"data row13 col13\" >253</td>\n",
              "      <td id=\"T_609ae_row13_col14\" class=\"data row13 col14\" >253</td>\n",
              "      <td id=\"T_609ae_row13_col15\" class=\"data row13 col15\" >253</td>\n",
              "      <td id=\"T_609ae_row13_col16\" class=\"data row13 col16\" >232</td>\n",
              "      <td id=\"T_609ae_row13_col17\" class=\"data row13 col17\" >213</td>\n",
              "      <td id=\"T_609ae_row13_col18\" class=\"data row13 col18\" >111</td>\n",
              "      <td id=\"T_609ae_row13_col19\" class=\"data row13 col19\" >2</td>\n",
              "      <td id=\"T_609ae_row13_col20\" class=\"data row13 col20\" >0</td>\n",
              "      <td id=\"T_609ae_row13_col21\" class=\"data row13 col21\" >0</td>\n",
              "      <td id=\"T_609ae_row13_col22\" class=\"data row13 col22\" >0</td>\n",
              "      <td id=\"T_609ae_row13_col23\" class=\"data row13 col23\" >0</td>\n",
              "      <td id=\"T_609ae_row13_col24\" class=\"data row13 col24\" >0</td>\n",
              "      <td id=\"T_609ae_row13_col25\" class=\"data row13 col25\" >0</td>\n",
              "      <td id=\"T_609ae_row13_col26\" class=\"data row13 col26\" >0</td>\n",
              "      <td id=\"T_609ae_row13_col27\" class=\"data row13 col27\" >0</td>\n",
              "    </tr>\n",
              "    <tr>\n",
              "      <th id=\"T_609ae_level0_row14\" class=\"row_heading level0 row14\" >14</th>\n",
              "      <td id=\"T_609ae_row14_col0\" class=\"data row14 col0\" >0</td>\n",
              "      <td id=\"T_609ae_row14_col1\" class=\"data row14 col1\" >0</td>\n",
              "      <td id=\"T_609ae_row14_col2\" class=\"data row14 col2\" >0</td>\n",
              "      <td id=\"T_609ae_row14_col3\" class=\"data row14 col3\" >0</td>\n",
              "      <td id=\"T_609ae_row14_col4\" class=\"data row14 col4\" >0</td>\n",
              "      <td id=\"T_609ae_row14_col5\" class=\"data row14 col5\" >0</td>\n",
              "      <td id=\"T_609ae_row14_col6\" class=\"data row14 col6\" >0</td>\n",
              "      <td id=\"T_609ae_row14_col7\" class=\"data row14 col7\" >0</td>\n",
              "      <td id=\"T_609ae_row14_col8\" class=\"data row14 col8\" >0</td>\n",
              "      <td id=\"T_609ae_row14_col9\" class=\"data row14 col9\" >0</td>\n",
              "      <td id=\"T_609ae_row14_col10\" class=\"data row14 col10\" >0</td>\n",
              "      <td id=\"T_609ae_row14_col11\" class=\"data row14 col11\" >43</td>\n",
              "      <td id=\"T_609ae_row14_col12\" class=\"data row14 col12\" >98</td>\n",
              "      <td id=\"T_609ae_row14_col13\" class=\"data row14 col13\" >98</td>\n",
              "      <td id=\"T_609ae_row14_col14\" class=\"data row14 col14\" >208</td>\n",
              "      <td id=\"T_609ae_row14_col15\" class=\"data row14 col15\" >253</td>\n",
              "      <td id=\"T_609ae_row14_col16\" class=\"data row14 col16\" >253</td>\n",
              "      <td id=\"T_609ae_row14_col17\" class=\"data row14 col17\" >253</td>\n",
              "      <td id=\"T_609ae_row14_col18\" class=\"data row14 col18\" >253</td>\n",
              "      <td id=\"T_609ae_row14_col19\" class=\"data row14 col19\" >187</td>\n",
              "      <td id=\"T_609ae_row14_col20\" class=\"data row14 col20\" >22</td>\n",
              "      <td id=\"T_609ae_row14_col21\" class=\"data row14 col21\" >0</td>\n",
              "      <td id=\"T_609ae_row14_col22\" class=\"data row14 col22\" >0</td>\n",
              "      <td id=\"T_609ae_row14_col23\" class=\"data row14 col23\" >0</td>\n",
              "      <td id=\"T_609ae_row14_col24\" class=\"data row14 col24\" >0</td>\n",
              "      <td id=\"T_609ae_row14_col25\" class=\"data row14 col25\" >0</td>\n",
              "      <td id=\"T_609ae_row14_col26\" class=\"data row14 col26\" >0</td>\n",
              "      <td id=\"T_609ae_row14_col27\" class=\"data row14 col27\" >0</td>\n",
              "    </tr>\n",
              "    <tr>\n",
              "      <th id=\"T_609ae_level0_row15\" class=\"row_heading level0 row15\" >15</th>\n",
              "      <td id=\"T_609ae_row15_col0\" class=\"data row15 col0\" >0</td>\n",
              "      <td id=\"T_609ae_row15_col1\" class=\"data row15 col1\" >0</td>\n",
              "      <td id=\"T_609ae_row15_col2\" class=\"data row15 col2\" >0</td>\n",
              "      <td id=\"T_609ae_row15_col3\" class=\"data row15 col3\" >0</td>\n",
              "      <td id=\"T_609ae_row15_col4\" class=\"data row15 col4\" >0</td>\n",
              "      <td id=\"T_609ae_row15_col5\" class=\"data row15 col5\" >0</td>\n",
              "      <td id=\"T_609ae_row15_col6\" class=\"data row15 col6\" >0</td>\n",
              "      <td id=\"T_609ae_row15_col7\" class=\"data row15 col7\" >0</td>\n",
              "      <td id=\"T_609ae_row15_col8\" class=\"data row15 col8\" >0</td>\n",
              "      <td id=\"T_609ae_row15_col9\" class=\"data row15 col9\" >0</td>\n",
              "      <td id=\"T_609ae_row15_col10\" class=\"data row15 col10\" >0</td>\n",
              "      <td id=\"T_609ae_row15_col11\" class=\"data row15 col11\" >0</td>\n",
              "      <td id=\"T_609ae_row15_col12\" class=\"data row15 col12\" >0</td>\n",
              "      <td id=\"T_609ae_row15_col13\" class=\"data row15 col13\" >0</td>\n",
              "      <td id=\"T_609ae_row15_col14\" class=\"data row15 col14\" >9</td>\n",
              "      <td id=\"T_609ae_row15_col15\" class=\"data row15 col15\" >51</td>\n",
              "      <td id=\"T_609ae_row15_col16\" class=\"data row15 col16\" >119</td>\n",
              "      <td id=\"T_609ae_row15_col17\" class=\"data row15 col17\" >253</td>\n",
              "      <td id=\"T_609ae_row15_col18\" class=\"data row15 col18\" >253</td>\n",
              "      <td id=\"T_609ae_row15_col19\" class=\"data row15 col19\" >253</td>\n",
              "      <td id=\"T_609ae_row15_col20\" class=\"data row15 col20\" >76</td>\n",
              "      <td id=\"T_609ae_row15_col21\" class=\"data row15 col21\" >0</td>\n",
              "      <td id=\"T_609ae_row15_col22\" class=\"data row15 col22\" >0</td>\n",
              "      <td id=\"T_609ae_row15_col23\" class=\"data row15 col23\" >0</td>\n",
              "      <td id=\"T_609ae_row15_col24\" class=\"data row15 col24\" >0</td>\n",
              "      <td id=\"T_609ae_row15_col25\" class=\"data row15 col25\" >0</td>\n",
              "      <td id=\"T_609ae_row15_col26\" class=\"data row15 col26\" >0</td>\n",
              "      <td id=\"T_609ae_row15_col27\" class=\"data row15 col27\" >0</td>\n",
              "    </tr>\n",
              "    <tr>\n",
              "      <th id=\"T_609ae_level0_row16\" class=\"row_heading level0 row16\" >16</th>\n",
              "      <td id=\"T_609ae_row16_col0\" class=\"data row16 col0\" >0</td>\n",
              "      <td id=\"T_609ae_row16_col1\" class=\"data row16 col1\" >0</td>\n",
              "      <td id=\"T_609ae_row16_col2\" class=\"data row16 col2\" >0</td>\n",
              "      <td id=\"T_609ae_row16_col3\" class=\"data row16 col3\" >0</td>\n",
              "      <td id=\"T_609ae_row16_col4\" class=\"data row16 col4\" >0</td>\n",
              "      <td id=\"T_609ae_row16_col5\" class=\"data row16 col5\" >0</td>\n",
              "      <td id=\"T_609ae_row16_col6\" class=\"data row16 col6\" >0</td>\n",
              "      <td id=\"T_609ae_row16_col7\" class=\"data row16 col7\" >0</td>\n",
              "      <td id=\"T_609ae_row16_col8\" class=\"data row16 col8\" >0</td>\n",
              "      <td id=\"T_609ae_row16_col9\" class=\"data row16 col9\" >0</td>\n",
              "      <td id=\"T_609ae_row16_col10\" class=\"data row16 col10\" >0</td>\n",
              "      <td id=\"T_609ae_row16_col11\" class=\"data row16 col11\" >0</td>\n",
              "      <td id=\"T_609ae_row16_col12\" class=\"data row16 col12\" >0</td>\n",
              "      <td id=\"T_609ae_row16_col13\" class=\"data row16 col13\" >0</td>\n",
              "      <td id=\"T_609ae_row16_col14\" class=\"data row16 col14\" >0</td>\n",
              "      <td id=\"T_609ae_row16_col15\" class=\"data row16 col15\" >0</td>\n",
              "      <td id=\"T_609ae_row16_col16\" class=\"data row16 col16\" >1</td>\n",
              "      <td id=\"T_609ae_row16_col17\" class=\"data row16 col17\" >183</td>\n",
              "      <td id=\"T_609ae_row16_col18\" class=\"data row16 col18\" >253</td>\n",
              "      <td id=\"T_609ae_row16_col19\" class=\"data row16 col19\" >253</td>\n",
              "      <td id=\"T_609ae_row16_col20\" class=\"data row16 col20\" >139</td>\n",
              "      <td id=\"T_609ae_row16_col21\" class=\"data row16 col21\" >0</td>\n",
              "      <td id=\"T_609ae_row16_col22\" class=\"data row16 col22\" >0</td>\n",
              "      <td id=\"T_609ae_row16_col23\" class=\"data row16 col23\" >0</td>\n",
              "      <td id=\"T_609ae_row16_col24\" class=\"data row16 col24\" >0</td>\n",
              "      <td id=\"T_609ae_row16_col25\" class=\"data row16 col25\" >0</td>\n",
              "      <td id=\"T_609ae_row16_col26\" class=\"data row16 col26\" >0</td>\n",
              "      <td id=\"T_609ae_row16_col27\" class=\"data row16 col27\" >0</td>\n",
              "    </tr>\n",
              "    <tr>\n",
              "      <th id=\"T_609ae_level0_row17\" class=\"row_heading level0 row17\" >17</th>\n",
              "      <td id=\"T_609ae_row17_col0\" class=\"data row17 col0\" >0</td>\n",
              "      <td id=\"T_609ae_row17_col1\" class=\"data row17 col1\" >0</td>\n",
              "      <td id=\"T_609ae_row17_col2\" class=\"data row17 col2\" >0</td>\n",
              "      <td id=\"T_609ae_row17_col3\" class=\"data row17 col3\" >0</td>\n",
              "      <td id=\"T_609ae_row17_col4\" class=\"data row17 col4\" >0</td>\n",
              "      <td id=\"T_609ae_row17_col5\" class=\"data row17 col5\" >0</td>\n",
              "      <td id=\"T_609ae_row17_col6\" class=\"data row17 col6\" >0</td>\n",
              "      <td id=\"T_609ae_row17_col7\" class=\"data row17 col7\" >0</td>\n",
              "      <td id=\"T_609ae_row17_col8\" class=\"data row17 col8\" >0</td>\n",
              "      <td id=\"T_609ae_row17_col9\" class=\"data row17 col9\" >0</td>\n",
              "      <td id=\"T_609ae_row17_col10\" class=\"data row17 col10\" >0</td>\n",
              "      <td id=\"T_609ae_row17_col11\" class=\"data row17 col11\" >0</td>\n",
              "      <td id=\"T_609ae_row17_col12\" class=\"data row17 col12\" >0</td>\n",
              "      <td id=\"T_609ae_row17_col13\" class=\"data row17 col13\" >0</td>\n",
              "      <td id=\"T_609ae_row17_col14\" class=\"data row17 col14\" >0</td>\n",
              "      <td id=\"T_609ae_row17_col15\" class=\"data row17 col15\" >0</td>\n",
              "      <td id=\"T_609ae_row17_col16\" class=\"data row17 col16\" >0</td>\n",
              "      <td id=\"T_609ae_row17_col17\" class=\"data row17 col17\" >182</td>\n",
              "      <td id=\"T_609ae_row17_col18\" class=\"data row17 col18\" >253</td>\n",
              "      <td id=\"T_609ae_row17_col19\" class=\"data row17 col19\" >253</td>\n",
              "      <td id=\"T_609ae_row17_col20\" class=\"data row17 col20\" >104</td>\n",
              "      <td id=\"T_609ae_row17_col21\" class=\"data row17 col21\" >0</td>\n",
              "      <td id=\"T_609ae_row17_col22\" class=\"data row17 col22\" >0</td>\n",
              "      <td id=\"T_609ae_row17_col23\" class=\"data row17 col23\" >0</td>\n",
              "      <td id=\"T_609ae_row17_col24\" class=\"data row17 col24\" >0</td>\n",
              "      <td id=\"T_609ae_row17_col25\" class=\"data row17 col25\" >0</td>\n",
              "      <td id=\"T_609ae_row17_col26\" class=\"data row17 col26\" >0</td>\n",
              "      <td id=\"T_609ae_row17_col27\" class=\"data row17 col27\" >0</td>\n",
              "    </tr>\n",
              "    <tr>\n",
              "      <th id=\"T_609ae_level0_row18\" class=\"row_heading level0 row18\" >18</th>\n",
              "      <td id=\"T_609ae_row18_col0\" class=\"data row18 col0\" >0</td>\n",
              "      <td id=\"T_609ae_row18_col1\" class=\"data row18 col1\" >0</td>\n",
              "      <td id=\"T_609ae_row18_col2\" class=\"data row18 col2\" >0</td>\n",
              "      <td id=\"T_609ae_row18_col3\" class=\"data row18 col3\" >0</td>\n",
              "      <td id=\"T_609ae_row18_col4\" class=\"data row18 col4\" >0</td>\n",
              "      <td id=\"T_609ae_row18_col5\" class=\"data row18 col5\" >0</td>\n",
              "      <td id=\"T_609ae_row18_col6\" class=\"data row18 col6\" >0</td>\n",
              "      <td id=\"T_609ae_row18_col7\" class=\"data row18 col7\" >0</td>\n",
              "      <td id=\"T_609ae_row18_col8\" class=\"data row18 col8\" >0</td>\n",
              "      <td id=\"T_609ae_row18_col9\" class=\"data row18 col9\" >0</td>\n",
              "      <td id=\"T_609ae_row18_col10\" class=\"data row18 col10\" >0</td>\n",
              "      <td id=\"T_609ae_row18_col11\" class=\"data row18 col11\" >0</td>\n",
              "      <td id=\"T_609ae_row18_col12\" class=\"data row18 col12\" >0</td>\n",
              "      <td id=\"T_609ae_row18_col13\" class=\"data row18 col13\" >0</td>\n",
              "      <td id=\"T_609ae_row18_col14\" class=\"data row18 col14\" >0</td>\n",
              "      <td id=\"T_609ae_row18_col15\" class=\"data row18 col15\" >0</td>\n",
              "      <td id=\"T_609ae_row18_col16\" class=\"data row18 col16\" >85</td>\n",
              "      <td id=\"T_609ae_row18_col17\" class=\"data row18 col17\" >249</td>\n",
              "      <td id=\"T_609ae_row18_col18\" class=\"data row18 col18\" >253</td>\n",
              "      <td id=\"T_609ae_row18_col19\" class=\"data row18 col19\" >253</td>\n",
              "      <td id=\"T_609ae_row18_col20\" class=\"data row18 col20\" >36</td>\n",
              "      <td id=\"T_609ae_row18_col21\" class=\"data row18 col21\" >0</td>\n",
              "      <td id=\"T_609ae_row18_col22\" class=\"data row18 col22\" >0</td>\n",
              "      <td id=\"T_609ae_row18_col23\" class=\"data row18 col23\" >0</td>\n",
              "      <td id=\"T_609ae_row18_col24\" class=\"data row18 col24\" >0</td>\n",
              "      <td id=\"T_609ae_row18_col25\" class=\"data row18 col25\" >0</td>\n",
              "      <td id=\"T_609ae_row18_col26\" class=\"data row18 col26\" >0</td>\n",
              "      <td id=\"T_609ae_row18_col27\" class=\"data row18 col27\" >0</td>\n",
              "    </tr>\n",
              "    <tr>\n",
              "      <th id=\"T_609ae_level0_row19\" class=\"row_heading level0 row19\" >19</th>\n",
              "      <td id=\"T_609ae_row19_col0\" class=\"data row19 col0\" >0</td>\n",
              "      <td id=\"T_609ae_row19_col1\" class=\"data row19 col1\" >0</td>\n",
              "      <td id=\"T_609ae_row19_col2\" class=\"data row19 col2\" >0</td>\n",
              "      <td id=\"T_609ae_row19_col3\" class=\"data row19 col3\" >0</td>\n",
              "      <td id=\"T_609ae_row19_col4\" class=\"data row19 col4\" >0</td>\n",
              "      <td id=\"T_609ae_row19_col5\" class=\"data row19 col5\" >0</td>\n",
              "      <td id=\"T_609ae_row19_col6\" class=\"data row19 col6\" >0</td>\n",
              "      <td id=\"T_609ae_row19_col7\" class=\"data row19 col7\" >0</td>\n",
              "      <td id=\"T_609ae_row19_col8\" class=\"data row19 col8\" >0</td>\n",
              "      <td id=\"T_609ae_row19_col9\" class=\"data row19 col9\" >0</td>\n",
              "      <td id=\"T_609ae_row19_col10\" class=\"data row19 col10\" >0</td>\n",
              "      <td id=\"T_609ae_row19_col11\" class=\"data row19 col11\" >0</td>\n",
              "      <td id=\"T_609ae_row19_col12\" class=\"data row19 col12\" >0</td>\n",
              "      <td id=\"T_609ae_row19_col13\" class=\"data row19 col13\" >0</td>\n",
              "      <td id=\"T_609ae_row19_col14\" class=\"data row19 col14\" >0</td>\n",
              "      <td id=\"T_609ae_row19_col15\" class=\"data row19 col15\" >60</td>\n",
              "      <td id=\"T_609ae_row19_col16\" class=\"data row19 col16\" >214</td>\n",
              "      <td id=\"T_609ae_row19_col17\" class=\"data row19 col17\" >253</td>\n",
              "      <td id=\"T_609ae_row19_col18\" class=\"data row19 col18\" >253</td>\n",
              "      <td id=\"T_609ae_row19_col19\" class=\"data row19 col19\" >173</td>\n",
              "      <td id=\"T_609ae_row19_col20\" class=\"data row19 col20\" >11</td>\n",
              "      <td id=\"T_609ae_row19_col21\" class=\"data row19 col21\" >0</td>\n",
              "      <td id=\"T_609ae_row19_col22\" class=\"data row19 col22\" >0</td>\n",
              "      <td id=\"T_609ae_row19_col23\" class=\"data row19 col23\" >0</td>\n",
              "      <td id=\"T_609ae_row19_col24\" class=\"data row19 col24\" >0</td>\n",
              "      <td id=\"T_609ae_row19_col25\" class=\"data row19 col25\" >0</td>\n",
              "      <td id=\"T_609ae_row19_col26\" class=\"data row19 col26\" >0</td>\n",
              "      <td id=\"T_609ae_row19_col27\" class=\"data row19 col27\" >0</td>\n",
              "    </tr>\n",
              "    <tr>\n",
              "      <th id=\"T_609ae_level0_row20\" class=\"row_heading level0 row20\" >20</th>\n",
              "      <td id=\"T_609ae_row20_col0\" class=\"data row20 col0\" >0</td>\n",
              "      <td id=\"T_609ae_row20_col1\" class=\"data row20 col1\" >0</td>\n",
              "      <td id=\"T_609ae_row20_col2\" class=\"data row20 col2\" >0</td>\n",
              "      <td id=\"T_609ae_row20_col3\" class=\"data row20 col3\" >0</td>\n",
              "      <td id=\"T_609ae_row20_col4\" class=\"data row20 col4\" >0</td>\n",
              "      <td id=\"T_609ae_row20_col5\" class=\"data row20 col5\" >0</td>\n",
              "      <td id=\"T_609ae_row20_col6\" class=\"data row20 col6\" >0</td>\n",
              "      <td id=\"T_609ae_row20_col7\" class=\"data row20 col7\" >0</td>\n",
              "      <td id=\"T_609ae_row20_col8\" class=\"data row20 col8\" >0</td>\n",
              "      <td id=\"T_609ae_row20_col9\" class=\"data row20 col9\" >0</td>\n",
              "      <td id=\"T_609ae_row20_col10\" class=\"data row20 col10\" >0</td>\n",
              "      <td id=\"T_609ae_row20_col11\" class=\"data row20 col11\" >0</td>\n",
              "      <td id=\"T_609ae_row20_col12\" class=\"data row20 col12\" >0</td>\n",
              "      <td id=\"T_609ae_row20_col13\" class=\"data row20 col13\" >0</td>\n",
              "      <td id=\"T_609ae_row20_col14\" class=\"data row20 col14\" >98</td>\n",
              "      <td id=\"T_609ae_row20_col15\" class=\"data row20 col15\" >247</td>\n",
              "      <td id=\"T_609ae_row20_col16\" class=\"data row20 col16\" >253</td>\n",
              "      <td id=\"T_609ae_row20_col17\" class=\"data row20 col17\" >253</td>\n",
              "      <td id=\"T_609ae_row20_col18\" class=\"data row20 col18\" >226</td>\n",
              "      <td id=\"T_609ae_row20_col19\" class=\"data row20 col19\" >9</td>\n",
              "      <td id=\"T_609ae_row20_col20\" class=\"data row20 col20\" >0</td>\n",
              "      <td id=\"T_609ae_row20_col21\" class=\"data row20 col21\" >0</td>\n",
              "      <td id=\"T_609ae_row20_col22\" class=\"data row20 col22\" >0</td>\n",
              "      <td id=\"T_609ae_row20_col23\" class=\"data row20 col23\" >0</td>\n",
              "      <td id=\"T_609ae_row20_col24\" class=\"data row20 col24\" >0</td>\n",
              "      <td id=\"T_609ae_row20_col25\" class=\"data row20 col25\" >0</td>\n",
              "      <td id=\"T_609ae_row20_col26\" class=\"data row20 col26\" >0</td>\n",
              "      <td id=\"T_609ae_row20_col27\" class=\"data row20 col27\" >0</td>\n",
              "    </tr>\n",
              "    <tr>\n",
              "      <th id=\"T_609ae_level0_row21\" class=\"row_heading level0 row21\" >21</th>\n",
              "      <td id=\"T_609ae_row21_col0\" class=\"data row21 col0\" >0</td>\n",
              "      <td id=\"T_609ae_row21_col1\" class=\"data row21 col1\" >0</td>\n",
              "      <td id=\"T_609ae_row21_col2\" class=\"data row21 col2\" >0</td>\n",
              "      <td id=\"T_609ae_row21_col3\" class=\"data row21 col3\" >0</td>\n",
              "      <td id=\"T_609ae_row21_col4\" class=\"data row21 col4\" >0</td>\n",
              "      <td id=\"T_609ae_row21_col5\" class=\"data row21 col5\" >0</td>\n",
              "      <td id=\"T_609ae_row21_col6\" class=\"data row21 col6\" >0</td>\n",
              "      <td id=\"T_609ae_row21_col7\" class=\"data row21 col7\" >0</td>\n",
              "      <td id=\"T_609ae_row21_col8\" class=\"data row21 col8\" >0</td>\n",
              "      <td id=\"T_609ae_row21_col9\" class=\"data row21 col9\" >0</td>\n",
              "      <td id=\"T_609ae_row21_col10\" class=\"data row21 col10\" >0</td>\n",
              "      <td id=\"T_609ae_row21_col11\" class=\"data row21 col11\" >0</td>\n",
              "      <td id=\"T_609ae_row21_col12\" class=\"data row21 col12\" >42</td>\n",
              "      <td id=\"T_609ae_row21_col13\" class=\"data row21 col13\" >150</td>\n",
              "      <td id=\"T_609ae_row21_col14\" class=\"data row21 col14\" >252</td>\n",
              "      <td id=\"T_609ae_row21_col15\" class=\"data row21 col15\" >253</td>\n",
              "      <td id=\"T_609ae_row21_col16\" class=\"data row21 col16\" >253</td>\n",
              "      <td id=\"T_609ae_row21_col17\" class=\"data row21 col17\" >233</td>\n",
              "      <td id=\"T_609ae_row21_col18\" class=\"data row21 col18\" >53</td>\n",
              "      <td id=\"T_609ae_row21_col19\" class=\"data row21 col19\" >0</td>\n",
              "      <td id=\"T_609ae_row21_col20\" class=\"data row21 col20\" >0</td>\n",
              "      <td id=\"T_609ae_row21_col21\" class=\"data row21 col21\" >0</td>\n",
              "      <td id=\"T_609ae_row21_col22\" class=\"data row21 col22\" >0</td>\n",
              "      <td id=\"T_609ae_row21_col23\" class=\"data row21 col23\" >0</td>\n",
              "      <td id=\"T_609ae_row21_col24\" class=\"data row21 col24\" >0</td>\n",
              "      <td id=\"T_609ae_row21_col25\" class=\"data row21 col25\" >0</td>\n",
              "      <td id=\"T_609ae_row21_col26\" class=\"data row21 col26\" >0</td>\n",
              "      <td id=\"T_609ae_row21_col27\" class=\"data row21 col27\" >0</td>\n",
              "    </tr>\n",
              "    <tr>\n",
              "      <th id=\"T_609ae_level0_row22\" class=\"row_heading level0 row22\" >22</th>\n",
              "      <td id=\"T_609ae_row22_col0\" class=\"data row22 col0\" >0</td>\n",
              "      <td id=\"T_609ae_row22_col1\" class=\"data row22 col1\" >0</td>\n",
              "      <td id=\"T_609ae_row22_col2\" class=\"data row22 col2\" >0</td>\n",
              "      <td id=\"T_609ae_row22_col3\" class=\"data row22 col3\" >0</td>\n",
              "      <td id=\"T_609ae_row22_col4\" class=\"data row22 col4\" >0</td>\n",
              "      <td id=\"T_609ae_row22_col5\" class=\"data row22 col5\" >0</td>\n",
              "      <td id=\"T_609ae_row22_col6\" class=\"data row22 col6\" >42</td>\n",
              "      <td id=\"T_609ae_row22_col7\" class=\"data row22 col7\" >115</td>\n",
              "      <td id=\"T_609ae_row22_col8\" class=\"data row22 col8\" >42</td>\n",
              "      <td id=\"T_609ae_row22_col9\" class=\"data row22 col9\" >60</td>\n",
              "      <td id=\"T_609ae_row22_col10\" class=\"data row22 col10\" >115</td>\n",
              "      <td id=\"T_609ae_row22_col11\" class=\"data row22 col11\" >159</td>\n",
              "      <td id=\"T_609ae_row22_col12\" class=\"data row22 col12\" >240</td>\n",
              "      <td id=\"T_609ae_row22_col13\" class=\"data row22 col13\" >253</td>\n",
              "      <td id=\"T_609ae_row22_col14\" class=\"data row22 col14\" >253</td>\n",
              "      <td id=\"T_609ae_row22_col15\" class=\"data row22 col15\" >250</td>\n",
              "      <td id=\"T_609ae_row22_col16\" class=\"data row22 col16\" >175</td>\n",
              "      <td id=\"T_609ae_row22_col17\" class=\"data row22 col17\" >25</td>\n",
              "      <td id=\"T_609ae_row22_col18\" class=\"data row22 col18\" >0</td>\n",
              "      <td id=\"T_609ae_row22_col19\" class=\"data row22 col19\" >0</td>\n",
              "      <td id=\"T_609ae_row22_col20\" class=\"data row22 col20\" >0</td>\n",
              "      <td id=\"T_609ae_row22_col21\" class=\"data row22 col21\" >0</td>\n",
              "      <td id=\"T_609ae_row22_col22\" class=\"data row22 col22\" >0</td>\n",
              "      <td id=\"T_609ae_row22_col23\" class=\"data row22 col23\" >0</td>\n",
              "      <td id=\"T_609ae_row22_col24\" class=\"data row22 col24\" >0</td>\n",
              "      <td id=\"T_609ae_row22_col25\" class=\"data row22 col25\" >0</td>\n",
              "      <td id=\"T_609ae_row22_col26\" class=\"data row22 col26\" >0</td>\n",
              "      <td id=\"T_609ae_row22_col27\" class=\"data row22 col27\" >0</td>\n",
              "    </tr>\n",
              "    <tr>\n",
              "      <th id=\"T_609ae_level0_row23\" class=\"row_heading level0 row23\" >23</th>\n",
              "      <td id=\"T_609ae_row23_col0\" class=\"data row23 col0\" >0</td>\n",
              "      <td id=\"T_609ae_row23_col1\" class=\"data row23 col1\" >0</td>\n",
              "      <td id=\"T_609ae_row23_col2\" class=\"data row23 col2\" >0</td>\n",
              "      <td id=\"T_609ae_row23_col3\" class=\"data row23 col3\" >0</td>\n",
              "      <td id=\"T_609ae_row23_col4\" class=\"data row23 col4\" >0</td>\n",
              "      <td id=\"T_609ae_row23_col5\" class=\"data row23 col5\" >0</td>\n",
              "      <td id=\"T_609ae_row23_col6\" class=\"data row23 col6\" >187</td>\n",
              "      <td id=\"T_609ae_row23_col7\" class=\"data row23 col7\" >253</td>\n",
              "      <td id=\"T_609ae_row23_col8\" class=\"data row23 col8\" >253</td>\n",
              "      <td id=\"T_609ae_row23_col9\" class=\"data row23 col9\" >253</td>\n",
              "      <td id=\"T_609ae_row23_col10\" class=\"data row23 col10\" >253</td>\n",
              "      <td id=\"T_609ae_row23_col11\" class=\"data row23 col11\" >253</td>\n",
              "      <td id=\"T_609ae_row23_col12\" class=\"data row23 col12\" >253</td>\n",
              "      <td id=\"T_609ae_row23_col13\" class=\"data row23 col13\" >253</td>\n",
              "      <td id=\"T_609ae_row23_col14\" class=\"data row23 col14\" >197</td>\n",
              "      <td id=\"T_609ae_row23_col15\" class=\"data row23 col15\" >86</td>\n",
              "      <td id=\"T_609ae_row23_col16\" class=\"data row23 col16\" >0</td>\n",
              "      <td id=\"T_609ae_row23_col17\" class=\"data row23 col17\" >0</td>\n",
              "      <td id=\"T_609ae_row23_col18\" class=\"data row23 col18\" >0</td>\n",
              "      <td id=\"T_609ae_row23_col19\" class=\"data row23 col19\" >0</td>\n",
              "      <td id=\"T_609ae_row23_col20\" class=\"data row23 col20\" >0</td>\n",
              "      <td id=\"T_609ae_row23_col21\" class=\"data row23 col21\" >0</td>\n",
              "      <td id=\"T_609ae_row23_col22\" class=\"data row23 col22\" >0</td>\n",
              "      <td id=\"T_609ae_row23_col23\" class=\"data row23 col23\" >0</td>\n",
              "      <td id=\"T_609ae_row23_col24\" class=\"data row23 col24\" >0</td>\n",
              "      <td id=\"T_609ae_row23_col25\" class=\"data row23 col25\" >0</td>\n",
              "      <td id=\"T_609ae_row23_col26\" class=\"data row23 col26\" >0</td>\n",
              "      <td id=\"T_609ae_row23_col27\" class=\"data row23 col27\" >0</td>\n",
              "    </tr>\n",
              "    <tr>\n",
              "      <th id=\"T_609ae_level0_row24\" class=\"row_heading level0 row24\" >24</th>\n",
              "      <td id=\"T_609ae_row24_col0\" class=\"data row24 col0\" >0</td>\n",
              "      <td id=\"T_609ae_row24_col1\" class=\"data row24 col1\" >0</td>\n",
              "      <td id=\"T_609ae_row24_col2\" class=\"data row24 col2\" >0</td>\n",
              "      <td id=\"T_609ae_row24_col3\" class=\"data row24 col3\" >0</td>\n",
              "      <td id=\"T_609ae_row24_col4\" class=\"data row24 col4\" >0</td>\n",
              "      <td id=\"T_609ae_row24_col5\" class=\"data row24 col5\" >0</td>\n",
              "      <td id=\"T_609ae_row24_col6\" class=\"data row24 col6\" >103</td>\n",
              "      <td id=\"T_609ae_row24_col7\" class=\"data row24 col7\" >253</td>\n",
              "      <td id=\"T_609ae_row24_col8\" class=\"data row24 col8\" >253</td>\n",
              "      <td id=\"T_609ae_row24_col9\" class=\"data row24 col9\" >253</td>\n",
              "      <td id=\"T_609ae_row24_col10\" class=\"data row24 col10\" >253</td>\n",
              "      <td id=\"T_609ae_row24_col11\" class=\"data row24 col11\" >253</td>\n",
              "      <td id=\"T_609ae_row24_col12\" class=\"data row24 col12\" >232</td>\n",
              "      <td id=\"T_609ae_row24_col13\" class=\"data row24 col13\" >67</td>\n",
              "      <td id=\"T_609ae_row24_col14\" class=\"data row24 col14\" >1</td>\n",
              "      <td id=\"T_609ae_row24_col15\" class=\"data row24 col15\" >0</td>\n",
              "      <td id=\"T_609ae_row24_col16\" class=\"data row24 col16\" >0</td>\n",
              "      <td id=\"T_609ae_row24_col17\" class=\"data row24 col17\" >0</td>\n",
              "      <td id=\"T_609ae_row24_col18\" class=\"data row24 col18\" >0</td>\n",
              "      <td id=\"T_609ae_row24_col19\" class=\"data row24 col19\" >0</td>\n",
              "      <td id=\"T_609ae_row24_col20\" class=\"data row24 col20\" >0</td>\n",
              "      <td id=\"T_609ae_row24_col21\" class=\"data row24 col21\" >0</td>\n",
              "      <td id=\"T_609ae_row24_col22\" class=\"data row24 col22\" >0</td>\n",
              "      <td id=\"T_609ae_row24_col23\" class=\"data row24 col23\" >0</td>\n",
              "      <td id=\"T_609ae_row24_col24\" class=\"data row24 col24\" >0</td>\n",
              "      <td id=\"T_609ae_row24_col25\" class=\"data row24 col25\" >0</td>\n",
              "      <td id=\"T_609ae_row24_col26\" class=\"data row24 col26\" >0</td>\n",
              "      <td id=\"T_609ae_row24_col27\" class=\"data row24 col27\" >0</td>\n",
              "    </tr>\n",
              "    <tr>\n",
              "      <th id=\"T_609ae_level0_row25\" class=\"row_heading level0 row25\" >25</th>\n",
              "      <td id=\"T_609ae_row25_col0\" class=\"data row25 col0\" >0</td>\n",
              "      <td id=\"T_609ae_row25_col1\" class=\"data row25 col1\" >0</td>\n",
              "      <td id=\"T_609ae_row25_col2\" class=\"data row25 col2\" >0</td>\n",
              "      <td id=\"T_609ae_row25_col3\" class=\"data row25 col3\" >0</td>\n",
              "      <td id=\"T_609ae_row25_col4\" class=\"data row25 col4\" >0</td>\n",
              "      <td id=\"T_609ae_row25_col5\" class=\"data row25 col5\" >0</td>\n",
              "      <td id=\"T_609ae_row25_col6\" class=\"data row25 col6\" >0</td>\n",
              "      <td id=\"T_609ae_row25_col7\" class=\"data row25 col7\" >0</td>\n",
              "      <td id=\"T_609ae_row25_col8\" class=\"data row25 col8\" >0</td>\n",
              "      <td id=\"T_609ae_row25_col9\" class=\"data row25 col9\" >0</td>\n",
              "      <td id=\"T_609ae_row25_col10\" class=\"data row25 col10\" >0</td>\n",
              "      <td id=\"T_609ae_row25_col11\" class=\"data row25 col11\" >0</td>\n",
              "      <td id=\"T_609ae_row25_col12\" class=\"data row25 col12\" >0</td>\n",
              "      <td id=\"T_609ae_row25_col13\" class=\"data row25 col13\" >0</td>\n",
              "      <td id=\"T_609ae_row25_col14\" class=\"data row25 col14\" >0</td>\n",
              "      <td id=\"T_609ae_row25_col15\" class=\"data row25 col15\" >0</td>\n",
              "      <td id=\"T_609ae_row25_col16\" class=\"data row25 col16\" >0</td>\n",
              "      <td id=\"T_609ae_row25_col17\" class=\"data row25 col17\" >0</td>\n",
              "      <td id=\"T_609ae_row25_col18\" class=\"data row25 col18\" >0</td>\n",
              "      <td id=\"T_609ae_row25_col19\" class=\"data row25 col19\" >0</td>\n",
              "      <td id=\"T_609ae_row25_col20\" class=\"data row25 col20\" >0</td>\n",
              "      <td id=\"T_609ae_row25_col21\" class=\"data row25 col21\" >0</td>\n",
              "      <td id=\"T_609ae_row25_col22\" class=\"data row25 col22\" >0</td>\n",
              "      <td id=\"T_609ae_row25_col23\" class=\"data row25 col23\" >0</td>\n",
              "      <td id=\"T_609ae_row25_col24\" class=\"data row25 col24\" >0</td>\n",
              "      <td id=\"T_609ae_row25_col25\" class=\"data row25 col25\" >0</td>\n",
              "      <td id=\"T_609ae_row25_col26\" class=\"data row25 col26\" >0</td>\n",
              "      <td id=\"T_609ae_row25_col27\" class=\"data row25 col27\" >0</td>\n",
              "    </tr>\n",
              "    <tr>\n",
              "      <th id=\"T_609ae_level0_row26\" class=\"row_heading level0 row26\" >26</th>\n",
              "      <td id=\"T_609ae_row26_col0\" class=\"data row26 col0\" >0</td>\n",
              "      <td id=\"T_609ae_row26_col1\" class=\"data row26 col1\" >0</td>\n",
              "      <td id=\"T_609ae_row26_col2\" class=\"data row26 col2\" >0</td>\n",
              "      <td id=\"T_609ae_row26_col3\" class=\"data row26 col3\" >0</td>\n",
              "      <td id=\"T_609ae_row26_col4\" class=\"data row26 col4\" >0</td>\n",
              "      <td id=\"T_609ae_row26_col5\" class=\"data row26 col5\" >0</td>\n",
              "      <td id=\"T_609ae_row26_col6\" class=\"data row26 col6\" >0</td>\n",
              "      <td id=\"T_609ae_row26_col7\" class=\"data row26 col7\" >0</td>\n",
              "      <td id=\"T_609ae_row26_col8\" class=\"data row26 col8\" >0</td>\n",
              "      <td id=\"T_609ae_row26_col9\" class=\"data row26 col9\" >0</td>\n",
              "      <td id=\"T_609ae_row26_col10\" class=\"data row26 col10\" >0</td>\n",
              "      <td id=\"T_609ae_row26_col11\" class=\"data row26 col11\" >0</td>\n",
              "      <td id=\"T_609ae_row26_col12\" class=\"data row26 col12\" >0</td>\n",
              "      <td id=\"T_609ae_row26_col13\" class=\"data row26 col13\" >0</td>\n",
              "      <td id=\"T_609ae_row26_col14\" class=\"data row26 col14\" >0</td>\n",
              "      <td id=\"T_609ae_row26_col15\" class=\"data row26 col15\" >0</td>\n",
              "      <td id=\"T_609ae_row26_col16\" class=\"data row26 col16\" >0</td>\n",
              "      <td id=\"T_609ae_row26_col17\" class=\"data row26 col17\" >0</td>\n",
              "      <td id=\"T_609ae_row26_col18\" class=\"data row26 col18\" >0</td>\n",
              "      <td id=\"T_609ae_row26_col19\" class=\"data row26 col19\" >0</td>\n",
              "      <td id=\"T_609ae_row26_col20\" class=\"data row26 col20\" >0</td>\n",
              "      <td id=\"T_609ae_row26_col21\" class=\"data row26 col21\" >0</td>\n",
              "      <td id=\"T_609ae_row26_col22\" class=\"data row26 col22\" >0</td>\n",
              "      <td id=\"T_609ae_row26_col23\" class=\"data row26 col23\" >0</td>\n",
              "      <td id=\"T_609ae_row26_col24\" class=\"data row26 col24\" >0</td>\n",
              "      <td id=\"T_609ae_row26_col25\" class=\"data row26 col25\" >0</td>\n",
              "      <td id=\"T_609ae_row26_col26\" class=\"data row26 col26\" >0</td>\n",
              "      <td id=\"T_609ae_row26_col27\" class=\"data row26 col27\" >0</td>\n",
              "    </tr>\n",
              "    <tr>\n",
              "      <th id=\"T_609ae_level0_row27\" class=\"row_heading level0 row27\" >27</th>\n",
              "      <td id=\"T_609ae_row27_col0\" class=\"data row27 col0\" >0</td>\n",
              "      <td id=\"T_609ae_row27_col1\" class=\"data row27 col1\" >0</td>\n",
              "      <td id=\"T_609ae_row27_col2\" class=\"data row27 col2\" >0</td>\n",
              "      <td id=\"T_609ae_row27_col3\" class=\"data row27 col3\" >0</td>\n",
              "      <td id=\"T_609ae_row27_col4\" class=\"data row27 col4\" >0</td>\n",
              "      <td id=\"T_609ae_row27_col5\" class=\"data row27 col5\" >0</td>\n",
              "      <td id=\"T_609ae_row27_col6\" class=\"data row27 col6\" >0</td>\n",
              "      <td id=\"T_609ae_row27_col7\" class=\"data row27 col7\" >0</td>\n",
              "      <td id=\"T_609ae_row27_col8\" class=\"data row27 col8\" >0</td>\n",
              "      <td id=\"T_609ae_row27_col9\" class=\"data row27 col9\" >0</td>\n",
              "      <td id=\"T_609ae_row27_col10\" class=\"data row27 col10\" >0</td>\n",
              "      <td id=\"T_609ae_row27_col11\" class=\"data row27 col11\" >0</td>\n",
              "      <td id=\"T_609ae_row27_col12\" class=\"data row27 col12\" >0</td>\n",
              "      <td id=\"T_609ae_row27_col13\" class=\"data row27 col13\" >0</td>\n",
              "      <td id=\"T_609ae_row27_col14\" class=\"data row27 col14\" >0</td>\n",
              "      <td id=\"T_609ae_row27_col15\" class=\"data row27 col15\" >0</td>\n",
              "      <td id=\"T_609ae_row27_col16\" class=\"data row27 col16\" >0</td>\n",
              "      <td id=\"T_609ae_row27_col17\" class=\"data row27 col17\" >0</td>\n",
              "      <td id=\"T_609ae_row27_col18\" class=\"data row27 col18\" >0</td>\n",
              "      <td id=\"T_609ae_row27_col19\" class=\"data row27 col19\" >0</td>\n",
              "      <td id=\"T_609ae_row27_col20\" class=\"data row27 col20\" >0</td>\n",
              "      <td id=\"T_609ae_row27_col21\" class=\"data row27 col21\" >0</td>\n",
              "      <td id=\"T_609ae_row27_col22\" class=\"data row27 col22\" >0</td>\n",
              "      <td id=\"T_609ae_row27_col23\" class=\"data row27 col23\" >0</td>\n",
              "      <td id=\"T_609ae_row27_col24\" class=\"data row27 col24\" >0</td>\n",
              "      <td id=\"T_609ae_row27_col25\" class=\"data row27 col25\" >0</td>\n",
              "      <td id=\"T_609ae_row27_col26\" class=\"data row27 col26\" >0</td>\n",
              "      <td id=\"T_609ae_row27_col27\" class=\"data row27 col27\" >0</td>\n",
              "    </tr>\n",
              "  </tbody>\n",
              "</table>\n"
            ]
          },
          "metadata": {},
          "execution_count": 59
        }
      ]
    },
    {
      "cell_type": "code",
      "source": [
        "seven_tensors=[tensor(Image.open(o)) for o in sevens ]\n",
        "three_tensors=[tensor(Image.open(o)) for o in threes ]\n",
        "len(seven_tensors),len(three_tensors)"
      ],
      "metadata": {
        "colab": {
          "base_uri": "https://localhost:8080/"
        },
        "id": "KLxbjvjy4fEf",
        "outputId": "6f176054-4b4d-4a32-9cad-4fa18e889be6"
      },
      "execution_count": 23,
      "outputs": [
        {
          "output_type": "execute_result",
          "data": {
            "text/plain": [
              "(6265, 6131)"
            ]
          },
          "metadata": {},
          "execution_count": 23
        }
      ]
    },
    {
      "cell_type": "code",
      "source": [
        "stacked_sevens=torch.stack(seven_tensors).float()/255\n",
        "stacked_threes=torch.stack(three_tensors).float()/255\n",
        "stacked_threes.shape,stacked_sevens.shape"
      ],
      "metadata": {
        "colab": {
          "base_uri": "https://localhost:8080/"
        },
        "id": "oFRFz9I17Uxq",
        "outputId": "b37e9428-ac76-4058-89f7-6c7f16ec6f58"
      },
      "execution_count": 24,
      "outputs": [
        {
          "output_type": "execute_result",
          "data": {
            "text/plain": [
              "(torch.Size([6131, 28, 28]), torch.Size([6265, 28, 28]))"
            ]
          },
          "metadata": {},
          "execution_count": 24
        }
      ]
    },
    {
      "cell_type": "code",
      "source": [
        "stacked_sevens.ndim , stacked_threes.shape"
      ],
      "metadata": {
        "colab": {
          "base_uri": "https://localhost:8080/"
        },
        "id": "_pUzBu8m7pnG",
        "outputId": "311beb14-b32f-4eca-e620-4b94b48db13a"
      },
      "execution_count": 54,
      "outputs": [
        {
          "output_type": "execute_result",
          "data": {
            "text/plain": [
              "(3, torch.Size([6131, 28, 28]))"
            ]
          },
          "metadata": {},
          "execution_count": 54
        }
      ]
    },
    {
      "cell_type": "code",
      "source": [
        "mean3=stacked_threes.mean(0)\n",
        "show_image(mean3)"
      ],
      "metadata": {
        "colab": {
          "base_uri": "https://localhost:8080/",
          "height": 132
        },
        "id": "FAOMq4rDMm64",
        "outputId": "7ac949e4-7ad8-48ce-9175-dd32bf8ead3f"
      },
      "execution_count": 26,
      "outputs": [
        {
          "output_type": "execute_result",
          "data": {
            "text/plain": [
              "<Axes: >"
            ]
          },
          "metadata": {},
          "execution_count": 26
        },
        {
          "output_type": "display_data",
          "data": {
            "text/plain": [
              "<Figure size 100x100 with 1 Axes>"
            ],
            "image/png": "[encoded data removed]"
          },
          "metadata": {}
        }
      ]
    },
    {
      "cell_type": "code",
      "source": [
        "a_3 = stacked_threes[1]\n",
        "show_image(a_3)\n",
        "a_7=stacked_sevens[1]"
      ],
      "metadata": {
        "colab": {
          "base_uri": "https://localhost:8080/",
          "height": 114
        },
        "id": "6HMEv5fVM7gf",
        "outputId": "cefca904-8387-40fd-a8a7-74b660faf307"
      },
      "execution_count": 35,
      "outputs": [
        {
          "output_type": "display_data",
          "data": {
            "text/plain": [
              "<Figure size 100x100 with 1 Axes>"
            ],
            "image/png": "[encoded data removed]"
          },
          "metadata": {}
        }
      ]
    },
    {
      "cell_type": "code",
      "source": [
        "mean7=stacked_sevens.mean(0)\n",
        "show_image(mean7)\n",
        "show_image(seven_tensors[3])"
      ],
      "metadata": {
        "colab": {
          "base_uri": "https://localhost:8080/",
          "height": 229
        },
        "id": "Wwe6Om5tNCdv",
        "outputId": "a8c821d0-67c2-47fa-9e7a-1326babde8f4"
      },
      "execution_count": 28,
      "outputs": [
        {
          "output_type": "execute_result",
          "data": {
            "text/plain": [
              "<Axes: >"
            ]
          },
          "metadata": {},
          "execution_count": 28
        },
        {
          "output_type": "display_data",
          "data": {
            "text/plain": [
              "<Figure size 100x100 with 1 Axes>"
            ],
            "image/png": "[encoded data removed]"
          },
          "metadata": {}
        },
        {
          "output_type": "display_data",
          "data": {
            "text/plain": [
              "<Figure size 100x100 with 1 Axes>"
            ],
            "image/png": "[encoded data removed]"
          },
          "metadata": {}
        }
      ]
    },
    {
      "cell_type": "code",
      "source": [
        "dist_3_abs=(mean3-a_3).abs().mean()\n",
        "dist_3_sqr=((mean3-a_3)**2).mean().sqrt()\n",
        "dist_3_abs,dist_3_sqr"
      ],
      "metadata": {
        "colab": {
          "base_uri": "https://localhost:8080/"
        },
        "id": "_x8dz-r5OZus",
        "outputId": "99a6ef30-5983-404c-d21c-3e191033b81c"
      },
      "execution_count": 37,
      "outputs": [
        {
          "output_type": "execute_result",
          "data": {
            "text/plain": [
              "(tensor(0.1114), tensor(0.2021))"
            ]
          },
          "metadata": {},
          "execution_count": 37
        }
      ]
    },
    {
      "cell_type": "code",
      "source": [
        "dist_7_abs_t3=(mean7-a_3).abs().mean()\n",
        "dist_7_sqr_t3=((mean7-a_3)**2).mean().sqrt()\n",
        "dist_7_abs_t3,dist_7_sqr_t3\n",
        "\n",
        "\n",
        "\n",
        "     \n"
      ],
      "metadata": {
        "colab": {
          "base_uri": "https://localhost:8080/"
        },
        "id": "jMsCZSS0P7Kz",
        "outputId": "402290f3-ef8f-46ad-cd5e-3f9ed13bf559"
      },
      "execution_count": 40,
      "outputs": [
        {
          "output_type": "execute_result",
          "data": {
            "text/plain": [
              "(tensor(0.1586), tensor(0.3021))"
            ]
          },
          "metadata": {},
          "execution_count": 40
        }
      ]
    },
    {
      "cell_type": "code",
      "source": [
        "F.l1_loss(a_3.float(),mean7), F.mse_loss(a_3,mean7).sqrt()"
      ],
      "metadata": {
        "colab": {
          "base_uri": "https://localhost:8080/"
        },
        "id": "3rZhrT8jVugb",
        "outputId": "a4a4d3df-2aeb-49ad-f99e-19666ca94e57"
      },
      "execution_count": 41,
      "outputs": [
        {
          "output_type": "execute_result",
          "data": {
            "text/plain": [
              "(tensor(0.1586), tensor(0.3021))"
            ]
          },
          "metadata": {},
          "execution_count": 41
        }
      ]
    },
    {
      "cell_type": "code",
      "source": [
        "dist_7_abs_t=(mean7-a_7).abs().mean()\n",
        "dist_7_sqr_t=((mean7-a_7)**2).mean().sqrt()\n",
        "dist_7_abs_t,dist_7_sqr_t"
      ],
      "metadata": {
        "colab": {
          "base_uri": "https://localhost:8080/"
        },
        "id": "FiQWX1fkRal6",
        "outputId": "ba4696a3-bf78-4bb7-b525-6bc36f0b2eed"
      },
      "execution_count": 36,
      "outputs": [
        {
          "output_type": "execute_result",
          "data": {
            "text/plain": [
              "(tensor(0.1304), tensor(0.2585))"
            ]
          },
          "metadata": {},
          "execution_count": 36
        }
      ]
    },
    {
      "cell_type": "code",
      "source": [
        "dist_3_abs_t7=(mean3-a_7).abs().mean()\n",
        "dist_3_sqr_t7=((mean3-a_7)**2).mean().sqrt()\n",
        "dist_3_abs_t7,dist_3_sqr_t7"
      ],
      "metadata": {
        "colab": {
          "base_uri": "https://localhost:8080/"
        },
        "id": "yRfYRHgiUScL",
        "outputId": "80db07e5-c024-43fc-d964-a0f1af2f99d6"
      },
      "execution_count": 38,
      "outputs": [
        {
          "output_type": "execute_result",
          "data": {
            "text/plain": [
              "(tensor(0.1854), tensor(0.3271))"
            ]
          },
          "metadata": {},
          "execution_count": 38
        }
      ]
    },
    {
      "cell_type": "code",
      "source": [
        "valid_3_tens = torch.stack([tensor(Image.open(o)) for o in (path/'valid/3').ls() ]) \n",
        "valid_3_tens=valid_3_tens.float()/255\n",
        "valid_7_tens=torch.stack([tensor(Image.open(o)) for o in (path/'valid/7').ls()])\n",
        "valid_7_tens=valid_7_tens.float()/255\n"
      ],
      "metadata": {
        "id": "2E-JaWb2UfdO"
      },
      "execution_count": 45,
      "outputs": []
    },
    {
      "cell_type": "code",
      "source": [
        "valid_3_tens.shape,valid_7_tens.shape"
      ],
      "metadata": {
        "colab": {
          "base_uri": "https://localhost:8080/"
        },
        "id": "rBuU-bSZW3FM",
        "outputId": "1488b38a-e40c-4b89-e3ac-662035bf248a"
      },
      "execution_count": 46,
      "outputs": [
        {
          "output_type": "execute_result",
          "data": {
            "text/plain": [
              "(torch.Size([1010, 28, 28]), torch.Size([1028, 28, 28]))"
            ]
          },
          "metadata": {},
          "execution_count": 46
        }
      ]
    },
    {
      "cell_type": "code",
      "source": [
        "def mnist_distance(a,b):\n",
        "  return (a-b).abs().mean((-1,-2))"
      ],
      "metadata": {
        "id": "YiJAknLKX2xv"
      },
      "execution_count": 47,
      "outputs": []
    },
    {
      "cell_type": "code",
      "source": [
        "mnist_distance(a_3,mean3)"
      ],
      "metadata": {
        "colab": {
          "base_uri": "https://localhost:8080/"
        },
        "id": "tkaoTP__ZZ5-",
        "outputId": "3573ed9e-ba9f-4c5f-fc13-4616c9caa5d2"
      },
      "execution_count": 48,
      "outputs": [
        {
          "output_type": "execute_result",
          "data": {
            "text/plain": [
              "tensor(0.1114)"
            ]
          },
          "metadata": {},
          "execution_count": 48
        }
      ]
    },
    {
      "cell_type": "code",
      "source": [
        "\n",
        "valid_3_dist = mnist_distance(valid_3_tens, mean3)\n",
        "valid_3_dist, valid_3_dist.shape"
      ],
      "metadata": {
        "colab": {
          "base_uri": "https://localhost:8080/"
        },
        "id": "T3Frem9yZeVI",
        "outputId": "c1e14b26-32e1-41d6-c5cd-3a5e7531de83"
      },
      "execution_count": 52,
      "outputs": [
        {
          "output_type": "execute_result",
          "data": {
            "text/plain": [
              "(tensor([0.1286, 0.1162, 0.1272,  ..., 0.1469, 0.1403, 0.1380]),\n",
              " torch.Size([1010]))"
            ]
          },
          "metadata": {},
          "execution_count": 52
        }
      ]
    },
    {
      "cell_type": "code",
      "source": [
        "mean3.shape"
      ],
      "metadata": {
        "colab": {
          "base_uri": "https://localhost:8080/"
        },
        "id": "oICpsmG0Zj09",
        "outputId": "7f1fc900-da5d-4c56-8055-67b972286d4d"
      },
      "execution_count": 53,
      "outputs": [
        {
          "output_type": "execute_result",
          "data": {
            "text/plain": [
              "torch.Size([28, 28])"
            ]
          },
          "metadata": {},
          "execution_count": 53
        }
      ]
    },
    {
      "cell_type": "code",
      "source": [
        "def is_3(x):\n",
        "  return mnist_distance(mean3,x)<mnist_distance(mean7,x)"
      ],
      "metadata": {
        "id": "qoLPp-D9bN95"
      },
      "execution_count": 55,
      "outputs": []
    },
    {
      "cell_type": "code",
      "source": [
        "is_3(stacked_sevens[2])"
      ],
      "metadata": {
        "colab": {
          "base_uri": "https://localhost:8080/"
        },
        "id": "TrgkXSlCb901",
        "outputId": "4262096e-42a3-425d-babe-19bdc9fca278"
      },
      "execution_count": 56,
      "outputs": [
        {
          "output_type": "execute_result",
          "data": {
            "text/plain": [
              "tensor(False)"
            ]
          },
          "metadata": {},
          "execution_count": 56
        }
      ]
    },
    {
      "cell_type": "code",
      "source": [
        "is_3(stacked_threes[9])"
      ],
      "metadata": {
        "colab": {
          "base_uri": "https://localhost:8080/"
        },
        "id": "m5lN59tqcBoY",
        "outputId": "b37e1538-721f-47ed-a5bd-aff500fbd15c"
      },
      "execution_count": 57,
      "outputs": [
        {
          "output_type": "execute_result",
          "data": {
            "text/plain": [
              "tensor(True)"
            ]
          },
          "metadata": {},
          "execution_count": 57
        }
      ]
    },
    {
      "cell_type": "code",
      "source": [
        "accuracy3 = is_3(valid_3_tens).float().mean()\n",
        "accuracy7=1- is_3(valid_7_tens).float().mean()\n",
        "print(accuracy3,accuracy7)\n"
      ],
      "metadata": {
        "colab": {
          "base_uri": "https://localhost:8080/"
        },
        "id": "_klcNrkfcGtf",
        "outputId": "61551246-e105-47c4-813c-b174a25f6a3f"
      },
      "execution_count": 60,
      "outputs": [
        {
          "output_type": "stream",
          "name": "stdout",
          "text": [
            "tensor(0.9168) tensor(0.9854)\n"
          ]
        }
      ]
    },
    {
      "cell_type": "code",
      "source": [
        "def f(x): return x**2"
      ],
      "metadata": {
        "id": "lFpUN9vZecZp"
      },
      "execution_count": 61,
      "outputs": []
    },
    {
      "cell_type": "code",
      "source": [
        "plot_function(f,'x','x**2')"
      ],
      "metadata": {
        "colab": {
          "base_uri": "https://localhost:8080/",
          "height": 396
        },
        "id": "gSK_UgqNgYGA",
        "outputId": "fddf5048-a01d-4551-ab92-ce8ac54eea69"
      },
      "execution_count": 62,
      "outputs": [
        {
          "output_type": "display_data",
          "data": {
            "text/plain": [
              "<Figure size 600x400 with 1 Axes>"
            ],
            "image/png": "[encoded data removed]"
          },
          "metadata": {}
        }
      ]
    },
    {
      "cell_type": "code",
      "source": [],
      "metadata": {
        "id": "qD0eWl5Ige9b"
      },
      "execution_count": null,
      "outputs": []
    }
  ]
}